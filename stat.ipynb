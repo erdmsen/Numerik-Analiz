{
 "cells": [
  {
   "cell_type": "code",
   "execution_count": 4,
   "id": "218b638b-28f6-471b-99b3-86f6c76d1773",
   "metadata": {},
   "outputs": [],
   "source": [
    "%reset -f"
   ]
  },
  {
   "cell_type": "code",
   "execution_count": 5,
   "id": "cb82fca4-898e-4383-9c97-9fd761b3f569",
   "metadata": {},
   "outputs": [],
   "source": [
    "import numpy as np\n",
    "import pandas as pd\n",
    "import math as m\n",
    "from scipy import special as sp\n",
    "import matplotlib.pyplot as plt"
   ]
  },
  {
   "cell_type": "code",
   "execution_count": 6,
   "id": "0da1b043-2924-49a0-81fb-5589b2b99fbc",
   "metadata": {},
   "outputs": [],
   "source": [
    "def N(mu,sigma,n): return np.random.normal(mu,sigma,n)"
   ]
  },
  {
   "cell_type": "code",
   "execution_count": 7,
   "id": "8d88e695-d3ad-4031-b0d4-8c5fbf41b9aa",
   "metadata": {},
   "outputs": [
    {
     "data": {
      "text/html": [
       "<div>\n",
       "<style scoped>\n",
       "    .dataframe tbody tr th:only-of-type {\n",
       "        vertical-align: middle;\n",
       "    }\n",
       "\n",
       "    .dataframe tbody tr th {\n",
       "        vertical-align: top;\n",
       "    }\n",
       "\n",
       "    .dataframe thead th {\n",
       "        text-align: right;\n",
       "    }\n",
       "</style>\n",
       "<table border=\"1\" class=\"dataframe\">\n",
       "  <thead>\n",
       "    <tr style=\"text-align: right;\">\n",
       "      <th></th>\n",
       "      <th>x0</th>\n",
       "      <th>x1</th>\n",
       "      <th>x2</th>\n",
       "      <th>x3</th>\n",
       "      <th>x4</th>\n",
       "      <th>x5</th>\n",
       "      <th>x6</th>\n",
       "      <th>x7</th>\n",
       "      <th>x8</th>\n",
       "      <th>x9</th>\n",
       "    </tr>\n",
       "  </thead>\n",
       "  <tbody>\n",
       "    <tr>\n",
       "      <th>x0</th>\n",
       "      <td>1.000000</td>\n",
       "      <td>-0.005743</td>\n",
       "      <td>0.011545</td>\n",
       "      <td>0.042309</td>\n",
       "      <td>-0.008568</td>\n",
       "      <td>-0.044097</td>\n",
       "      <td>-0.040039</td>\n",
       "      <td>-0.001604</td>\n",
       "      <td>-0.013912</td>\n",
       "      <td>0.014172</td>\n",
       "    </tr>\n",
       "    <tr>\n",
       "      <th>x1</th>\n",
       "      <td>-0.005743</td>\n",
       "      <td>1.000000</td>\n",
       "      <td>0.015599</td>\n",
       "      <td>-0.012323</td>\n",
       "      <td>-0.008805</td>\n",
       "      <td>0.019395</td>\n",
       "      <td>-0.008665</td>\n",
       "      <td>-0.034136</td>\n",
       "      <td>0.031573</td>\n",
       "      <td>-0.022272</td>\n",
       "    </tr>\n",
       "    <tr>\n",
       "      <th>x2</th>\n",
       "      <td>0.011545</td>\n",
       "      <td>0.015599</td>\n",
       "      <td>1.000000</td>\n",
       "      <td>-0.055595</td>\n",
       "      <td>0.000509</td>\n",
       "      <td>0.065604</td>\n",
       "      <td>-0.041778</td>\n",
       "      <td>-0.047645</td>\n",
       "      <td>-0.045693</td>\n",
       "      <td>0.011572</td>\n",
       "    </tr>\n",
       "    <tr>\n",
       "      <th>x3</th>\n",
       "      <td>0.042309</td>\n",
       "      <td>-0.012323</td>\n",
       "      <td>-0.055595</td>\n",
       "      <td>1.000000</td>\n",
       "      <td>0.007781</td>\n",
       "      <td>-0.040972</td>\n",
       "      <td>-0.039181</td>\n",
       "      <td>0.015256</td>\n",
       "      <td>-0.031987</td>\n",
       "      <td>0.078178</td>\n",
       "    </tr>\n",
       "    <tr>\n",
       "      <th>x4</th>\n",
       "      <td>-0.008568</td>\n",
       "      <td>-0.008805</td>\n",
       "      <td>0.000509</td>\n",
       "      <td>0.007781</td>\n",
       "      <td>1.000000</td>\n",
       "      <td>-0.002973</td>\n",
       "      <td>-0.072345</td>\n",
       "      <td>0.000450</td>\n",
       "      <td>0.047743</td>\n",
       "      <td>0.017598</td>\n",
       "    </tr>\n",
       "    <tr>\n",
       "      <th>x5</th>\n",
       "      <td>-0.044097</td>\n",
       "      <td>0.019395</td>\n",
       "      <td>0.065604</td>\n",
       "      <td>-0.040972</td>\n",
       "      <td>-0.002973</td>\n",
       "      <td>1.000000</td>\n",
       "      <td>0.053525</td>\n",
       "      <td>0.022243</td>\n",
       "      <td>-0.000599</td>\n",
       "      <td>-0.034421</td>\n",
       "    </tr>\n",
       "    <tr>\n",
       "      <th>x6</th>\n",
       "      <td>-0.040039</td>\n",
       "      <td>-0.008665</td>\n",
       "      <td>-0.041778</td>\n",
       "      <td>-0.039181</td>\n",
       "      <td>-0.072345</td>\n",
       "      <td>0.053525</td>\n",
       "      <td>1.000000</td>\n",
       "      <td>0.019633</td>\n",
       "      <td>-0.017098</td>\n",
       "      <td>-0.020581</td>\n",
       "    </tr>\n",
       "    <tr>\n",
       "      <th>x7</th>\n",
       "      <td>-0.001604</td>\n",
       "      <td>-0.034136</td>\n",
       "      <td>-0.047645</td>\n",
       "      <td>0.015256</td>\n",
       "      <td>0.000450</td>\n",
       "      <td>0.022243</td>\n",
       "      <td>0.019633</td>\n",
       "      <td>1.000000</td>\n",
       "      <td>0.005199</td>\n",
       "      <td>-0.015729</td>\n",
       "    </tr>\n",
       "    <tr>\n",
       "      <th>x8</th>\n",
       "      <td>-0.013912</td>\n",
       "      <td>0.031573</td>\n",
       "      <td>-0.045693</td>\n",
       "      <td>-0.031987</td>\n",
       "      <td>0.047743</td>\n",
       "      <td>-0.000599</td>\n",
       "      <td>-0.017098</td>\n",
       "      <td>0.005199</td>\n",
       "      <td>1.000000</td>\n",
       "      <td>-0.031705</td>\n",
       "    </tr>\n",
       "    <tr>\n",
       "      <th>x9</th>\n",
       "      <td>0.014172</td>\n",
       "      <td>-0.022272</td>\n",
       "      <td>0.011572</td>\n",
       "      <td>0.078178</td>\n",
       "      <td>0.017598</td>\n",
       "      <td>-0.034421</td>\n",
       "      <td>-0.020581</td>\n",
       "      <td>-0.015729</td>\n",
       "      <td>-0.031705</td>\n",
       "      <td>1.000000</td>\n",
       "    </tr>\n",
       "  </tbody>\n",
       "</table>\n",
       "</div>"
      ],
      "text/plain": [
       "          x0        x1        x2        x3        x4        x5        x6  \\\n",
       "x0  1.000000 -0.005743  0.011545  0.042309 -0.008568 -0.044097 -0.040039   \n",
       "x1 -0.005743  1.000000  0.015599 -0.012323 -0.008805  0.019395 -0.008665   \n",
       "x2  0.011545  0.015599  1.000000 -0.055595  0.000509  0.065604 -0.041778   \n",
       "x3  0.042309 -0.012323 -0.055595  1.000000  0.007781 -0.040972 -0.039181   \n",
       "x4 -0.008568 -0.008805  0.000509  0.007781  1.000000 -0.002973 -0.072345   \n",
       "x5 -0.044097  0.019395  0.065604 -0.040972 -0.002973  1.000000  0.053525   \n",
       "x6 -0.040039 -0.008665 -0.041778 -0.039181 -0.072345  0.053525  1.000000   \n",
       "x7 -0.001604 -0.034136 -0.047645  0.015256  0.000450  0.022243  0.019633   \n",
       "x8 -0.013912  0.031573 -0.045693 -0.031987  0.047743 -0.000599 -0.017098   \n",
       "x9  0.014172 -0.022272  0.011572  0.078178  0.017598 -0.034421 -0.020581   \n",
       "\n",
       "          x7        x8        x9  \n",
       "x0 -0.001604 -0.013912  0.014172  \n",
       "x1 -0.034136  0.031573 -0.022272  \n",
       "x2 -0.047645 -0.045693  0.011572  \n",
       "x3  0.015256 -0.031987  0.078178  \n",
       "x4  0.000450  0.047743  0.017598  \n",
       "x5  0.022243 -0.000599 -0.034421  \n",
       "x6  0.019633 -0.017098 -0.020581  \n",
       "x7  1.000000  0.005199 -0.015729  \n",
       "x8  0.005199  1.000000 -0.031705  \n",
       "x9 -0.015729 -0.031705  1.000000  "
      ]
     },
     "execution_count": 7,
     "metadata": {},
     "output_type": "execute_result"
    }
   ],
   "source": [
    "n=1000\n",
    "data = {\n",
    "    'x0': N(0,1,n),\n",
    "    'x1': N(0,1,n),\n",
    "    'x2': N(0,1,n),\n",
    "    'x3': N(0,1,n),\n",
    "    'x4': N(0,1,n),\n",
    "    'x5': N(0,1,n),\n",
    "    'x6': N(0,1,n),\n",
    "    'x7': N(0,1,n),\n",
    "    'x8': N(0,1,n),\n",
    "    'x9': N(0,1,n)\n",
    "}\n",
    "\n",
    "df = pd.DataFrame(data, columns=['x0','x1','x2','x3','x4','x5','x6','x7','x8','x9']) \n",
    "# correlation matrix\n",
    "df.corr()"
   ]
  },
  {
   "cell_type": "code",
   "execution_count": 107,
   "id": "7420b4b4-781d-4a9b-aae4-70cc04428177",
   "metadata": {},
   "outputs": [],
   "source": [
    "st.kstest(dat, st.norm.cdf(x,0.9))"
   ]
  },
  {
   "cell_type": "code",
   "execution_count": 107,
   "id": "05262037-1ab7-4773-bfd4-4b8e4b180671",
   "metadata": {},
   "outputs": [],
   "source": [
    "x = np.array(data['x3'])\n",
    "e = np.array(data['x5']) # choose the minimum correlation from above"
   ]
  },
  {
   "cell_type": "code",
   "execution_count": 110,
   "id": "35a84578-1301-4d4e-b945-507070eaad06",
   "metadata": {},
   "outputs": [
    {
     "data": {
      "text/plain": [
       "<function matplotlib.pyplot.show(close=None, block=None)>"
      ]
     },
     "execution_count": 110,
     "metadata": {},
     "output_type": "execute_result"
    },
    {
     "data": {
      "image/png": "[encoded data removed]",
      "text/plain": [
       "<Figure size 432x288 with 4 Axes>"
      ]
     },
     "metadata": {
      "needs_background": "light"
     },
     "output_type": "display_data"
    }
   ],
   "source": [
    "Ce = 0.03\n",
    "\n",
    "y0 = e\n",
    "m1=(.5+ .5*sp.erf(x))\n",
    "y1 = (1.503 * x) + Ce*e\n",
    "y2 = m1 + Ce*e\n",
    "y3 = (1.503 * (x**2)) + Ce*e\n",
    "\n",
    "kwargs={'lw':0.01}\n",
    "fig, axs = plt.subplots(2, 2)\n",
    "axs[0, 0].scatter(x, y0, c ='c', marker='.' ,**kwargs) \n",
    "axs[0, 0].set_title('y0, x')\n",
    "axs[0, 1].scatter(x, y1, c ='c', marker='.' ,**kwargs) \n",
    "axs[0, 1].set_title('y1, x')\n",
    "axs[1, 0].scatter(x, y2, c ='c', marker='.' ,**kwargs) \n",
    "axs[1, 0].set_title('y2, x')\n",
    "axs[1, 1].scatter(x, y3, c ='c', marker='.' ,**kwargs) \n",
    "axs[1, 1].set_title('y3, x')\n",
    "\n",
    "#filled_markers = ('o', 'v', '^', '<', '>', '8', 's', 'p', '*', 'h', 'H', 'D', 'd', 'P', 'X')\n",
    "#fillstyles = ('full', 'left', 'right', 'bottom', 'top', 'none')\n",
    "\n",
    "#for ax in axs.flat:    ax.set(xlabel='x-label', ylabel='y-label')\n",
    "# Hide x labels and tick labels for top plots and y ticks for right plots.\n",
    "for ax in axs.flat:    ax.label_outer()\n",
    "plt.show"
   ]
  },
  {
   "cell_type": "code",
   "execution_count": 112,
   "id": "ddef3f95-c697-4d23-adfa-6bc00d867f43",
   "metadata": {},
   "outputs": [
    {
     "data": {
      "image/png": "[encoded data removed]",
      "text/plain": [
       "<Figure size 432x288 with 1 Axes>"
      ]
     },
     "metadata": {
      "needs_background": "light"
     },
     "output_type": "display_data"
    }
   ],
   "source": [
    "a = m1\n",
    "b = y2\n",
    "\n",
    "z = a/b\n",
    "plt.hist(m1, bins=100)\n",
    "plt.gca().set(title='Frequency Histogram', ylabel='Frequency');"
   ]
  },
  {
   "cell_type": "code",
   "execution_count": 95,
   "id": "7302259b-d18b-46a4-88f3-57431f596f16",
   "metadata": {
    "tags": []
   },
   "outputs": [],
   "source": [
    "from IPython.display import SVG, display\n",
    "SVG(\"sgm.svg\")"
   ]
  },
  {
   "cell_type": "markdown",
   "id": "aabd74c3-e4f9-421c-a476-1a31a57f67b5",
   "metadata": {
    "tags": []
   },
   "source": [
    "# Fitter"
   ]
  },
  {
   "cell_type": "code",
   "execution_count": 1,
   "id": "6ddb6242-e4c0-409d-9a0c-83411e9a8c72",
   "metadata": {
    "tags": []
   },
   "outputs": [],
   "source": [
    "%reset -f"
   ]
  },
  {
   "cell_type": "code",
   "execution_count": 2,
   "id": "3a048c86-444d-438e-8705-8bfb45f00035",
   "metadata": {
    "tags": []
   },
   "outputs": [],
   "source": [
    "from fitter import Fitter\n",
    "import numpy as np\n",
    "import pandas as pd\n",
    "import seaborn as sns\n",
    "import scipy.stats as st\n",
    "sns.set_theme()\n",
    "\n",
    "dat = open('310510_sum.txt', 'r')\n",
    "dat = dat.read().replace(',','.')\n",
    "dat = [float(x) for x in dat.split(' ')]\n",
    "    # given your data is seperated with space, as you give it\n",
    "dat.sort()"
   ]
  },
  {
   "cell_type": "code",
   "execution_count": 3,
   "id": "dcdc36e8-835c-4c08-b94d-8cf72ab3f813",
   "metadata": {
    "tags": []
   },
   "outputs": [
    {
     "data": {
      "text/html": [
       "<div>\n",
       "<style scoped>\n",
       "    .dataframe tbody tr th:only-of-type {\n",
       "        vertical-align: middle;\n",
       "    }\n",
       "\n",
       "    .dataframe tbody tr th {\n",
       "        vertical-align: top;\n",
       "    }\n",
       "\n",
       "    .dataframe thead th {\n",
       "        text-align: right;\n",
       "    }\n",
       "</style>\n",
       "<table border=\"1\" class=\"dataframe\">\n",
       "  <thead>\n",
       "    <tr style=\"text-align: right;\">\n",
       "      <th></th>\n",
       "      <th>sumsquare_error</th>\n",
       "      <th>aic</th>\n",
       "      <th>bic</th>\n",
       "      <th>kl_div</th>\n",
       "    </tr>\n",
       "  </thead>\n",
       "  <tbody>\n",
       "    <tr>\n",
       "      <th>alpha</th>\n",
       "      <td>0.005247</td>\n",
       "      <td>1445.609201</td>\n",
       "      <td>-2371.999607</td>\n",
       "      <td>inf</td>\n",
       "    </tr>\n",
       "    <tr>\n",
       "      <th>burr</th>\n",
       "      <td>0.005522</td>\n",
       "      <td>1451.205113</td>\n",
       "      <td>-2355.145932</td>\n",
       "      <td>inf</td>\n",
       "    </tr>\n",
       "    <tr>\n",
       "      <th>lognorm</th>\n",
       "      <td>0.006695</td>\n",
       "      <td>1442.349419</td>\n",
       "      <td>-2317.404683</td>\n",
       "      <td>inf</td>\n",
       "    </tr>\n",
       "    <tr>\n",
       "      <th>rayleigh</th>\n",
       "      <td>0.016285</td>\n",
       "      <td>1762.926582</td>\n",
       "      <td>-2123.713896</td>\n",
       "      <td>inf</td>\n",
       "    </tr>\n",
       "  </tbody>\n",
       "</table>\n",
       "</div>"
      ],
      "text/plain": [
       "          sumsquare_error          aic          bic  kl_div\n",
       "alpha            0.005247  1445.609201 -2371.999607     inf\n",
       "burr             0.005522  1451.205113 -2355.145932     inf\n",
       "lognorm          0.006695  1442.349419 -2317.404683     inf\n",
       "rayleigh         0.016285  1762.926582 -2123.713896     inf"
      ]
     },
     "execution_count": 3,
     "metadata": {},
     "output_type": "execute_result"
    },
    {
     "data": {
      "image/png": "[encoded data removed]",
      "text/plain": [
       "<Figure size 432x288 with 1 Axes>"
      ]
     },
     "metadata": {},
     "output_type": "display_data"
    }
   ],
   "source": [
    "f = Fitter(dat,distributions=['alpha','rayleigh',\"burr\",\"lognorm\",'gamma',''])\n",
    "f.fit()\n",
    "f.summary()"
   ]
  },
  {
   "cell_type": "code",
   "execution_count": 7,
   "id": "95b859e4-5df3-4aea-a4af-06240145082d",
   "metadata": {
    "tags": []
   },
   "outputs": [
    {
     "data": {
      "text/html": [
       "<div>\n",
       "<style scoped>\n",
       "    .dataframe tbody tr th:only-of-type {\n",
       "        vertical-align: middle;\n",
       "    }\n",
       "\n",
       "    .dataframe tbody tr th {\n",
       "        vertical-align: top;\n",
       "    }\n",
       "\n",
       "    .dataframe thead th {\n",
       "        text-align: right;\n",
       "    }\n",
       "</style>\n",
       "<table border=\"1\" class=\"dataframe\">\n",
       "  <thead>\n",
       "    <tr style=\"text-align: right;\">\n",
       "      <th></th>\n",
       "      <th>a</th>\n",
       "      <th>loc</th>\n",
       "      <th>scale</th>\n",
       "    </tr>\n",
       "  </thead>\n",
       "  <tbody>\n",
       "    <tr>\n",
       "      <th>alpha</th>\n",
       "      <td>1.135187</td>\n",
       "      <td>-4.662002</td>\n",
       "      <td>18.939404</td>\n",
       "    </tr>\n",
       "  </tbody>\n",
       "</table>\n",
       "</div>"
      ],
      "text/plain": [
       "              a       loc      scale\n",
       "alpha  1.135187 -4.662002  18.939404"
      ]
     },
     "execution_count": 7,
     "metadata": {},
     "output_type": "execute_result"
    }
   ],
   "source": [
    "rslt = f.get_best(method = 'sumsquare_error')\n",
    "pd.DataFrame.from_dict(rslt, orient='index')"
   ]
  },
  {
   "cell_type": "code",
   "execution_count": 10,
   "id": "4a676ad1-0c7d-43cc-a954-aa9d86a86406",
   "metadata": {
    "tags": []
   },
   "outputs": [
    {
     "name": "stdout",
     "output_type": "stream",
     "text": [
      "H₀ is rejected\n"
     ]
    }
   ],
   "source": [
    "x = np.linspace(0,100,1000_000)\n",
    "p = st.kstest(dat, st.rayleigh.cdf(x, rslt['alpha']['a']))[1]\n",
    "if p < .05: print('H₀ is rejected, proposed distribution denied')\n",
    "else: print('H₀ can not be rejected')"
   ]
  }
 ],
 "metadata": {
  "kernelspec": {
   "display_name": "Python 3 (ipykernel)",
   "language": "python",
   "name": "python3"
  },
  "language_info": {
   "codemirror_mode": {
    "name": "ipython",
    "version": 3
   },
   "file_extension": ".py",
   "mimetype": "text/x-python",
   "name": "python",
   "nbconvert_exporter": "python",
   "pygments_lexer": "ipython3",
   "version": "3.10.1"
  }
 },
 "nbformat": 4,
 "nbformat_minor": 5
}
