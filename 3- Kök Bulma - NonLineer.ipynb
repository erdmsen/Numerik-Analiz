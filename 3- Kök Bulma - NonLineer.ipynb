{
 "cells": [
  {
   "cell_type": "markdown",
   "metadata": {},
   "source": [
    "# Bisection (Aralık Yarılama/Bölme)"
   ]
  },
  {
   "cell_type": "code",
   "execution_count": 49,
   "metadata": {},
   "outputs": [],
   "source": [
    "%reset -f"
   ]
  },
  {
   "cell_type": "code",
   "execution_count": 50,
   "metadata": {},
   "outputs": [],
   "source": [
    "import numpy as np\n",
    "import math"
   ]
  },
  {
   "cell_type": "code",
   "execution_count": 51,
   "metadata": {},
   "outputs": [],
   "source": [
    "def f(x): return 4.5*x-2*np.sin(x)\n",
    "a,b = 0,1\n",
    "n = 2 # tekrar sayısı"
   ]
  },
  {
   "cell_type": "code",
   "execution_count": 52,
   "metadata": {},
   "outputs": [],
   "source": [
    "sign = lambda x: math.copysign(1, x)"
   ]
  },
  {
   "cell_type": "code",
   "execution_count": 56,
   "metadata": {},
   "outputs": [
    {
     "name": "stdout",
     "output_type": "stream",
     "text": [
      " 1.tekrar \tkök: 0.000 \tf(x)=0.000\n",
      " 2.tekrar \tkök: 0.000 \tf(x)=0.000\n"
     ]
    }
   ],
   "source": [
    "for i in range(n):\n",
    "    fa=f(a)\n",
    "    fb=f(b)\n",
    "    if fa*fb<0:\n",
    "        c=(a+b)/2\n",
    "        fc=f(c)\n",
    "        if sign(fa) != sign(fc): b=c\n",
    "        else: a=c\n",
    "        print('%2d.tekrar \\ta=%.4f \\tb=%.3f \\tc=%.3f \\tf(x)=%.3f' % (i+1,a,b,c,fc))\n",
    "    elif (fa==0 or  fb==0): \n",
    "        if f(a)==0: print('%2d.tekrar \\tkök: %.3f \\tf(x)=%.3f' % (i+1,a,fa))\n",
    "        else: print('%2d.tekrar \\tkök: %.3f \\tf(x)=%.3f' % (i+1,b,fb))\n",
    "    else: print('%2d.tekrar  \\tf(a)*f(b)>0 \\tyani kök yok' % (i+1))"
   ]
  },
  {
   "cell_type": "markdown",
   "metadata": {},
   "source": [
    "# Regula-Falsi"
   ]
  },
  {
   "cell_type": "code",
   "execution_count": 137,
   "metadata": {},
   "outputs": [],
   "source": [
    "%reset -f"
   ]
  },
  {
   "cell_type": "code",
   "execution_count": 138,
   "metadata": {},
   "outputs": [],
   "source": [
    "import numpy as np\n",
    "import math"
   ]
  },
  {
   "cell_type": "code",
   "execution_count": 139,
   "metadata": {},
   "outputs": [],
   "source": [
    "def f(x): return np.cos(x)+np.sin(x)+np.exp(x)-8\n",
    "a,b = 1,4\n",
    "n = 4 # tekrar sayısı"
   ]
  },
  {
   "cell_type": "code",
   "execution_count": 140,
   "metadata": {},
   "outputs": [],
   "source": [
    "sign = lambda x: math.copysign(1, x)"
   ]
  },
  {
   "cell_type": "code",
   "execution_count": 141,
   "metadata": {},
   "outputs": [
    {
     "name": "stdout",
     "output_type": "stream",
     "text": [
      " 1.tekrar \ta=1.238 \tb=4.000 \tc=1.238\n",
      " 2.tekrar \ta=1.425 \tb=4.000 \tc=1.425\n",
      " 3.tekrar \ta=1.571 \tb=4.000 \tc=1.571\n",
      " 4.tekrar \ta=1.683 \tb=4.000 \tc=1.683\n"
     ]
    }
   ],
   "source": [
    "for i in range(n):\n",
    "    fa,fb=f(a),f(b)\n",
    "    if sign(fa) != sign(fb):\n",
    "        c= (a*fb-b*fa)/(fb-fa)\n",
    "        if sign(fa) != sign(f(c)): b=c\n",
    "        else: a=c\n",
    "        print('%2d.tekrar \\ta=%.3f \\tb=%.3f \\tc=%.3f' % (i+1,a,b,c))\n",
    "    elif fa==fb: print('%2d.tekrar \\tkök=%.4f=a=b' % (i+1,a))\n",
    "    else: print('%2d.tekrar \\tkök yok' % (i+1,a))"
   ]
  },
  {
   "cell_type": "markdown",
   "metadata": {},
   "source": [
    "# Secant (Kiriş) Yöntemi"
   ]
  },
  {
   "cell_type": "markdown",
   "metadata": {
    "jupyter": {
     "source_hidden": true
    }
   },
   "source": [
    "burada kökü araya alman gerekmiyor"
   ]
  },
  {
   "cell_type": "markdown",
   "metadata": {
    "jupyter": {
     "source_hidden": true
    }
   },
   "source": [
    "#### Tek eşitlik"
   ]
  },
  {
   "cell_type": "code",
   "execution_count": 68,
   "metadata": {},
   "outputs": [],
   "source": [
    "%reset -f"
   ]
  },
  {
   "cell_type": "code",
   "execution_count": 69,
   "metadata": {},
   "outputs": [],
   "source": [
    "import numpy as np\n",
    "import pandas as pd"
   ]
  },
  {
   "cell_type": "code",
   "execution_count": 70,
   "metadata": {},
   "outputs": [],
   "source": [
    "def f(x): return -.5+x-np.sin(x)"
   ]
  },
  {
   "cell_type": "code",
   "execution_count": 71,
   "metadata": {},
   "outputs": [],
   "source": [
    "n=5 # tekrar sayısı\n",
    "out=[n]\n",
    "out.clear()"
   ]
  },
  {
   "cell_type": "code",
   "execution_count": 72,
   "metadata": {},
   "outputs": [],
   "source": [
    "x0,x1=0.5,2\n",
    "for i in range(n):\n",
    "    f0,f1=f(x0),f(x1)\n",
    "    x2 = x1-f1*(x1-x0)/(f1-f0)\n",
    "    out.append([i+1,x0,x1,x2,f(x2),x2-x1])\n",
    "    x0,x1=x1,x2"
   ]
  },
  {
   "cell_type": "code",
   "execution_count": 73,
   "metadata": {},
   "outputs": [
    {
     "data": {
      "text/html": [
       "<style  type=\"text/css\" >\n",
       "</style><table id=\"T_56a2cfec_e33a_11eb_9b97_7054d2d8235e\" ><thead>    <tr>        <th class=\"col_heading level0 col0\" >adım</th>        <th class=\"col_heading level0 col1\" >x0</th>        <th class=\"col_heading level0 col2\" >x1</th>        <th class=\"col_heading level0 col3\" >x2</th>        <th class=\"col_heading level0 col4\" >f ( x2 )</th>        <th class=\"col_heading level0 col5\" >Δx</th>    </tr></thead><tbody>\n",
       "                <tr>\n",
       "                                <td id=\"T_56a2cfec_e33a_11eb_9b97_7054d2d8235erow0_col0\" class=\"data row0 col0\" >1</td>\n",
       "                        <td id=\"T_56a2cfec_e33a_11eb_9b97_7054d2d8235erow0_col1\" class=\"data row0 col1\" >0.500</td>\n",
       "                        <td id=\"T_56a2cfec_e33a_11eb_9b97_7054d2d8235erow0_col2\" class=\"data row0 col2\" >2.000</td>\n",
       "                        <td id=\"T_56a2cfec_e33a_11eb_9b97_7054d2d8235erow0_col3\" class=\"data row0 col3\" >1.172</td>\n",
       "                        <td id=\"T_56a2cfec_e33a_11eb_9b97_7054d2d8235erow0_col4\" class=\"data row0 col4\" >-0.250</td>\n",
       "                        <td id=\"T_56a2cfec_e33a_11eb_9b97_7054d2d8235erow0_col5\" class=\"data row0 col5\" >-0.828</td>\n",
       "            </tr>\n",
       "            <tr>\n",
       "                                <td id=\"T_56a2cfec_e33a_11eb_9b97_7054d2d8235erow1_col0\" class=\"data row1 col0\" >2</td>\n",
       "                        <td id=\"T_56a2cfec_e33a_11eb_9b97_7054d2d8235erow1_col1\" class=\"data row1 col1\" >2.000</td>\n",
       "                        <td id=\"T_56a2cfec_e33a_11eb_9b97_7054d2d8235erow1_col2\" class=\"data row1 col2\" >1.172</td>\n",
       "                        <td id=\"T_56a2cfec_e33a_11eb_9b97_7054d2d8235erow1_col3\" class=\"data row1 col3\" >1.418</td>\n",
       "                        <td id=\"T_56a2cfec_e33a_11eb_9b97_7054d2d8235erow1_col4\" class=\"data row1 col4\" >-0.070</td>\n",
       "                        <td id=\"T_56a2cfec_e33a_11eb_9b97_7054d2d8235erow1_col5\" class=\"data row1 col5\" >0.246</td>\n",
       "            </tr>\n",
       "            <tr>\n",
       "                                <td id=\"T_56a2cfec_e33a_11eb_9b97_7054d2d8235erow2_col0\" class=\"data row2 col0\" >3</td>\n",
       "                        <td id=\"T_56a2cfec_e33a_11eb_9b97_7054d2d8235erow2_col1\" class=\"data row2 col1\" >1.172</td>\n",
       "                        <td id=\"T_56a2cfec_e33a_11eb_9b97_7054d2d8235erow2_col2\" class=\"data row2 col2\" >1.418</td>\n",
       "                        <td id=\"T_56a2cfec_e33a_11eb_9b97_7054d2d8235erow2_col3\" class=\"data row2 col3\" >1.515</td>\n",
       "                        <td id=\"T_56a2cfec_e33a_11eb_9b97_7054d2d8235erow2_col4\" class=\"data row2 col4\" >0.016</td>\n",
       "                        <td id=\"T_56a2cfec_e33a_11eb_9b97_7054d2d8235erow2_col5\" class=\"data row2 col5\" >0.097</td>\n",
       "            </tr>\n",
       "            <tr>\n",
       "                                <td id=\"T_56a2cfec_e33a_11eb_9b97_7054d2d8235erow3_col0\" class=\"data row3 col0\" >4</td>\n",
       "                        <td id=\"T_56a2cfec_e33a_11eb_9b97_7054d2d8235erow3_col1\" class=\"data row3 col1\" >1.418</td>\n",
       "                        <td id=\"T_56a2cfec_e33a_11eb_9b97_7054d2d8235erow3_col2\" class=\"data row3 col2\" >1.515</td>\n",
       "                        <td id=\"T_56a2cfec_e33a_11eb_9b97_7054d2d8235erow3_col3\" class=\"data row3 col3\" >1.497</td>\n",
       "                        <td id=\"T_56a2cfec_e33a_11eb_9b97_7054d2d8235erow3_col4\" class=\"data row3 col4\" >-0.001</td>\n",
       "                        <td id=\"T_56a2cfec_e33a_11eb_9b97_7054d2d8235erow3_col5\" class=\"data row3 col5\" >-0.018</td>\n",
       "            </tr>\n",
       "            <tr>\n",
       "                                <td id=\"T_56a2cfec_e33a_11eb_9b97_7054d2d8235erow4_col0\" class=\"data row4 col0\" >5</td>\n",
       "                        <td id=\"T_56a2cfec_e33a_11eb_9b97_7054d2d8235erow4_col1\" class=\"data row4 col1\" >1.515</td>\n",
       "                        <td id=\"T_56a2cfec_e33a_11eb_9b97_7054d2d8235erow4_col2\" class=\"data row4 col2\" >1.497</td>\n",
       "                        <td id=\"T_56a2cfec_e33a_11eb_9b97_7054d2d8235erow4_col3\" class=\"data row4 col3\" >1.497</td>\n",
       "                        <td id=\"T_56a2cfec_e33a_11eb_9b97_7054d2d8235erow4_col4\" class=\"data row4 col4\" >-0.000</td>\n",
       "                        <td id=\"T_56a2cfec_e33a_11eb_9b97_7054d2d8235erow4_col5\" class=\"data row4 col5\" >0.001</td>\n",
       "            </tr>\n",
       "    </tbody></table>"
      ],
      "text/plain": [
       "<pandas.io.formats.style.Styler at 0x1b49e41bee0>"
      ]
     },
     "execution_count": 73,
     "metadata": {},
     "output_type": "execute_result"
    }
   ],
   "source": [
    "pd.DataFrame(out, columns = ['adım','x0','x1','x2','f ( x2 )','Δx']).style.hide_index().set_precision(3)"
   ]
  },
  {
   "cell_type": "markdown",
   "metadata": {},
   "source": [
    "# Newton-Raphson"
   ]
  },
  {
   "cell_type": "code",
   "execution_count": 260,
   "metadata": {},
   "outputs": [],
   "source": [
    "%reset -f"
   ]
  },
  {
   "cell_type": "code",
   "execution_count": 261,
   "metadata": {},
   "outputs": [],
   "source": [
    "import numpy as np\n",
    "import sympy as sp\n",
    "import pandas as pd"
   ]
  },
  {
   "cell_type": "code",
   "execution_count": 262,
   "metadata": {},
   "outputs": [],
   "source": [
    "x=sp.symbols('x')\n",
    "f=-x**2+sp.cos(x)"
   ]
  },
  {
   "cell_type": "code",
   "execution_count": 263,
   "metadata": {},
   "outputs": [],
   "source": [
    "out=[]\n",
    "out.clear()"
   ]
  },
  {
   "cell_type": "code",
   "execution_count": 265,
   "metadata": {},
   "outputs": [],
   "source": [
    "n  = 6 # tekrar sayısı\n",
    "x0 = 0.25\n",
    "for i in range(n):\n",
    "    fx0,dfx0=f.subs({x:x0}),sp.diff(f,x).subs({x:x0})\n",
    "    x1=x0-fx0/dfx0\n",
    "    op=np.array([x0,fx0,dfx0,x1]).astype(np.float)\n",
    "    out.append([i+1,op[0],op[1],op[2],op[3]])\n",
    "    x0=x1"
   ]
  },
  {
   "cell_type": "code",
   "execution_count": 266,
   "metadata": {},
   "outputs": [
    {
     "data": {
      "text/html": [
       "<style  type=\"text/css\" >\n",
       "</style><table id=\"T_81e6ec36_e341_11eb_be53_7054d2d8235e\" ><thead>    <tr>        <th class=\"col_heading level0 col0\" >adım</th>        <th class=\"col_heading level0 col1\" >x0</th>        <th class=\"col_heading level0 col2\" >f ( x0 )</th>        <th class=\"col_heading level0 col3\" >f ' ( x0 )</th>        <th class=\"col_heading level0 col4\" >x1</th>    </tr></thead><tbody>\n",
       "                <tr>\n",
       "                                <td id=\"T_81e6ec36_e341_11eb_be53_7054d2d8235erow0_col0\" class=\"data row0 col0\" >1</td>\n",
       "                        <td id=\"T_81e6ec36_e341_11eb_be53_7054d2d8235erow0_col1\" class=\"data row0 col1\" >0.250</td>\n",
       "                        <td id=\"T_81e6ec36_e341_11eb_be53_7054d2d8235erow0_col2\" class=\"data row0 col2\" >0.906</td>\n",
       "                        <td id=\"T_81e6ec36_e341_11eb_be53_7054d2d8235erow0_col3\" class=\"data row0 col3\" >-0.747</td>\n",
       "                        <td id=\"T_81e6ec36_e341_11eb_be53_7054d2d8235erow0_col4\" class=\"data row0 col4\" >1.463</td>\n",
       "            </tr>\n",
       "            <tr>\n",
       "                                <td id=\"T_81e6ec36_e341_11eb_be53_7054d2d8235erow1_col0\" class=\"data row1 col0\" >2</td>\n",
       "                        <td id=\"T_81e6ec36_e341_11eb_be53_7054d2d8235erow1_col1\" class=\"data row1 col1\" >1.463</td>\n",
       "                        <td id=\"T_81e6ec36_e341_11eb_be53_7054d2d8235erow1_col2\" class=\"data row1 col2\" >-2.032</td>\n",
       "                        <td id=\"T_81e6ec36_e341_11eb_be53_7054d2d8235erow1_col3\" class=\"data row1 col3\" >-3.920</td>\n",
       "                        <td id=\"T_81e6ec36_e341_11eb_be53_7054d2d8235erow1_col4\" class=\"data row1 col4\" >0.944</td>\n",
       "            </tr>\n",
       "            <tr>\n",
       "                                <td id=\"T_81e6ec36_e341_11eb_be53_7054d2d8235erow2_col0\" class=\"data row2 col0\" >3</td>\n",
       "                        <td id=\"T_81e6ec36_e341_11eb_be53_7054d2d8235erow2_col1\" class=\"data row2 col1\" >0.944</td>\n",
       "                        <td id=\"T_81e6ec36_e341_11eb_be53_7054d2d8235erow2_col2\" class=\"data row2 col2\" >-0.306</td>\n",
       "                        <td id=\"T_81e6ec36_e341_11eb_be53_7054d2d8235erow2_col3\" class=\"data row2 col3\" >-2.699</td>\n",
       "                        <td id=\"T_81e6ec36_e341_11eb_be53_7054d2d8235erow2_col4\" class=\"data row2 col4\" >0.831</td>\n",
       "            </tr>\n",
       "            <tr>\n",
       "                                <td id=\"T_81e6ec36_e341_11eb_be53_7054d2d8235erow3_col0\" class=\"data row3 col0\" >4</td>\n",
       "                        <td id=\"T_81e6ec36_e341_11eb_be53_7054d2d8235erow3_col1\" class=\"data row3 col1\" >0.831</td>\n",
       "                        <td id=\"T_81e6ec36_e341_11eb_be53_7054d2d8235erow3_col2\" class=\"data row3 col2\" >-0.017</td>\n",
       "                        <td id=\"T_81e6ec36_e341_11eb_be53_7054d2d8235erow3_col3\" class=\"data row3 col3\" >-2.401</td>\n",
       "                        <td id=\"T_81e6ec36_e341_11eb_be53_7054d2d8235erow3_col4\" class=\"data row3 col4\" >0.824</td>\n",
       "            </tr>\n",
       "            <tr>\n",
       "                                <td id=\"T_81e6ec36_e341_11eb_be53_7054d2d8235erow4_col0\" class=\"data row4 col0\" >5</td>\n",
       "                        <td id=\"T_81e6ec36_e341_11eb_be53_7054d2d8235erow4_col1\" class=\"data row4 col1\" >0.824</td>\n",
       "                        <td id=\"T_81e6ec36_e341_11eb_be53_7054d2d8235erow4_col2\" class=\"data row4 col2\" >-0.000</td>\n",
       "                        <td id=\"T_81e6ec36_e341_11eb_be53_7054d2d8235erow4_col3\" class=\"data row4 col3\" >-2.382</td>\n",
       "                        <td id=\"T_81e6ec36_e341_11eb_be53_7054d2d8235erow4_col4\" class=\"data row4 col4\" >0.824</td>\n",
       "            </tr>\n",
       "            <tr>\n",
       "                                <td id=\"T_81e6ec36_e341_11eb_be53_7054d2d8235erow5_col0\" class=\"data row5 col0\" >6</td>\n",
       "                        <td id=\"T_81e6ec36_e341_11eb_be53_7054d2d8235erow5_col1\" class=\"data row5 col1\" >0.824</td>\n",
       "                        <td id=\"T_81e6ec36_e341_11eb_be53_7054d2d8235erow5_col2\" class=\"data row5 col2\" >-0.000</td>\n",
       "                        <td id=\"T_81e6ec36_e341_11eb_be53_7054d2d8235erow5_col3\" class=\"data row5 col3\" >-2.382</td>\n",
       "                        <td id=\"T_81e6ec36_e341_11eb_be53_7054d2d8235erow5_col4\" class=\"data row5 col4\" >0.824</td>\n",
       "            </tr>\n",
       "    </tbody></table>"
      ],
      "text/plain": [
       "<pandas.io.formats.style.Styler at 0x1b49ef1e460>"
      ]
     },
     "execution_count": 266,
     "metadata": {},
     "output_type": "execute_result"
    }
   ],
   "source": [
    "pd.DataFrame(out, columns = ['adım','x0','f ( x0 )','f \\' ( x0 )','x1']).style.hide_index().set_precision(3)"
   ]
  },
  {
   "cell_type": "markdown",
   "metadata": {},
   "source": [
    "# Newton-Raphson\n",
    "#### 2 Değişkenli Doğrusal Olmayan Denklem Sistemi Çözümü"
   ]
  },
  {
   "cell_type": "code",
   "execution_count": 128,
   "metadata": {},
   "outputs": [],
   "source": [
    "%reset -f"
   ]
  },
  {
   "cell_type": "code",
   "execution_count": 129,
   "metadata": {},
   "outputs": [],
   "source": [
    "import numpy as np\n",
    "import sympy as sp\n",
    "import pandas as pd"
   ]
  },
  {
   "cell_type": "code",
   "execution_count": 130,
   "metadata": {},
   "outputs": [],
   "source": [
    "x,y=sp.symbols('x y')\n",
    "Vf=sp.Matrix([[x**2 + -10*x + y**2 +8],\n",
    "              [x*y**2 + x -10*y +8]])\n",
    "\n",
    "V0=sp.Matrix([[0], # başlangıç değerleri !!! buradaki sympy kaldırılıp normal dizi yaparsan ileride hata veriyor\n",
    "              [0]])"
   ]
  },
  {
   "cell_type": "code",
   "execution_count": 131,
   "metadata": {},
   "outputs": [
    {
     "data": {
      "text/latex": [
       "$\\displaystyle \\left[\\begin{matrix}2 x - 10 & 2 y\\\\y^{2} + 1 & 2 x y - 10\\end{matrix}\\right]$"
      ],
      "text/plain": [
       "Matrix([\n",
       "[2*x - 10,        2*y],\n",
       "[y**2 + 1, 2*x*y - 10]])"
      ]
     },
     "execution_count": 131,
     "metadata": {},
     "output_type": "execute_result"
    }
   ],
   "source": [
    "# jacobian\n",
    "Js = sp.Matrix([[sp.diff(Vf[0],x), sp.diff(Vf[0],y)],\n",
    "               [sp.diff(Vf[1],x), sp.diff(Vf[1],y)]])\n",
    "Js"
   ]
  },
  {
   "cell_type": "code",
   "execution_count": 134,
   "metadata": {},
   "outputs": [],
   "source": [
    "out=[]\n",
    "out.clear()\n",
    "n=4 # tekrar sayısı"
   ]
  },
  {
   "cell_type": "code",
   "execution_count": 135,
   "metadata": {},
   "outputs": [],
   "source": [
    "for i in range(n):\n",
    "    J  = np.array(Js.subs({x:V0[0],y:V0[1]})).astype(np.float) # nümerik sonuç için sympy matrisini numpy dizisi olarak al\n",
    "    F  = np.array(Vf.subs({x:V0[0],y:V0[1]})).astype(np.float) # nümerik sonuç için sympy matrisini numpy dizisi olarak al\n",
    "    V0n= np.array(V0).astype(np.float) # nümerik sonuç için sympy matrisini numpy dizisi olarak al\n",
    "    V1 = np.linalg.solve(J, -F) + V0n   \n",
    "    V0 = sp.Matrix(V1)\n",
    "    out.append([i+1,V0n[0,0],V0n[1,0],V1[0,0],V1[1,0]])    "
   ]
  },
  {
   "cell_type": "code",
   "execution_count": 136,
   "metadata": {},
   "outputs": [
    {
     "data": {
      "text/html": [
       "<style  type=\"text/css\" >\n",
       "</style><table id=\"T_4f09b8a0_e33c_11eb_a1d3_7054d2d8235e\" ><thead>    <tr>        <th class=\"col_heading level0 col0\" >adım</th>        <th class=\"col_heading level0 col1\" >x0</th>        <th class=\"col_heading level0 col2\" >y0</th>        <th class=\"col_heading level0 col3\" >x1</th>        <th class=\"col_heading level0 col4\" >y1</th>    </tr></thead><tbody>\n",
       "                <tr>\n",
       "                                <td id=\"T_4f09b8a0_e33c_11eb_a1d3_7054d2d8235erow0_col0\" class=\"data row0 col0\" >1</td>\n",
       "                        <td id=\"T_4f09b8a0_e33c_11eb_a1d3_7054d2d8235erow0_col1\" class=\"data row0 col1\" >0.800</td>\n",
       "                        <td id=\"T_4f09b8a0_e33c_11eb_a1d3_7054d2d8235erow0_col2\" class=\"data row0 col2\" >0.880</td>\n",
       "                        <td id=\"T_4f09b8a0_e33c_11eb_a1d3_7054d2d8235erow0_col3\" class=\"data row0 col3\" >0.992</td>\n",
       "                        <td id=\"T_4f09b8a0_e33c_11eb_a1d3_7054d2d8235erow0_col4\" class=\"data row0 col4\" >0.992</td>\n",
       "            </tr>\n",
       "            <tr>\n",
       "                                <td id=\"T_4f09b8a0_e33c_11eb_a1d3_7054d2d8235erow1_col0\" class=\"data row1 col0\" >2</td>\n",
       "                        <td id=\"T_4f09b8a0_e33c_11eb_a1d3_7054d2d8235erow1_col1\" class=\"data row1 col1\" >0.992</td>\n",
       "                        <td id=\"T_4f09b8a0_e33c_11eb_a1d3_7054d2d8235erow1_col2\" class=\"data row1 col2\" >0.992</td>\n",
       "                        <td id=\"T_4f09b8a0_e33c_11eb_a1d3_7054d2d8235erow1_col3\" class=\"data row1 col3\" >1.000</td>\n",
       "                        <td id=\"T_4f09b8a0_e33c_11eb_a1d3_7054d2d8235erow1_col4\" class=\"data row1 col4\" >1.000</td>\n",
       "            </tr>\n",
       "            <tr>\n",
       "                                <td id=\"T_4f09b8a0_e33c_11eb_a1d3_7054d2d8235erow2_col0\" class=\"data row2 col0\" >3</td>\n",
       "                        <td id=\"T_4f09b8a0_e33c_11eb_a1d3_7054d2d8235erow2_col1\" class=\"data row2 col1\" >1.000</td>\n",
       "                        <td id=\"T_4f09b8a0_e33c_11eb_a1d3_7054d2d8235erow2_col2\" class=\"data row2 col2\" >1.000</td>\n",
       "                        <td id=\"T_4f09b8a0_e33c_11eb_a1d3_7054d2d8235erow2_col3\" class=\"data row2 col3\" >1.000</td>\n",
       "                        <td id=\"T_4f09b8a0_e33c_11eb_a1d3_7054d2d8235erow2_col4\" class=\"data row2 col4\" >1.000</td>\n",
       "            </tr>\n",
       "            <tr>\n",
       "                                <td id=\"T_4f09b8a0_e33c_11eb_a1d3_7054d2d8235erow3_col0\" class=\"data row3 col0\" >4</td>\n",
       "                        <td id=\"T_4f09b8a0_e33c_11eb_a1d3_7054d2d8235erow3_col1\" class=\"data row3 col1\" >1.000</td>\n",
       "                        <td id=\"T_4f09b8a0_e33c_11eb_a1d3_7054d2d8235erow3_col2\" class=\"data row3 col2\" >1.000</td>\n",
       "                        <td id=\"T_4f09b8a0_e33c_11eb_a1d3_7054d2d8235erow3_col3\" class=\"data row3 col3\" >1.000</td>\n",
       "                        <td id=\"T_4f09b8a0_e33c_11eb_a1d3_7054d2d8235erow3_col4\" class=\"data row3 col4\" >1.000</td>\n",
       "            </tr>\n",
       "    </tbody></table>"
      ],
      "text/plain": [
       "<pandas.io.formats.style.Styler at 0x1b49eef80d0>"
      ]
     },
     "execution_count": 136,
     "metadata": {},
     "output_type": "execute_result"
    }
   ],
   "source": [
    "pd.DataFrame(out, columns = ['adım','x0','y0','x1','y1']).style.hide_index().set_precision(3)"
   ]
  },
  {
   "cell_type": "markdown",
   "metadata": {},
   "source": [
    "# Sabit Noktalı İterasyon"
   ]
  },
  {
   "cell_type": "code",
   "execution_count": 1,
   "metadata": {},
   "outputs": [],
   "source": [
    "%reset -f"
   ]
  },
  {
   "cell_type": "code",
   "execution_count": 2,
   "metadata": {},
   "outputs": [],
   "source": [
    "import pandas as pd\n",
    "import sympy as sp"
   ]
  },
  {
   "cell_type": "markdown",
   "metadata": {
    "jupyter": {
     "source_hidden": true
    }
   },
   "source": [
    "Türev kontrolünün (df<1) ardından seçilen fonksiyonlarla:"
   ]
  },
  {
   "cell_type": "code",
   "execution_count": 10,
   "metadata": {},
   "outputs": [],
   "source": [
    "'''\n",
    "Verilen f(x) ifadesini x=g(x) şekline dönüştür !!!dönüştürürken dikkat et!!! Sonra buradaki g(x)'i kullan':\n",
    "f(x)=x**3-x-3 ise, x=x**3-3\n",
    "''';"
   ]
  },
  {
   "cell_type": "code",
   "execution_count": 4,
   "metadata": {},
   "outputs": [
    {
     "data": {
      "image/png": "[encoded data removed]",
      "text/plain": [
       "<IPython.core.display.Image object>"
      ]
     },
     "execution_count": 4,
     "metadata": {},
     "output_type": "execute_result"
    }
   ],
   "source": [
    "# Örnek:\n",
    "from IPython.display import Image\n",
    "from IPython.core.display import HTML \n",
    "Image(\"sabit iterasyon.png\")"
   ]
  },
  {
   "cell_type": "code",
   "execution_count": 5,
   "metadata": {},
   "outputs": [
    {
     "data": {
      "text/latex": [
       "$\\displaystyle x^{3} - x - 3$"
      ],
      "text/plain": [
       "x**3 - x - 3"
      ]
     },
     "execution_count": 5,
     "metadata": {},
     "output_type": "execute_result"
    }
   ],
   "source": [
    "x=sp.symbols('x')\n",
    "\n",
    "f= x**3-x-3\n",
    "f"
   ]
  },
  {
   "cell_type": "code",
   "execution_count": 6,
   "metadata": {},
   "outputs": [
    {
     "data": {
      "text/latex": [
       "$\\displaystyle x^{3} - 3$"
      ],
      "text/plain": [
       "x**3 - 3"
      ]
     },
     "execution_count": 6,
     "metadata": {},
     "output_type": "execute_result"
    }
   ],
   "source": [
    "g= f+x\n",
    "g"
   ]
  },
  {
   "cell_type": "code",
   "execution_count": 7,
   "metadata": {},
   "outputs": [],
   "source": [
    "''''''\n",
    "# başlangıç değeri\n",
    "x0=1.5\n",
    "# tekrar sayısı \n",
    "n=3\n",
    "'''''';"
   ]
  },
  {
   "cell_type": "code",
   "execution_count": 8,
   "metadata": {},
   "outputs": [],
   "source": [
    "out=[]\n",
    "out.clear()\n",
    "for i in range(n):\n",
    "    t=sp.N(x0)\n",
    "    x0=g.subs({x:t})\n",
    "    out.append([i+1,t.round(3),x0.round(3),f.subs({x:t}).round(3),f.subs({x:x0}).round(3)])"
   ]
  },
  {
   "cell_type": "code",
   "execution_count": 9,
   "metadata": {},
   "outputs": [
    {
     "data": {
      "text/html": [
       "<style  type=\"text/css\" >\n",
       "</style><table id=\"T_42361a6f_e563_11eb_b146_7054d2d8235e\" ><thead>    <tr>        <th class=\"col_heading level0 col0\" >adım</th>        <th class=\"col_heading level0 col1\" >x0</th>        <th class=\"col_heading level0 col2\" >x1</th>        <th class=\"col_heading level0 col3\" >f(x0)</th>        <th class=\"col_heading level0 col4\" >f(x1)</th>    </tr></thead><tbody>\n",
       "                <tr>\n",
       "                                <td id=\"T_42361a6f_e563_11eb_b146_7054d2d8235erow0_col0\" class=\"data row0 col0\" >1</td>\n",
       "                        <td id=\"T_42361a6f_e563_11eb_b146_7054d2d8235erow0_col1\" class=\"data row0 col1\" >1.500</td>\n",
       "                        <td id=\"T_42361a6f_e563_11eb_b146_7054d2d8235erow0_col2\" class=\"data row0 col2\" >0.375</td>\n",
       "                        <td id=\"T_42361a6f_e563_11eb_b146_7054d2d8235erow0_col3\" class=\"data row0 col3\" >-1.125</td>\n",
       "                        <td id=\"T_42361a6f_e563_11eb_b146_7054d2d8235erow0_col4\" class=\"data row0 col4\" >-3.322</td>\n",
       "            </tr>\n",
       "            <tr>\n",
       "                                <td id=\"T_42361a6f_e563_11eb_b146_7054d2d8235erow1_col0\" class=\"data row1 col0\" >2</td>\n",
       "                        <td id=\"T_42361a6f_e563_11eb_b146_7054d2d8235erow1_col1\" class=\"data row1 col1\" >0.375</td>\n",
       "                        <td id=\"T_42361a6f_e563_11eb_b146_7054d2d8235erow1_col2\" class=\"data row1 col2\" >-2.947</td>\n",
       "                        <td id=\"T_42361a6f_e563_11eb_b146_7054d2d8235erow1_col3\" class=\"data row1 col3\" >-3.322</td>\n",
       "                        <td id=\"T_42361a6f_e563_11eb_b146_7054d2d8235erow1_col4\" class=\"data row1 col4\" >-25.654</td>\n",
       "            </tr>\n",
       "            <tr>\n",
       "                                <td id=\"T_42361a6f_e563_11eb_b146_7054d2d8235erow2_col0\" class=\"data row2 col0\" >3</td>\n",
       "                        <td id=\"T_42361a6f_e563_11eb_b146_7054d2d8235erow2_col1\" class=\"data row2 col1\" >-2.947</td>\n",
       "                        <td id=\"T_42361a6f_e563_11eb_b146_7054d2d8235erow2_col2\" class=\"data row2 col2\" >-28.601</td>\n",
       "                        <td id=\"T_42361a6f_e563_11eb_b146_7054d2d8235erow2_col3\" class=\"data row2 col3\" >-25.654</td>\n",
       "                        <td id=\"T_42361a6f_e563_11eb_b146_7054d2d8235erow2_col4\" class=\"data row2 col4\" >-23370.640</td>\n",
       "            </tr>\n",
       "    </tbody></table>"
      ],
      "text/plain": [
       "<pandas.io.formats.style.Styler at 0x248f6456520>"
      ]
     },
     "execution_count": 9,
     "metadata": {},
     "output_type": "execute_result"
    }
   ],
   "source": [
    "pd.DataFrame(out,columns = ['adım','x0','x1','f(x0)','f(x1)']).style.hide_index().set_precision(2)"
   ]
  }
 ],
 "metadata": {
  "kernelspec": {
   "display_name": "Python 3",
   "language": "python",
   "name": "python3"
  },
  "language_info": {
   "codemirror_mode": {
    "name": "ipython",
    "version": 3
   },
   "file_extension": ".py",
   "mimetype": "text/x-python",
   "name": "python",
   "nbconvert_exporter": "python",
   "pygments_lexer": "ipython3",
   "version": "3.8.3"
  }
 },
 "nbformat": 4,
 "nbformat_minor": 4
}
