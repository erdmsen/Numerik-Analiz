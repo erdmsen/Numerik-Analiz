{
 "cells": [
  {
   "cell_type": "markdown",
   "metadata": {},
   "source": [
    "# Gradient (Steepest) Descent/Ascent"
   ]
  },
  {
   "cell_type": "markdown",
   "metadata": {},
   "source": [
    "0. Fonksiyonun bir optimum noktasının olup olmadığını Hessian kullanarak kontrol et\n",
    "    1. $\\lvert H \\rvert = \\frac{\\partial^2 f}{\\partial x^2}\\frac{\\partial^2 f}{\\partial y^2} - \\left(\\frac{\\partial^2 f}{\\partial x \\partial y}\\right)^2$\n",
    "    2.  $\\lvert H \\rvert > 0$ ise optimum var aksi durumda eğer noktası\n",
    "        1. $\\frac{\\partial^2 f}{\\partial x^2} > 0$ ise aranan nokta bir minimum\n",
    "        2. $\\frac{\\partial^2 f}{\\partial x^2} < 0$ ise aranan nokta bir maximum\n",
    "1. Bir başlangıç noktası seç ($x_0$)\n",
    "2. $∇f(x_k)$ gradyan değerini hesaplayarak arama yönünü bul ($k$ burada tekrar indisi)\n",
    "3. Gradyanı minimum için negatif, maximum için pozitif olarak kullan\n",
    "4. Arama yönünde yeni noktayı bul: $x_{k+1}=x_k+\\alpha_k∓∇f(x_k)$ \n",
    "5. $\\alpha_k$ (adım büyüklüğü) değerini hesaplamak için tek değişkenli optimizasyondan faydalan"
   ]
  },
  {
   "cell_type": "code",
   "execution_count": 1,
   "metadata": {},
   "outputs": [],
   "source": [
    "import numpy as np\n",
    "import sympy as sp\n",
    "import pandas as pd"
   ]
  },
  {
   "cell_type": "code",
   "execution_count": 2,
   "metadata": {},
   "outputs": [
    {
     "data": {
      "text/latex": [
       "$\\displaystyle 0.41 x^{2} + 0.76 x y + 0.53 y^{2} + 0.28 y$"
      ],
      "text/plain": [
       "0.41*x**2 + 0.76*x*y + 0.53*y**2 + 0.28*y"
      ]
     },
     "execution_count": 2,
     "metadata": {},
     "output_type": "execute_result"
    }
   ],
   "source": [
    "x,y,h=sp.symbols('x y h')\n",
    "a,b,c,d=.76,.28,-.41,-.53\n",
    "f = a*x*y+b*y-c*x**2-d*y**2\n",
    "f"
   ]
  },
  {
   "cell_type": "code",
   "execution_count": 3,
   "metadata": {},
   "outputs": [
    {
     "name": "stdout",
     "output_type": "stream",
     "text": [
      "Hessian: 0.29 ve d2f/dx2: 0.82. Minimum noktası var\n"
     ]
    }
   ],
   "source": [
    "# hessian değerini hesapla ve optimumluğu kontrol et\n",
    "d2x=sp.diff(f,x,2)\n",
    "H=d2x*sp.diff(f,y,2)-(sp.diff(sp.diff(f,x),y))**2\n",
    "if H>0:\n",
    "    if d2x>0: \n",
    "        op='min'\n",
    "        print('Hessian: %.2f ve d2f/dx2: %.2f. Minimum noktası var'%(H,d2x))\n",
    "    else: \n",
    "        print('Hessian: %.2f ve d2f/dx2: %.2f. Maximum noktası var'%(H,d2x))\n",
    "        op='max'"
   ]
  },
  {
   "cell_type": "code",
   "execution_count": 4,
   "metadata": {},
   "outputs": [
    {
     "data": {
      "text/latex": [
       "$\\displaystyle \\left[\\begin{matrix}0.82 x + 0.76 y\\\\0.76 x + 1.06 y + 0.28\\end{matrix}\\right]$"
      ],
      "text/plain": [
       "Matrix([\n",
       "[       0.82*x + 0.76*y],\n",
       "[0.76*x + 1.06*y + 0.28]])"
      ]
     },
     "execution_count": 4,
     "metadata": {},
     "output_type": "execute_result"
    }
   ],
   "source": [
    "#başlangıç değerleri\n",
    "V=[.5,1]\n",
    "# gradyan hesapla\n",
    "Gr=sp.Matrix([sp.diff(f,x),sp.diff(f,y)])\n",
    "Gr"
   ]
  },
  {
   "cell_type": "code",
   "execution_count": 5,
   "metadata": {},
   "outputs": [],
   "source": [
    "r=2 # sonuçları yuvarlaman için\n",
    "j=1 # tekrarları sayman için"
   ]
  },
  {
   "cell_type": "code",
   "execution_count": 6,
   "metadata": {},
   "outputs": [],
   "source": [
    "'''Adımların daha iyi anlaşılması için döngü kurulmadı.\n",
    "   Her yeni tekrar için buradan başlayarak kalan tüm hücrelerin çalıştırılması gerek'''\n",
    "G=Gr.subs({x:V[0],y:V[1]})\n",
    "if op=='max': g=f.subs({x:V[0]+G[0]*h,y:V[1]+G[1]*h})\n",
    "elif op=='min': g=f.subs({x:V[0]-G[0]*h,y:V[1]-G[1]*h})\n",
    "gs=g.simplify()\n",
    "gop=sp.diff(g,h)\n",
    "gops=gop.simplify()\n",
    "oph=sp.solve(gop,h)[0].evalf()\n",
    "if op=='max': V1=[V[0]+G[0]*oph,V[1]+G[1]*oph]\n",
    "elif op=='min':  V1=[V[0]-G[0]*oph,V[1]-G[1]*oph]\n",
    "V=V1"
   ]
  },
  {
   "cell_type": "code",
   "execution_count": 7,
   "metadata": {},
   "outputs": [
    {
     "data": {
      "text/plain": [
       "[1.17000000000000, 1.17000000000000]"
      ]
     },
     "execution_count": 7,
     "metadata": {},
     "output_type": "execute_result"
    }
   ],
   "source": [
    "[G[0].evalf(),G[0].evalf()]"
   ]
  },
  {
   "cell_type": "code",
   "execution_count": 8,
   "metadata": {},
   "outputs": [
    {
     "data": {
      "text/latex": [
       "$\\displaystyle - 0.4816 h + 0.561249 \\left(0.427350427350427 - h\\right)^{2} + 0.76 \\left(0.5 - 1.17 h\\right) \\left(1 - 1.72 h\\right) + 1.567952 \\left(0.581395348837209 - h\\right)^{2} + 0.28$"
      ],
      "text/plain": [
       "-0.4816*h + 0.561249*(0.427350427350427 - h)**2 + 0.76*(0.5 - 1.17*h)*(1 - 1.72*h) + 1.567952*(0.581395348837209 - h)**2 + 0.28"
      ]
     },
     "execution_count": 8,
     "metadata": {},
     "output_type": "execute_result"
    }
   ],
   "source": [
    "g"
   ]
  },
  {
   "cell_type": "code",
   "execution_count": 9,
   "metadata": {},
   "outputs": [
    {
     "data": {
      "text/latex": [
       "$\\displaystyle 3.66 h^{2} - 4.33 h + 1.29$"
      ],
      "text/plain": [
       "3.66*h**2 - 4.33*h + 1.29"
      ]
     },
     "execution_count": 9,
     "metadata": {},
     "output_type": "execute_result"
    }
   ],
   "source": [
    "sp.Poly([round(i,r) for i in sp.Poly(g.simplify(),h).all_coeffs()], h).as_expr()"
   ]
  },
  {
   "cell_type": "code",
   "execution_count": 10,
   "metadata": {},
   "outputs": [
    {
     "data": {
      "text/latex": [
       "$\\displaystyle 7.31725 h - 4.3273$"
      ],
      "text/plain": [
       "7.31725*h - 4.3273"
      ]
     },
     "execution_count": 10,
     "metadata": {},
     "output_type": "execute_result"
    }
   ],
   "source": [
    "gop"
   ]
  },
  {
   "cell_type": "code",
   "execution_count": 11,
   "metadata": {},
   "outputs": [
    {
     "data": {
      "text/latex": [
       "$\\displaystyle 7.32 h - 4.33$"
      ],
      "text/plain": [
       "7.32*h - 4.33"
      ]
     },
     "execution_count": 11,
     "metadata": {},
     "output_type": "execute_result"
    }
   ],
   "source": [
    "sp.Poly([round(i,r) for i in sp.Poly(gop.simplify(), h).all_coeffs()], h).as_expr()"
   ]
  },
  {
   "cell_type": "code",
   "execution_count": 12,
   "metadata": {},
   "outputs": [
    {
     "data": {
      "text/latex": [
       "$\\displaystyle 0.59$"
      ],
      "text/plain": [
       "0.59"
      ]
     },
     "execution_count": 12,
     "metadata": {},
     "output_type": "execute_result"
    }
   ],
   "source": [
    "oph.round(r)"
   ]
  },
  {
   "cell_type": "code",
   "execution_count": 13,
   "metadata": {},
   "outputs": [
    {
     "data": {
      "text/plain": [
       "[-0.191918548635075, -0.0171794048310501]"
      ]
     },
     "execution_count": 13,
     "metadata": {},
     "output_type": "execute_result"
    }
   ],
   "source": [
    "V"
   ]
  },
  {
   "cell_type": "code",
   "execution_count": 14,
   "metadata": {},
   "outputs": [
    {
     "data": {
      "text/latex": [
       "$\\displaystyle 0.013$"
      ],
      "text/plain": [
       "0.013"
      ]
     },
     "execution_count": 14,
     "metadata": {},
     "output_type": "execute_result"
    }
   ],
   "source": [
    "f.subs({x:V[0],y:V[1]}).round(3)"
   ]
  },
  {
   "cell_type": "code",
   "execution_count": 15,
   "metadata": {},
   "outputs": [
    {
     "name": "stdout",
     "output_type": "stream",
     "text": [
      "1 . tekrar tamamlandı\n"
     ]
    }
   ],
   "source": [
    "print(j,'. tekrar tamamlandı')\n",
    "j=j+1"
   ]
  },
  {
   "cell_type": "raw",
   "metadata": {},
   "source": []
  }
 ],
 "metadata": {
  "kernelspec": {
   "display_name": "Python 3",
   "language": "python",
   "name": "python3"
  },
  "language_info": {
   "codemirror_mode": {
    "name": "ipython",
    "version": 3
   },
   "file_extension": ".py",
   "mimetype": "text/x-python",
   "name": "python",
   "nbconvert_exporter": "python",
   "pygments_lexer": "ipython3",
   "version": "3.8.3"
  }
 },
 "nbformat": 4,
 "nbformat_minor": 4
}
