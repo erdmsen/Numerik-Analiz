{
 "cells": [
  {
   "cell_type": "markdown",
   "metadata": {},
   "source": [
    "# Gradient Descent/Ascent"
   ]
  },
  {
   "cell_type": "markdown",
   "metadata": {},
   "source": [
    "0. Fonksiyonun bir optimum noktasının olup olmadığını Hessian kullanarak kontrol et\n",
    "    1. $\\lvert H \\rvert = \\frac{\\partial^2 f}{\\partial x^2}\\frac{\\partial^2 f}{\\partial y^2} - \\left(\\frac{\\partial^2 f}{\\partial x \\partial y}\\right)^2$\n",
    "    2.  $\\lvert H \\rvert > 0$ ise optimum var aksi durumda eğer noktası\n",
    "        1. $\\frac{\\partial^2 f}{\\partial x^2} > 0$ ise aranan nokta bir minimum\n",
    "        2. $\\frac{\\partial^2 f}{\\partial x^2} < 0$ ise aranan nokta bir maximum\n",
    "1. Bir başlangıç noktası seç ($x_0$)\n",
    "2. $\\nabla f(x_k)$ gradyan değerini hesaplayarak arama yönünü bul ($k$ burada tekrar indisi)\n",
    "3. Gradyanı minimum için negatif, maximum için pozitif olarak kullan\n",
    "4. Arama yönünde yeni noktayı bul: $x_{k+1}=x_k+\\alpha_k\\pm\\nabla f(x_k)$ \n",
    "5. $\\alpha_k$ (adım büyüklüğü) değerini hesaplamak için tek değişkenli optimizasyondan faydalan"
   ]
  },
  {
   "cell_type": "code",
   "execution_count": 1,
   "metadata": {},
   "outputs": [],
   "source": [
    "%reset -f\n",
    "import numpy as np\n",
    "import sympy as sp\n",
    "import pandas as pd\n",
    "\n",
    "out=[]\n",
    "out.clear()\n",
    "\n",
    "r=3 # sonuçları yuvarlaman için\n",
    "j=1 # tekrarları sayman için"
   ]
  },
  {
   "cell_type": "code",
   "execution_count": 2,
   "metadata": {},
   "outputs": [
    {
     "data": {
      "text/latex": [
       "$\\displaystyle 2.41 x^{2} + 1.76 x y + 0.53 y^{2} + 1.28 y$"
      ],
      "text/plain": [
       "2.41*x**2 + 1.76*x*y + 0.53*y**2 + 1.28*y"
      ]
     },
     "execution_count": 2,
     "metadata": {},
     "output_type": "execute_result"
    }
   ],
   "source": [
    "#başlangıç değerleri\n",
    "#V=np.array([.5,1])\n",
    "V=np.array([0.5,1])\n",
    "\n",
    "x,y,h=sp.symbols('x y h')\n",
    "a,b,c,d=1.76,1.28,2.41,0.53\n",
    "cxx,cx,cxy,cy,cyy=c,0,a,b,d\n",
    "f = cxx*x**2+cx*x+cxy*x*y+cy*y+cyy*y**2\n",
    "f"
   ]
  },
  {
   "cell_type": "code",
   "execution_count": 3,
   "metadata": {},
   "outputs": [
    {
     "name": "stdout",
     "output_type": "stream",
     "text": [
      "Hessian: 2.01 ve d2f/dx2: 4.82. Minimum noktası var\n"
     ]
    }
   ],
   "source": [
    "# hessian değerini hesapla ve optimumluğu kontrol et\n",
    "d2x=sp.diff(f,x,2)\n",
    "H=d2x*sp.diff(f,y,2)-(sp.diff(sp.diff(f,x),y))**2\n",
    "if H>0:\n",
    "    if d2x>0: \n",
    "        op='min'\n",
    "        print('Hessian: %.2f ve d2f/dx2: %.2f. Minimum noktası var'%(H,d2x))\n",
    "    else: \n",
    "        print('Hessian: %.2f ve d2f/dx2: %.2f. Maximum noktası var'%(H,d2x))\n",
    "        op='max'"
   ]
  },
  {
   "cell_type": "markdown",
   "metadata": {},
   "source": [
    "### Gradyan"
   ]
  },
  {
   "cell_type": "code",
   "execution_count": 4,
   "metadata": {},
   "outputs": [
    {
     "data": {
      "text/latex": [
       "$\\displaystyle 4.82 x + 1.76 y$"
      ],
      "text/plain": [
       "4.82*x + 1.76*y"
      ]
     },
     "execution_count": 4,
     "metadata": {},
     "output_type": "execute_result"
    }
   ],
   "source": [
    "dfx=sp.diff(f,x)\n",
    "dfx"
   ]
  },
  {
   "cell_type": "code",
   "execution_count": 5,
   "metadata": {},
   "outputs": [
    {
     "data": {
      "text/latex": [
       "$\\displaystyle 1.76 x + 1.06 y + 1.28$"
      ],
      "text/plain": [
       "1.76*x + 1.06*y + 1.28"
      ]
     },
     "execution_count": 5,
     "metadata": {},
     "output_type": "execute_result"
    }
   ],
   "source": [
    "dfy=sp.diff(f,y)\n",
    "dfy"
   ]
  },
  {
   "cell_type": "markdown",
   "metadata": {},
   "source": [
    "### Nokta değerlerini yerine yazarak adım yönünü hesapla"
   ]
  },
  {
   "cell_type": "code",
   "execution_count": 6,
   "metadata": {},
   "outputs": [],
   "source": [
    "'''Tekrarları buradan başlat!''';"
   ]
  },
  {
   "cell_type": "code",
   "execution_count": 40,
   "metadata": {},
   "outputs": [
    {
     "data": {
      "text/plain": [
       "array([-0.409,  0.528])"
      ]
     },
     "execution_count": 40,
     "metadata": {},
     "output_type": "execute_result"
    }
   ],
   "source": [
    "Gr=np.around(np.array([dfx.subs({x:V[0],y:V[1]}).evalf(),dfy.subs({x:V[0],y:V[1]}).evalf()]).astype(np.float),r)\n",
    "Gr"
   ]
  },
  {
   "cell_type": "markdown",
   "metadata": {},
   "source": [
    "### h cinsinden yeni $x$ ve $y$ değerleri:"
   ]
  },
  {
   "cell_type": "code",
   "execution_count": 41,
   "metadata": {},
   "outputs": [],
   "source": [
    "# (x_h, y_h)\n",
    "if op=='min':\n",
    "    xh=V[0]-Gr[0]*h\n",
    "    yh=V[1]-Gr[1]*h\n",
    "elif op=='max':\n",
    "    xh=V[0]+Gr[0]*h\n",
    "    yh=V[1]+Gr[1]*h\n",
    "xh=np.around(np.array(sp.Poly(xh,h).evalf().all_coeffs()).astype(np.float),r)\n",
    "yh=np.around(np.array(sp.Poly(yh,h).evalf().all_coeffs()).astype(np.float),r)\n",
    "xh=sp.Poly(xh,h).as_expr()\n",
    "yh=sp.Poly(yh,h).as_expr()"
   ]
  },
  {
   "cell_type": "markdown",
   "metadata": {},
   "source": [
    "### $g(h)$ terimlerinin hesaplanması\n",
    "1. katsayılar ile işleme girmeden önce $x$, $y$, $xy$, $x^2$ ve $y^2$ terimleri:"
   ]
  },
  {
   "cell_type": "code",
   "execution_count": 42,
   "metadata": {},
   "outputs": [
    {
     "data": {
      "text/html": [
       "<style  type=\"text/css\" >\n",
       "</style><table id=\"T_e0e1f8c0_e168_11eb_bbc8_7054d2d8235e\" ><thead>    <tr>        <th class=\"col_heading level0 col0\" >x</th>        <th class=\"col_heading level0 col1\" >y</th>        <th class=\"col_heading level0 col2\" >xy</th>        <th class=\"col_heading level0 col3\" >xx</th>        <th class=\"col_heading level0 col4\" >yy</th>    </tr></thead><tbody>\n",
       "                <tr>\n",
       "                                <td id=\"T_e0e1f8c0_e168_11eb_bbc8_7054d2d8235erow0_col0\" class=\"data row0 col0\" >0.409*h + 0.442</td>\n",
       "                        <td id=\"T_e0e1f8c0_e168_11eb_bbc8_7054d2d8235erow0_col1\" class=\"data row0 col1\" >-0.528*h - 1.443</td>\n",
       "                        <td id=\"T_e0e1f8c0_e168_11eb_bbc8_7054d2d8235erow0_col2\" class=\"data row0 col2\" >-0.216*h**2 - 0.824*h - 0.638</td>\n",
       "                        <td id=\"T_e0e1f8c0_e168_11eb_bbc8_7054d2d8235erow0_col3\" class=\"data row0 col3\" >0.167*h**2 + 0.362*h + 0.195</td>\n",
       "                        <td id=\"T_e0e1f8c0_e168_11eb_bbc8_7054d2d8235erow0_col4\" class=\"data row0 col4\" >0.279*h**2 + 1.524*h + 2.082</td>\n",
       "            </tr>\n",
       "    </tbody></table>"
      ],
      "text/plain": [
       "<pandas.io.formats.style.Styler at 0x1b0743cffd0>"
      ]
     },
     "execution_count": 42,
     "metadata": {},
     "output_type": "execute_result"
    }
   ],
   "source": [
    "p=[]\n",
    "p.clear()\n",
    "fxy=np.around(np.array(sp.Poly(xh*yh,h).evalf().all_coeffs()).astype(np.float),r)\n",
    "fxx=np.around(np.array(sp.Poly(xh*xh,h).evalf().all_coeffs()).astype(np.float),r)\n",
    "fyy=np.around(np.array(sp.Poly(yh*yh,h).evalf().all_coeffs()).astype(np.float),r)\n",
    "\n",
    "p.append([xh,\n",
    "          yh,\n",
    "          sp.Poly(fxy,h).as_expr(),\n",
    "          sp.Poly(fxx,h).as_expr(),\n",
    "          sp.Poly(fyy,h).as_expr()])\n",
    "\n",
    "pd.DataFrame(p, columns = ['x','y','xy','xx','yy']).style.hide_index()"
   ]
  },
  {
   "cell_type": "markdown",
   "metadata": {},
   "source": [
    "2. katsayılar ile çarpıldıktan sonra $x$, $y$, $xy$, $x^2$ ve $y^2$ terimleri:"
   ]
  },
  {
   "cell_type": "code",
   "execution_count": 43,
   "metadata": {},
   "outputs": [
    {
     "data": {
      "text/html": [
       "<style  type=\"text/css\" >\n",
       "</style><table id=\"T_e0ee52d0_e168_11eb_b78b_7054d2d8235e\" ><thead>    <tr>        <th class=\"col_heading level0 col0\" >cx</th>        <th class=\"col_heading level0 col1\" >cy</th>        <th class=\"col_heading level0 col2\" >cxy</th>        <th class=\"col_heading level0 col3\" >cxx</th>        <th class=\"col_heading level0 col4\" >cyy</th>    </tr></thead><tbody>\n",
       "                <tr>\n",
       "                                <td id=\"T_e0ee52d0_e168_11eb_b78b_7054d2d8235erow0_col0\" class=\"data row0 col0\" >0</td>\n",
       "                        <td id=\"T_e0ee52d0_e168_11eb_b78b_7054d2d8235erow0_col1\" class=\"data row0 col1\" >-0.676*h - 1.847</td>\n",
       "                        <td id=\"T_e0ee52d0_e168_11eb_b78b_7054d2d8235erow0_col2\" class=\"data row0 col2\" >-0.38*h**2 - 1.449*h - 1.123</td>\n",
       "                        <td id=\"T_e0ee52d0_e168_11eb_b78b_7054d2d8235erow0_col3\" class=\"data row0 col3\" >0.403*h**2 + 0.871*h + 0.471</td>\n",
       "                        <td id=\"T_e0ee52d0_e168_11eb_b78b_7054d2d8235erow0_col4\" class=\"data row0 col4\" >0.148*h**2 + 0.808*h + 1.104</td>\n",
       "            </tr>\n",
       "    </tbody></table>"
      ],
      "text/plain": [
       "<pandas.io.formats.style.Styler at 0x1b0744109d0>"
      ]
     },
     "execution_count": 43,
     "metadata": {},
     "output_type": "execute_result"
    }
   ],
   "source": [
    "p.clear()\n",
    "fcx=np.around(np.array(sp.Poly(cx*xh,h).evalf().all_coeffs()).astype(np.float),r)\n",
    "fcy=np.around(np.array(sp.Poly(cy*yh,h).evalf().all_coeffs()).astype(np.float),r)\n",
    "fcxy=np.around(np.array(sp.Poly(xh*yh*cxy,h).evalf().all_coeffs()).astype(np.float),r)\n",
    "fcxx=np.around(np.array(sp.Poly(xh*xh*cxx,h).evalf().all_coeffs()).astype(np.float),r)\n",
    "fcyy=np.around(np.array(sp.Poly(yh*yh*cyy,h).evalf().all_coeffs()).astype(np.float),r)\n",
    "\n",
    "p.append([sp.Poly(fcx,h).as_expr(),\n",
    "         sp.Poly(fcy,h).as_expr(),\n",
    "         sp.Poly(fcxy,h).as_expr(),\n",
    "         sp.Poly(fcxx,h).as_expr(),\n",
    "         sp.Poly(fcyy,h).as_expr()])\n",
    "\n",
    "pd.DataFrame(p, columns = ['cx','cy','cxy','cxx','cyy']).style.hide_index()"
   ]
  },
  {
   "cell_type": "markdown",
   "metadata": {},
   "source": [
    "### $g(h)$ fonksiyonu"
   ]
  },
  {
   "cell_type": "code",
   "execution_count": 44,
   "metadata": {},
   "outputs": [
    {
     "data": {
      "text/latex": [
       "$\\displaystyle 0.171 h^{2} - 0.446 h - 1.395$"
      ],
      "text/plain": [
       "0.171*h**2 - 0.446*h - 1.395"
      ]
     },
     "execution_count": 44,
     "metadata": {},
     "output_type": "execute_result"
    }
   ],
   "source": [
    "g=np.around(np.array(sp.Poly(p[0][0]+p[0][1]+p[0][2]+p[0][3]+p[0][4],h).evalf().all_coeffs()).astype(np.float),r)\n",
    "g=sp.Poly(g,h).as_expr()\n",
    "g"
   ]
  },
  {
   "cell_type": "markdown",
   "metadata": {},
   "source": [
    "## $\\frac{d g(h)}{d h}$ :"
   ]
  },
  {
   "cell_type": "code",
   "execution_count": 45,
   "metadata": {},
   "outputs": [
    {
     "data": {
      "text/latex": [
       "$\\displaystyle 0.342 h - 0.446$"
      ],
      "text/plain": [
       "0.342*h - 0.446"
      ]
     },
     "execution_count": 45,
     "metadata": {},
     "output_type": "execute_result"
    }
   ],
   "source": [
    "dg=np.around(np.array(sp.Poly(sp.diff(g,h),h).evalf().all_coeffs()).astype(np.float),r)\n",
    "dg=sp.Poly(dg,h).as_expr()\n",
    "dg"
   ]
  },
  {
   "cell_type": "markdown",
   "metadata": {},
   "source": [
    "### $Dg_h=0$ için optimal $h$ değeri"
   ]
  },
  {
   "cell_type": "code",
   "execution_count": 46,
   "metadata": {},
   "outputs": [
    {
     "data": {
      "text/latex": [
       "$\\displaystyle 1.304$"
      ],
      "text/plain": [
       "1.304"
      ]
     },
     "execution_count": 46,
     "metadata": {},
     "output_type": "execute_result"
    }
   ],
   "source": [
    "oph=sp.solve(dg,h)[0].evalf().round(r)\n",
    "oph"
   ]
  },
  {
   "cell_type": "markdown",
   "metadata": {},
   "source": [
    "### Optimum nokta (x,y)"
   ]
  },
  {
   "cell_type": "code",
   "execution_count": 47,
   "metadata": {},
   "outputs": [
    {
     "data": {
      "text/plain": [
       "(0.975, -2.132)"
      ]
     },
     "execution_count": 47,
     "metadata": {},
     "output_type": "execute_result"
    }
   ],
   "source": [
    "xx,yy=xh.subs({h:oph}).round(r),yh.subs({h:oph}).round(r)\n",
    "xx,yy"
   ]
  },
  {
   "cell_type": "markdown",
   "metadata": {},
   "source": [
    "### $f(x,y)$ optimum değeri"
   ]
  },
  {
   "cell_type": "code",
   "execution_count": 48,
   "metadata": {},
   "outputs": [],
   "source": [
    "opf=f.subs({x:xx,y:yy}).round(r)\n",
    "opg=g.subs({h:oph}).round(r)"
   ]
  },
  {
   "cell_type": "code",
   "execution_count": 49,
   "metadata": {},
   "outputs": [
    {
     "data": {
      "text/html": [
       "<style  type=\"text/css\" >\n",
       "</style><table id=\"T_e124ea89_e168_11eb_8b65_7054d2d8235e\" ><thead>    <tr>        <th class=\"col_heading level0 col0\" >Adım</th>        <th class=\"col_heading level0 col1\" >x0</th>        <th class=\"col_heading level0 col2\" >y0</th>        <th class=\"col_heading level0 col3\" >Grx</th>        <th class=\"col_heading level0 col4\" >Gry</th>        <th class=\"col_heading level0 col5\" >g</th>        <th class=\"col_heading level0 col6\" >dg</th>        <th class=\"col_heading level0 col7\" >oph</th>        <th class=\"col_heading level0 col8\" >opf</th>        <th class=\"col_heading level0 col9\" >opg</th>        <th class=\"col_heading level0 col10\" >x1</th>        <th class=\"col_heading level0 col11\" >y1</th>    </tr></thead><tbody>\n",
       "                <tr>\n",
       "                                <td id=\"T_e124ea89_e168_11eb_8b65_7054d2d8235erow0_col0\" class=\"data row0 col0\" >1</td>\n",
       "                        <td id=\"T_e124ea89_e168_11eb_8b65_7054d2d8235erow0_col1\" class=\"data row0 col1\" >0.500</td>\n",
       "                        <td id=\"T_e124ea89_e168_11eb_8b65_7054d2d8235erow0_col2\" class=\"data row0 col2\" >1.000</td>\n",
       "                        <td id=\"T_e124ea89_e168_11eb_8b65_7054d2d8235erow0_col3\" class=\"data row0 col3\" >4.170</td>\n",
       "                        <td id=\"T_e124ea89_e168_11eb_8b65_7054d2d8235erow0_col4\" class=\"data row0 col4\" >3.220</td>\n",
       "                        <td id=\"T_e124ea89_e168_11eb_8b65_7054d2d8235erow0_col5\" class=\"data row0 col5\" >71.034*h**2 - 27.758*h + 3.292</td>\n",
       "                        <td id=\"T_e124ea89_e168_11eb_8b65_7054d2d8235erow0_col6\" class=\"data row0 col6\" >142.068*h - 27.758</td>\n",
       "                        <td id=\"T_e124ea89_e168_11eb_8b65_7054d2d8235erow0_col7\" class=\"data row0 col7\" >0.195</td>\n",
       "                        <td id=\"T_e124ea89_e168_11eb_8b65_7054d2d8235erow0_col8\" class=\"data row0 col8\" >0.581</td>\n",
       "                        <td id=\"T_e124ea89_e168_11eb_8b65_7054d2d8235erow0_col9\" class=\"data row0 col9\" >0.580</td>\n",
       "                        <td id=\"T_e124ea89_e168_11eb_8b65_7054d2d8235erow0_col10\" class=\"data row0 col10\" >-0.313</td>\n",
       "                        <td id=\"T_e124ea89_e168_11eb_8b65_7054d2d8235erow0_col11\" class=\"data row0 col11\" >0.372</td>\n",
       "            </tr>\n",
       "            <tr>\n",
       "                                <td id=\"T_e124ea89_e168_11eb_8b65_7054d2d8235erow1_col0\" class=\"data row1 col0\" >2</td>\n",
       "                        <td id=\"T_e124ea89_e168_11eb_8b65_7054d2d8235erow1_col1\" class=\"data row1 col1\" >-0.313</td>\n",
       "                        <td id=\"T_e124ea89_e168_11eb_8b65_7054d2d8235erow1_col2\" class=\"data row1 col2\" >0.372</td>\n",
       "                        <td id=\"T_e124ea89_e168_11eb_8b65_7054d2d8235erow1_col3\" class=\"data row1 col3\" >-0.854</td>\n",
       "                        <td id=\"T_e124ea89_e168_11eb_8b65_7054d2d8235erow1_col4\" class=\"data row1 col4\" >1.123</td>\n",
       "                        <td id=\"T_e124ea89_e168_11eb_8b65_7054d2d8235erow1_col5\" class=\"data row1 col5\" >0.738*h**2 - 1.99*h + 0.58</td>\n",
       "                        <td id=\"T_e124ea89_e168_11eb_8b65_7054d2d8235erow1_col6\" class=\"data row1 col6\" >1.476*h - 1.99</td>\n",
       "                        <td id=\"T_e124ea89_e168_11eb_8b65_7054d2d8235erow1_col7\" class=\"data row1 col7\" >1.348</td>\n",
       "                        <td id=\"T_e124ea89_e168_11eb_8b65_7054d2d8235erow1_col8\" class=\"data row1 col8\" >-0.762</td>\n",
       "                        <td id=\"T_e124ea89_e168_11eb_8b65_7054d2d8235erow1_col9\" class=\"data row1 col9\" >-0.761</td>\n",
       "                        <td id=\"T_e124ea89_e168_11eb_8b65_7054d2d8235erow1_col10\" class=\"data row1 col10\" >0.838</td>\n",
       "                        <td id=\"T_e124ea89_e168_11eb_8b65_7054d2d8235erow1_col11\" class=\"data row1 col11\" >-1.142</td>\n",
       "            </tr>\n",
       "            <tr>\n",
       "                                <td id=\"T_e124ea89_e168_11eb_8b65_7054d2d8235erow2_col0\" class=\"data row2 col0\" >3</td>\n",
       "                        <td id=\"T_e124ea89_e168_11eb_8b65_7054d2d8235erow2_col1\" class=\"data row2 col1\" >0.838</td>\n",
       "                        <td id=\"T_e124ea89_e168_11eb_8b65_7054d2d8235erow2_col2\" class=\"data row2 col2\" >-1.142</td>\n",
       "                        <td id=\"T_e124ea89_e168_11eb_8b65_7054d2d8235erow2_col3\" class=\"data row2 col3\" >2.029</td>\n",
       "                        <td id=\"T_e124ea89_e168_11eb_8b65_7054d2d8235erow2_col4\" class=\"data row2 col4\" >1.544</td>\n",
       "                        <td id=\"T_e124ea89_e168_11eb_8b65_7054d2d8235erow2_col5\" class=\"data row2 col5\" >16.699*h**2 - 6.501*h - 0.763</td>\n",
       "                        <td id=\"T_e124ea89_e168_11eb_8b65_7054d2d8235erow2_col6\" class=\"data row2 col6\" >33.398*h - 6.501</td>\n",
       "                        <td id=\"T_e124ea89_e168_11eb_8b65_7054d2d8235erow2_col7\" class=\"data row2 col7\" >0.195</td>\n",
       "                        <td id=\"T_e124ea89_e168_11eb_8b65_7054d2d8235erow2_col8\" class=\"data row2 col8\" >-1.395</td>\n",
       "                        <td id=\"T_e124ea89_e168_11eb_8b65_7054d2d8235erow2_col9\" class=\"data row2 col9\" >-1.396</td>\n",
       "                        <td id=\"T_e124ea89_e168_11eb_8b65_7054d2d8235erow2_col10\" class=\"data row2 col10\" >0.442</td>\n",
       "                        <td id=\"T_e124ea89_e168_11eb_8b65_7054d2d8235erow2_col11\" class=\"data row2 col11\" >-1.443</td>\n",
       "            </tr>\n",
       "            <tr>\n",
       "                                <td id=\"T_e124ea89_e168_11eb_8b65_7054d2d8235erow3_col0\" class=\"data row3 col0\" >4</td>\n",
       "                        <td id=\"T_e124ea89_e168_11eb_8b65_7054d2d8235erow3_col1\" class=\"data row3 col1\" >0.442</td>\n",
       "                        <td id=\"T_e124ea89_e168_11eb_8b65_7054d2d8235erow3_col2\" class=\"data row3 col2\" >-1.443</td>\n",
       "                        <td id=\"T_e124ea89_e168_11eb_8b65_7054d2d8235erow3_col3\" class=\"data row3 col3\" >-0.409</td>\n",
       "                        <td id=\"T_e124ea89_e168_11eb_8b65_7054d2d8235erow3_col4\" class=\"data row3 col4\" >0.528</td>\n",
       "                        <td id=\"T_e124ea89_e168_11eb_8b65_7054d2d8235erow3_col5\" class=\"data row3 col5\" >0.171*h**2 - 0.446*h - 1.395</td>\n",
       "                        <td id=\"T_e124ea89_e168_11eb_8b65_7054d2d8235erow3_col6\" class=\"data row3 col6\" >0.342*h - 0.446</td>\n",
       "                        <td id=\"T_e124ea89_e168_11eb_8b65_7054d2d8235erow3_col7\" class=\"data row3 col7\" >1.304</td>\n",
       "                        <td id=\"T_e124ea89_e168_11eb_8b65_7054d2d8235erow3_col8\" class=\"data row3 col8\" >-1.687</td>\n",
       "                        <td id=\"T_e124ea89_e168_11eb_8b65_7054d2d8235erow3_col9\" class=\"data row3 col9\" >-1.686</td>\n",
       "                        <td id=\"T_e124ea89_e168_11eb_8b65_7054d2d8235erow3_col10\" class=\"data row3 col10\" >0.975</td>\n",
       "                        <td id=\"T_e124ea89_e168_11eb_8b65_7054d2d8235erow3_col11\" class=\"data row3 col11\" >-2.132</td>\n",
       "            </tr>\n",
       "    </tbody></table>"
      ],
      "text/plain": [
       "<pandas.io.formats.style.Styler at 0x1b0743df0a0>"
      ]
     },
     "execution_count": 49,
     "metadata": {},
     "output_type": "execute_result"
    }
   ],
   "source": [
    "out.append([j,V[0],V[1],Gr[0],Gr[1],g,dg,oph,opf,opg,xx,yy])\n",
    "j=j+1\n",
    "pd.DataFrame(out, columns = ['Adım','x0','y0','Grx','Gry','g','dg','oph','opf','opg','x1','y1']).style.hide_index().set_precision(3)"
   ]
  },
  {
   "cell_type": "code",
   "execution_count": 50,
   "metadata": {},
   "outputs": [],
   "source": [
    "V=np.array([xx,yy])"
   ]
  }
 ],
 "metadata": {
  "kernelspec": {
   "display_name": "Python 3",
   "language": "python",
   "name": "python3"
  },
  "language_info": {
   "codemirror_mode": {
    "name": "ipython",
    "version": 3
   },
   "file_extension": ".py",
   "mimetype": "text/x-python",
   "name": "python",
   "nbconvert_exporter": "python",
   "pygments_lexer": "ipython3",
   "version": "3.8.3"
  }
 },
 "nbformat": 4,
 "nbformat_minor": 4
}
