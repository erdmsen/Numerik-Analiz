{
 "cells": [
  {
   "cell_type": "markdown",
   "metadata": {},
   "source": [
    "# Taylor serisi"
   ]
  },
  {
   "cell_type": "code",
   "execution_count": 1,
   "metadata": {},
   "outputs": [],
   "source": [
    "%reset -f"
   ]
  },
  {
   "cell_type": "code",
   "execution_count": 2,
   "metadata": {},
   "outputs": [],
   "source": [
    "import numpy as np\n",
    "import sympy as sp\n",
    "import math"
   ]
  },
  {
   "cell_type": "code",
   "execution_count": 3,
   "metadata": {},
   "outputs": [],
   "source": [
    "x=sp.symbols('x')\n",
    "f=x**2+-3*x+5"
   ]
  },
  {
   "cell_type": "code",
   "execution_count": 4,
   "metadata": {},
   "outputs": [],
   "source": [
    "x0=38 \n",
    "h=2 # x-x0\n",
    "n=6 # terim sayısı"
   ]
  },
  {
   "cell_type": "code",
   "execution_count": 5,
   "metadata": {},
   "outputs": [
    {
     "data": {
      "text/latex": [
       "$\\displaystyle 1335$"
      ],
      "text/plain": [
       "1335"
      ]
     },
     "execution_count": 5,
     "metadata": {},
     "output_type": "execute_result"
    }
   ],
   "source": [
    "out=[]\n",
    "out.clear()\n",
    "for i in range(n): \n",
    "    out.append(sp.diff(f,x,i).subs({x:x0-h}) * h**i / math.factorial(i)) \n",
    "sum(out)"
   ]
  },
  {
   "cell_type": "code",
   "execution_count": 6,
   "metadata": {},
   "outputs": [
    {
     "name": "stdout",
     "output_type": "stream",
     "text": [
      "= 1193 + 138 + 4 + 0 + 0 + 0\n"
     ]
    }
   ],
   "source": [
    "# Terimler (derece = terim_numarası-1)\n",
    "print('= {} + {} + {} + {} + {} + {}'.format(*out))"
   ]
  },
  {
   "cell_type": "markdown",
   "metadata": {},
   "source": [
    "# Hatalar"
   ]
  },
  {
   "cell_type": "code",
   "execution_count": null,
   "metadata": {},
   "outputs": [],
   "source": [
    "%reset -f"
   ]
  },
  {
   "cell_type": "code",
   "execution_count": 4,
   "metadata": {},
   "outputs": [],
   "source": [
    "gercek=1\n",
    "yaklasım=1"
   ]
  },
  {
   "cell_type": "markdown",
   "metadata": {},
   "source": [
    "Mutlak hata"
   ]
  },
  {
   "cell_type": "code",
   "execution_count": 5,
   "metadata": {},
   "outputs": [],
   "source": [
    "H=abs(gercek-yaklasım)"
   ]
  },
  {
   "cell_type": "markdown",
   "metadata": {},
   "source": [
    "Bağıl hata"
   ]
  },
  {
   "cell_type": "code",
   "execution_count": 6,
   "metadata": {},
   "outputs": [],
   "source": [
    "H=100*abs((gercek-yaklasım)/gercek)"
   ]
  },
  {
   "cell_type": "markdown",
   "metadata": {},
   "source": [
    "Yaklaşım hatası"
   ]
  },
  {
   "cell_type": "code",
   "execution_count": 3,
   "metadata": {},
   "outputs": [],
   "source": [
    "yeni=1\n",
    "eski=1\n",
    "H=100*abs((yeni-eski)/yeni)"
   ]
  },
  {
   "cell_type": "markdown",
   "metadata": {},
   "source": [
    "# Matris"
   ]
  },
  {
   "cell_type": "code",
   "execution_count": null,
   "metadata": {},
   "outputs": [],
   "source": [
    "%reset -f"
   ]
  },
  {
   "cell_type": "code",
   "execution_count": null,
   "metadata": {},
   "outputs": [],
   "source": [
    "import numpy as np\n",
    "import sympy as sp"
   ]
  },
  {
   "cell_type": "code",
   "execution_count": null,
   "metadata": {
    "jupyter": {
     "source_hidden": true
    }
   },
   "outputs": [],
   "source": [
    "A = np.array([[6, 1, 1],\n",
    "              [4, -2, 5],\n",
    "              [2, 8, 7]])"
   ]
  },
  {
   "cell_type": "markdown",
   "metadata": {
    "jupyter": {
     "source_hidden": true
    }
   },
   "source": [
    "Ters Matris"
   ]
  },
  {
   "cell_type": "code",
   "execution_count": null,
   "metadata": {
    "jupyter": {
     "source_hidden": true
    }
   },
   "outputs": [],
   "source": [
    "sp.Matrix(np.linalg.inv(A).round(3))"
   ]
  },
  {
   "cell_type": "markdown",
   "metadata": {
    "jupyter": {
     "source_hidden": true
    }
   },
   "source": [
    "Determinant"
   ]
  },
  {
   "cell_type": "code",
   "execution_count": null,
   "metadata": {
    "jupyter": {
     "source_hidden": true
    }
   },
   "outputs": [],
   "source": [
    "sp.Matrix(np.linalg.det(A).round(3))"
   ]
  },
  {
   "cell_type": "markdown",
   "metadata": {
    "jupyter": {
     "source_hidden": true
    }
   },
   "source": [
    "Matris Çarpımı"
   ]
  },
  {
   "cell_type": "code",
   "execution_count": null,
   "metadata": {
    "jupyter": {
     "source_hidden": true
    }
   },
   "outputs": [],
   "source": [
    "B = np.array([[2, 1, 1],\n",
    "              [1, -2, 5],\n",
    "              [2, 3, 1]])\n",
    "sp.Matrix(A.dot(B))"
   ]
  },
  {
   "cell_type": "markdown",
   "metadata": {},
   "source": [
    "# Crout Yöntemi"
   ]
  },
  {
   "cell_type": "code",
   "execution_count": 7,
   "metadata": {},
   "outputs": [],
   "source": [
    "%reset -f"
   ]
  },
  {
   "cell_type": "code",
   "execution_count": 8,
   "metadata": {},
   "outputs": [],
   "source": [
    "import numpy as np\n",
    "import sympy as sp"
   ]
  },
  {
   "cell_type": "code",
   "execution_count": 9,
   "metadata": {},
   "outputs": [],
   "source": [
    "A = np.array([[1, 1, 1],\n",
    "                [2, 1, -1],\n",
    "                [2, -1, 1]])\n",
    "E = np.array([[6],\n",
    "             [7],\n",
    "             [5]])"
   ]
  },
  {
   "cell_type": "code",
   "execution_count": 10,
   "metadata": {},
   "outputs": [],
   "source": [
    "sa=np.shape(A)\n",
    "rdim=sa[0]\n",
    "U = np.identity(rdim)\n",
    "L = np.zeros(shape=sa)"
   ]
  },
  {
   "cell_type": "code",
   "execution_count": 11,
   "metadata": {},
   "outputs": [],
   "source": [
    "for j in range (rdim):\n",
    "    for i in range(j,rdim):\n",
    "        sumL,sumU = 0,0\n",
    "        for k in range(j): \n",
    "            sumL = sumL + L[i,k] * U[k,j]\t\n",
    "            sumU = sumU + L[j,k] * U[k,i]\n",
    "        L[i,j] = A[i,j] - sumL\n",
    "        U[j,i] = (A[j,i] - sumU) / L[j,j]"
   ]
  },
  {
   "cell_type": "code",
   "execution_count": 12,
   "metadata": {},
   "outputs": [
    {
     "data": {
      "text/latex": [
       "$\\displaystyle \\left[\\begin{matrix}1.0 & 0.0 & 0.0\\\\2.0 & -1.0 & 0.0\\\\2.0 & -3.0 & 8.0\\end{matrix}\\right]$"
      ],
      "text/plain": [
       "Matrix([\n",
       "[1.0,  0.0, 0.0],\n",
       "[2.0, -1.0, 0.0],\n",
       "[2.0, -3.0, 8.0]])"
      ]
     },
     "execution_count": 12,
     "metadata": {},
     "output_type": "execute_result"
    }
   ],
   "source": [
    "sp.Matrix(L.round(3))"
   ]
  },
  {
   "cell_type": "code",
   "execution_count": 13,
   "metadata": {},
   "outputs": [
    {
     "data": {
      "text/latex": [
       "$\\displaystyle \\left[\\begin{matrix}1.0 & 1.0 & 1.0\\\\0.0 & 1.0 & 3.0\\\\0.0 & 0.0 & 1.0\\end{matrix}\\right]$"
      ],
      "text/plain": [
       "Matrix([\n",
       "[1.0, 1.0, 1.0],\n",
       "[0.0, 1.0, 3.0],\n",
       "[0.0, 0.0, 1.0]])"
      ]
     },
     "execution_count": 13,
     "metadata": {},
     "output_type": "execute_result"
    }
   ],
   "source": [
    "sp.Matrix(U.round(3))"
   ]
  },
  {
   "cell_type": "code",
   "execution_count": 14,
   "metadata": {},
   "outputs": [
    {
     "data": {
      "text/latex": [
       "$\\displaystyle \\left[\\begin{matrix}6.0\\\\5.0\\\\1.0\\end{matrix}\\right]$"
      ],
      "text/plain": [
       "Matrix([\n",
       "[6.0],\n",
       "[5.0],\n",
       "[1.0]])"
      ]
     },
     "execution_count": 14,
     "metadata": {},
     "output_type": "execute_result"
    }
   ],
   "source": [
    "D=np.linalg.solve(L, E)\n",
    "sp.Matrix(D.round(3))"
   ]
  },
  {
   "cell_type": "code",
   "execution_count": 15,
   "metadata": {},
   "outputs": [
    {
     "data": {
      "text/latex": [
       "$\\displaystyle \\left[\\begin{matrix}3.0\\\\2.0\\\\1.0\\end{matrix}\\right]$"
      ],
      "text/plain": [
       "Matrix([\n",
       "[3.0],\n",
       "[2.0],\n",
       "[1.0]])"
      ]
     },
     "execution_count": 15,
     "metadata": {},
     "output_type": "execute_result"
    }
   ],
   "source": [
    "X=np.linalg.solve(U, D)\n",
    "sp.Matrix(X.round(3))"
   ]
  },
  {
   "cell_type": "markdown",
   "metadata": {},
   "source": [
    "# Jacobi Yöntemi\n",
    "Kullanılan kaynak:\n",
    "https://www.quantstart.com/articles/Jacobi-Method-in-Python-and-NumPy/#:~:text=The%20Jacobi%20method%20is%20a,and%20known%20vector%20or%20length%20."
   ]
  },
  {
   "cell_type": "markdown",
   "metadata": {},
   "source": [
    "Köşegen değerleri kendi satırındaki elemanların toplamından büyük olmalı, değilse satır değiştir. Kontrol sonrası:"
   ]
  },
  {
   "cell_type": "code",
   "execution_count": 38,
   "metadata": {},
   "outputs": [],
   "source": [
    "%reset -f"
   ]
  },
  {
   "cell_type": "code",
   "execution_count": 39,
   "metadata": {},
   "outputs": [],
   "source": [
    "import numpy as np"
   ]
  },
  {
   "cell_type": "code",
   "execution_count": 40,
   "metadata": {},
   "outputs": [],
   "source": [
    "A = np.array([[8, 2, 3],\n",
    "              [1, -9, 2],\n",
    "              [2, 3, 6]])\n",
    "E = np.array([[30],\n",
    "              [1],\n",
    "              [31]])"
   ]
  },
  {
   "cell_type": "code",
   "execution_count": 41,
   "metadata": {},
   "outputs": [],
   "source": [
    "sa=np.shape(A)\n",
    "rdim=sa[0]\n",
    "\"\"\"BAŞLANGIÇ DEĞERLERİ\"\"\"\n",
    "# x=np.array([1, 2, 3])\n",
    "# tekrar sayısı\n",
    "n=4"
   ]
  },
  {
   "cell_type": "code",
   "execution_count": 42,
   "metadata": {},
   "outputs": [],
   "source": [
    "def jacobi(a,b,n,x=None):\n",
    "    if x==None: x = np.zeros(rdim) \n",
    "    # Create a vector of the diagonal elements of A and subtract them from A \n",
    "    d = np.diag(a)\n",
    "    r = a - np.diagflat(d)\n",
    "    # Iterate for N times  \n",
    "    for i in range(n):\n",
    "        x = np.diag((b - np.dot(r,x))/d)\n",
    "    return x"
   ]
  },
  {
   "cell_type": "code",
   "execution_count": 21,
   "metadata": {},
   "outputs": [
    {
     "name": "stdout",
     "output_type": "stream",
     "text": [
      "1. tekrar [ 3.75  -0.111  5.167]\n",
      "2. tekrar [1.84  1.454 3.972]\n",
      "3. tekrar [1.897 0.976 3.826]\n",
      "4. tekrar [2.071 0.95  4.046]\n"
     ]
    }
   ],
   "source": [
    "print('1. tekrar',jacobi(A,E,1).round(3))\n",
    "print('2. tekrar',jacobi(A,E,2).round(3))\n",
    "print('3. tekrar',jacobi(A,E,3).round(3))\n",
    "print('4. tekrar',jacobi(A,E,4).round(3))"
   ]
  },
  {
   "cell_type": "markdown",
   "metadata": {},
   "source": [
    "# Gauss-Seidel"
   ]
  },
  {
   "cell_type": "markdown",
   "metadata": {},
   "source": [
    "Köşegen elemanları 0 olamaz. Köşegen değerleri kendi satırındaki elemanların toplamından büyük olmalı, değilse satır değiştirerek dene."
   ]
  },
  {
   "cell_type": "code",
   "execution_count": 22,
   "metadata": {},
   "outputs": [],
   "source": [
    "%reset -f"
   ]
  },
  {
   "cell_type": "code",
   "execution_count": 23,
   "metadata": {},
   "outputs": [],
   "source": [
    "import numpy as np"
   ]
  },
  {
   "cell_type": "code",
   "execution_count": 24,
   "metadata": {},
   "outputs": [],
   "source": [
    "A = np.array([[4, -1, -1],\n",
    "              [6, 8, 0],\n",
    "              [-5, 0, 12]])\n",
    "E = np.array([[-2],\n",
    "              [45],\n",
    "              [80]])\n"
   ]
  },
  {
   "cell_type": "code",
   "execution_count": 25,
   "metadata": {},
   "outputs": [],
   "source": [
    "sa=np.shape(A)\n",
    "rdim=sa[0]\n",
    "\"\"\"BAŞLANGIÇ DEĞERLERİ\"\"\"\n",
    "# x=np.array([1, 2, 3])\n",
    "# tekrar sayısı\n",
    "n=4"
   ]
  },
  {
   "cell_type": "code",
   "execution_count": 26,
   "metadata": {},
   "outputs": [],
   "source": [
    "def gauseidel(a,b,n,x=None):\n",
    "    if x==None: x = np.zeros(rdim) \n",
    "    # Create a vector of the diagonal elements of A and subtract them from A \n",
    "    d = np.diag(a)\n",
    "    r = a - np.diagflat(d)\n",
    "    # Iterate for N times  \n",
    "    for i in range(n):\n",
    "        for j in range(len(x)):\n",
    "            x[j] = ((b - np.dot(r,x))/d)[j,j]            \n",
    "    return x"
   ]
  },
  {
   "cell_type": "code",
   "execution_count": 27,
   "metadata": {},
   "outputs": [
    {
     "name": "stdout",
     "output_type": "stream",
     "text": [
      "1. tekrar [-0.5    6.     6.458]\n",
      "2. tekrar [2.615 3.664 7.756]\n",
      "3. tekrar [2.355 3.859 7.648]\n",
      "4. tekrar [2.377 3.843 7.657]\n"
     ]
    }
   ],
   "source": [
    "print('1. tekrar',gauseidel(A,E,1).round(3))\n",
    "print('2. tekrar',gauseidel(A,E,2).round(3))\n",
    "print('3. tekrar',gauseidel(A,E,3).round(3))\n",
    "print('4. tekrar',gauseidel(A,E,4).round(3))"
   ]
  },
  {
   "cell_type": "markdown",
   "metadata": {},
   "source": [
    "# Bisection (Aralık Yarılama/Bölme)"
   ]
  },
  {
   "cell_type": "code",
   "execution_count": 28,
   "metadata": {},
   "outputs": [],
   "source": [
    "%reset -f"
   ]
  },
  {
   "cell_type": "code",
   "execution_count": 29,
   "metadata": {},
   "outputs": [],
   "source": [
    "import numpy as np\n",
    "import math"
   ]
  },
  {
   "cell_type": "code",
   "execution_count": 30,
   "metadata": {},
   "outputs": [],
   "source": [
    "def f(x): return 4.5*x-2*np.cos(x)\n",
    "a,b = 0,1\n",
    "n = 4 # tekrar sayısı"
   ]
  },
  {
   "cell_type": "code",
   "execution_count": 31,
   "metadata": {},
   "outputs": [],
   "source": [
    "sign = lambda x: math.copysign(1, x)"
   ]
  },
  {
   "cell_type": "code",
   "execution_count": 32,
   "metadata": {},
   "outputs": [
    {
     "name": "stdout",
     "output_type": "stream",
     "text": [
      " 1.tekrar \ta=0.0000 \tb=0.500 \tc=0.500\n",
      " 2.tekrar \ta=0.2500 \tb=0.500 \tc=0.250\n",
      " 3.tekrar \ta=0.3750 \tb=0.500 \tc=0.375\n",
      " 4.tekrar \ta=0.3750 \tb=0.438 \tc=0.438\n"
     ]
    }
   ],
   "source": [
    "for i in range(n):\n",
    "    fa=f(a)\n",
    "    if sign(fa) != sign(f(b)):\n",
    "        c=(a+b)/2\n",
    "        if sign(fa) != sign(f(c)): b=c\n",
    "        else: a=c\n",
    "        print('%2d.tekrar \\ta=%.4f \\tb=%.3f \\tc=%.3f' % (i+1,a,b,c))\n",
    "    elif fa==f(b): print('%2d.tekrar \\tkök=%.3f=a=b' % (i+1,a))\n",
    "    else: print('%2d.tekrar \\tkök yok' % (i+1,a))"
   ]
  },
  {
   "cell_type": "markdown",
   "metadata": {},
   "source": [
    "# Regula-Falsi"
   ]
  },
  {
   "cell_type": "code",
   "execution_count": 33,
   "metadata": {},
   "outputs": [],
   "source": [
    "%reset -f"
   ]
  },
  {
   "cell_type": "code",
   "execution_count": 34,
   "metadata": {},
   "outputs": [],
   "source": [
    "import numpy as np\n",
    "import math"
   ]
  },
  {
   "cell_type": "code",
   "execution_count": 35,
   "metadata": {},
   "outputs": [],
   "source": [
    "def f(x): return 4.5*x-2*np.cos(x)\n",
    "a,b = 0,1\n",
    "n = 4 # tekrar sayısı"
   ]
  },
  {
   "cell_type": "code",
   "execution_count": 36,
   "metadata": {},
   "outputs": [],
   "source": [
    "sign = lambda x: math.copysign(1, x)"
   ]
  },
  {
   "cell_type": "code",
   "execution_count": 37,
   "metadata": {},
   "outputs": [
    {
     "name": "stdout",
     "output_type": "stream",
     "text": [
      " 1.tekrar \ta=0.369 \tb=1.000 \tc=0.369\n",
      " 2.tekrar \ta=0.405 \tb=1.000 \tc=0.405\n",
      " 3.tekrar \ta=0.408 \tb=1.000 \tc=0.408\n",
      " 4.tekrar \ta=0.408 \tb=1.000 \tc=0.408\n"
     ]
    }
   ],
   "source": [
    "for i in range(n):\n",
    "    fa,fb=f(a),f(b)\n",
    "    if sign(fa) != sign(fb):\n",
    "        c= (a*fb-b*fa)/(fb-fa)\n",
    "        if sign(fa) != sign(f(c)): b=c\n",
    "        else: a=c\n",
    "        print('%2d.tekrar \\ta=%.3f \\tb=%.3f \\tc=%.3f' % (i+1,a,b,c))\n",
    "    elif fa==fb: print('%2d.tekrar \\tkök=%.4f=a=b' % (i+1,a))\n",
    "    else: print('%2d.tekrar \\tkök yok' % (i+1,a))"
   ]
  },
  {
   "cell_type": "markdown",
   "metadata": {},
   "source": [
    "# Secant (Kiriş) Yöntemi"
   ]
  },
  {
   "cell_type": "markdown",
   "metadata": {},
   "source": [
    "burada kökü araya alman gerekmiyor"
   ]
  },
  {
   "cell_type": "code",
   "execution_count": 1,
   "metadata": {},
   "outputs": [],
   "source": [
    "%reset -f"
   ]
  },
  {
   "cell_type": "code",
   "execution_count": 9,
   "metadata": {},
   "outputs": [],
   "source": [
    "import numpy as np\n",
    "import pandas as pd"
   ]
  },
  {
   "cell_type": "code",
   "execution_count": 31,
   "metadata": {},
   "outputs": [],
   "source": [
    "def f(x): return 4.5*x-2*np.cos(x)"
   ]
  },
  {
   "cell_type": "code",
   "execution_count": 32,
   "metadata": {},
   "outputs": [],
   "source": [
    "n=5 # tekrar sayısı\n",
    "out=[n]\n",
    "out.clear()"
   ]
  },
  {
   "cell_type": "code",
   "execution_count": 33,
   "metadata": {},
   "outputs": [],
   "source": [
    "x0,x1=0,1\n",
    "for i in range(n):\n",
    "    f0,f1=f(x0),f(x1)\n",
    "    x2 = x1-f1*(x1-x0)/(f1-f0)\n",
    "    out.append([i+1,x0,x1,x2,f(x2),x2-x1])\n",
    "    x0,x1=x1,x2"
   ]
  },
  {
   "cell_type": "code",
   "execution_count": 34,
   "metadata": {},
   "outputs": [
    {
     "data": {
      "text/html": [
       "<style  type=\"text/css\" >\n",
       "</style><table id=\"T_f9e991da_dff9_11eb_a579_7054d2d8235e\" ><thead>    <tr>        <th class=\"col_heading level0 col0\" >adım</th>        <th class=\"col_heading level0 col1\" >x0</th>        <th class=\"col_heading level0 col2\" >x1</th>        <th class=\"col_heading level0 col3\" >x2</th>        <th class=\"col_heading level0 col4\" >f ( x2 )</th>        <th class=\"col_heading level0 col5\" >Δx</th>    </tr></thead><tbody>\n",
       "                <tr>\n",
       "                                <td id=\"T_f9e991da_dff9_11eb_a579_7054d2d8235erow0_col0\" class=\"data row0 col0\" >1</td>\n",
       "                        <td id=\"T_f9e991da_dff9_11eb_a579_7054d2d8235erow0_col1\" class=\"data row0 col1\" >0.000</td>\n",
       "                        <td id=\"T_f9e991da_dff9_11eb_a579_7054d2d8235erow0_col2\" class=\"data row0 col2\" >1.000</td>\n",
       "                        <td id=\"T_f9e991da_dff9_11eb_a579_7054d2d8235erow0_col3\" class=\"data row0 col3\" >0.369</td>\n",
       "                        <td id=\"T_f9e991da_dff9_11eb_a579_7054d2d8235erow0_col4\" class=\"data row0 col4\" >-0.205</td>\n",
       "                        <td id=\"T_f9e991da_dff9_11eb_a579_7054d2d8235erow0_col5\" class=\"data row0 col5\" >-0.631</td>\n",
       "            </tr>\n",
       "            <tr>\n",
       "                                <td id=\"T_f9e991da_dff9_11eb_a579_7054d2d8235erow1_col0\" class=\"data row1 col0\" >2</td>\n",
       "                        <td id=\"T_f9e991da_dff9_11eb_a579_7054d2d8235erow1_col1\" class=\"data row1 col1\" >1.000</td>\n",
       "                        <td id=\"T_f9e991da_dff9_11eb_a579_7054d2d8235erow1_col2\" class=\"data row1 col2\" >0.369</td>\n",
       "                        <td id=\"T_f9e991da_dff9_11eb_a579_7054d2d8235erow1_col3\" class=\"data row1 col3\" >0.405</td>\n",
       "                        <td id=\"T_f9e991da_dff9_11eb_a579_7054d2d8235erow1_col4\" class=\"data row1 col4\" >-0.017</td>\n",
       "                        <td id=\"T_f9e991da_dff9_11eb_a579_7054d2d8235erow1_col5\" class=\"data row1 col5\" >0.036</td>\n",
       "            </tr>\n",
       "            <tr>\n",
       "                                <td id=\"T_f9e991da_dff9_11eb_a579_7054d2d8235erow2_col0\" class=\"data row2 col0\" >3</td>\n",
       "                        <td id=\"T_f9e991da_dff9_11eb_a579_7054d2d8235erow2_col1\" class=\"data row2 col1\" >0.369</td>\n",
       "                        <td id=\"T_f9e991da_dff9_11eb_a579_7054d2d8235erow2_col2\" class=\"data row2 col2\" >0.405</td>\n",
       "                        <td id=\"T_f9e991da_dff9_11eb_a579_7054d2d8235erow2_col3\" class=\"data row2 col3\" >0.408</td>\n",
       "                        <td id=\"T_f9e991da_dff9_11eb_a579_7054d2d8235erow2_col4\" class=\"data row2 col4\" >0.000</td>\n",
       "                        <td id=\"T_f9e991da_dff9_11eb_a579_7054d2d8235erow2_col5\" class=\"data row2 col5\" >0.003</td>\n",
       "            </tr>\n",
       "            <tr>\n",
       "                                <td id=\"T_f9e991da_dff9_11eb_a579_7054d2d8235erow3_col0\" class=\"data row3 col0\" >4</td>\n",
       "                        <td id=\"T_f9e991da_dff9_11eb_a579_7054d2d8235erow3_col1\" class=\"data row3 col1\" >0.405</td>\n",
       "                        <td id=\"T_f9e991da_dff9_11eb_a579_7054d2d8235erow3_col2\" class=\"data row3 col2\" >0.408</td>\n",
       "                        <td id=\"T_f9e991da_dff9_11eb_a579_7054d2d8235erow3_col3\" class=\"data row3 col3\" >0.408</td>\n",
       "                        <td id=\"T_f9e991da_dff9_11eb_a579_7054d2d8235erow3_col4\" class=\"data row3 col4\" >-0.000</td>\n",
       "                        <td id=\"T_f9e991da_dff9_11eb_a579_7054d2d8235erow3_col5\" class=\"data row3 col5\" >-0.000</td>\n",
       "            </tr>\n",
       "            <tr>\n",
       "                                <td id=\"T_f9e991da_dff9_11eb_a579_7054d2d8235erow4_col0\" class=\"data row4 col0\" >5</td>\n",
       "                        <td id=\"T_f9e991da_dff9_11eb_a579_7054d2d8235erow4_col1\" class=\"data row4 col1\" >0.408</td>\n",
       "                        <td id=\"T_f9e991da_dff9_11eb_a579_7054d2d8235erow4_col2\" class=\"data row4 col2\" >0.408</td>\n",
       "                        <td id=\"T_f9e991da_dff9_11eb_a579_7054d2d8235erow4_col3\" class=\"data row4 col3\" >0.408</td>\n",
       "                        <td id=\"T_f9e991da_dff9_11eb_a579_7054d2d8235erow4_col4\" class=\"data row4 col4\" >-0.000</td>\n",
       "                        <td id=\"T_f9e991da_dff9_11eb_a579_7054d2d8235erow4_col5\" class=\"data row4 col5\" >0.000</td>\n",
       "            </tr>\n",
       "    </tbody></table>"
      ],
      "text/plain": [
       "<pandas.io.formats.style.Styler at 0x1b8face7d90>"
      ]
     },
     "execution_count": 34,
     "metadata": {},
     "output_type": "execute_result"
    }
   ],
   "source": [
    "pd.DataFrame(out, columns = ['adım','x0','x1','x2','f ( x2 )','Δx']).style.hide_index().set_precision(3)"
   ]
  },
  {
   "cell_type": "markdown",
   "metadata": {},
   "source": [
    "# Newton-Raphson"
   ]
  },
  {
   "cell_type": "code",
   "execution_count": 1,
   "metadata": {},
   "outputs": [],
   "source": [
    "%reset -f"
   ]
  },
  {
   "cell_type": "code",
   "execution_count": 2,
   "metadata": {},
   "outputs": [],
   "source": [
    "import numpy as np\n",
    "import sympy as sp\n",
    "import pandas as pd"
   ]
  },
  {
   "cell_type": "code",
   "execution_count": 3,
   "metadata": {},
   "outputs": [],
   "source": [
    "x=sp.symbols('x')\n",
    "f=4.5*x-2*sp.cos(x)"
   ]
  },
  {
   "cell_type": "code",
   "execution_count": 4,
   "metadata": {},
   "outputs": [],
   "source": [
    "out=[]\n",
    "out.clear()"
   ]
  },
  {
   "cell_type": "code",
   "execution_count": 5,
   "metadata": {},
   "outputs": [],
   "source": [
    "n  = 6 # tekrar sayısı\n",
    "x0 = 0.0\n",
    "for i in range(n):\n",
    "    fx0,dfx0=f.subs({x:x0}),sp.diff(f,x).subs({x:x0})\n",
    "    x1=x0-fx0/dfx0\n",
    "    op=np.array([x0,fx0,dfx0,x1]).astype(np.float)\n",
    "    out.append([i+1,op[0],op[1],op[2],op[3]])\n",
    "    x0=x1"
   ]
  },
  {
   "cell_type": "code",
   "execution_count": 6,
   "metadata": {},
   "outputs": [
    {
     "data": {
      "text/html": [
       "<style  type=\"text/css\" >\n",
       "</style><table id=\"T_c3415275_e024_11eb_b7d9_7054d2d8235e\" ><thead>    <tr>        <th class=\"col_heading level0 col0\" >adım</th>        <th class=\"col_heading level0 col1\" >x0</th>        <th class=\"col_heading level0 col2\" >f ( x0 )</th>        <th class=\"col_heading level0 col3\" >f ' ( x0 )</th>        <th class=\"col_heading level0 col4\" >x1</th>    </tr></thead><tbody>\n",
       "                <tr>\n",
       "                                <td id=\"T_c3415275_e024_11eb_b7d9_7054d2d8235erow0_col0\" class=\"data row0 col0\" >1</td>\n",
       "                        <td id=\"T_c3415275_e024_11eb_b7d9_7054d2d8235erow0_col1\" class=\"data row0 col1\" >0.000</td>\n",
       "                        <td id=\"T_c3415275_e024_11eb_b7d9_7054d2d8235erow0_col2\" class=\"data row0 col2\" >-2.000</td>\n",
       "                        <td id=\"T_c3415275_e024_11eb_b7d9_7054d2d8235erow0_col3\" class=\"data row0 col3\" >4.500</td>\n",
       "                        <td id=\"T_c3415275_e024_11eb_b7d9_7054d2d8235erow0_col4\" class=\"data row0 col4\" >0.444</td>\n",
       "            </tr>\n",
       "            <tr>\n",
       "                                <td id=\"T_c3415275_e024_11eb_b7d9_7054d2d8235erow1_col0\" class=\"data row1 col0\" >2</td>\n",
       "                        <td id=\"T_c3415275_e024_11eb_b7d9_7054d2d8235erow1_col1\" class=\"data row1 col1\" >0.444</td>\n",
       "                        <td id=\"T_c3415275_e024_11eb_b7d9_7054d2d8235erow1_col2\" class=\"data row1 col2\" >0.194</td>\n",
       "                        <td id=\"T_c3415275_e024_11eb_b7d9_7054d2d8235erow1_col3\" class=\"data row1 col3\" >5.360</td>\n",
       "                        <td id=\"T_c3415275_e024_11eb_b7d9_7054d2d8235erow1_col4\" class=\"data row1 col4\" >0.408</td>\n",
       "            </tr>\n",
       "            <tr>\n",
       "                                <td id=\"T_c3415275_e024_11eb_b7d9_7054d2d8235erow2_col0\" class=\"data row2 col0\" >3</td>\n",
       "                        <td id=\"T_c3415275_e024_11eb_b7d9_7054d2d8235erow2_col1\" class=\"data row2 col1\" >0.408</td>\n",
       "                        <td id=\"T_c3415275_e024_11eb_b7d9_7054d2d8235erow2_col2\" class=\"data row2 col2\" >0.001</td>\n",
       "                        <td id=\"T_c3415275_e024_11eb_b7d9_7054d2d8235erow2_col3\" class=\"data row2 col3\" >5.294</td>\n",
       "                        <td id=\"T_c3415275_e024_11eb_b7d9_7054d2d8235erow2_col4\" class=\"data row2 col4\" >0.408</td>\n",
       "            </tr>\n",
       "            <tr>\n",
       "                                <td id=\"T_c3415275_e024_11eb_b7d9_7054d2d8235erow3_col0\" class=\"data row3 col0\" >4</td>\n",
       "                        <td id=\"T_c3415275_e024_11eb_b7d9_7054d2d8235erow3_col1\" class=\"data row3 col1\" >0.408</td>\n",
       "                        <td id=\"T_c3415275_e024_11eb_b7d9_7054d2d8235erow3_col2\" class=\"data row3 col2\" >0.000</td>\n",
       "                        <td id=\"T_c3415275_e024_11eb_b7d9_7054d2d8235erow3_col3\" class=\"data row3 col3\" >5.293</td>\n",
       "                        <td id=\"T_c3415275_e024_11eb_b7d9_7054d2d8235erow3_col4\" class=\"data row3 col4\" >0.408</td>\n",
       "            </tr>\n",
       "            <tr>\n",
       "                                <td id=\"T_c3415275_e024_11eb_b7d9_7054d2d8235erow4_col0\" class=\"data row4 col0\" >5</td>\n",
       "                        <td id=\"T_c3415275_e024_11eb_b7d9_7054d2d8235erow4_col1\" class=\"data row4 col1\" >0.408</td>\n",
       "                        <td id=\"T_c3415275_e024_11eb_b7d9_7054d2d8235erow4_col2\" class=\"data row4 col2\" >0.000</td>\n",
       "                        <td id=\"T_c3415275_e024_11eb_b7d9_7054d2d8235erow4_col3\" class=\"data row4 col3\" >5.293</td>\n",
       "                        <td id=\"T_c3415275_e024_11eb_b7d9_7054d2d8235erow4_col4\" class=\"data row4 col4\" >0.408</td>\n",
       "            </tr>\n",
       "            <tr>\n",
       "                                <td id=\"T_c3415275_e024_11eb_b7d9_7054d2d8235erow5_col0\" class=\"data row5 col0\" >6</td>\n",
       "                        <td id=\"T_c3415275_e024_11eb_b7d9_7054d2d8235erow5_col1\" class=\"data row5 col1\" >0.408</td>\n",
       "                        <td id=\"T_c3415275_e024_11eb_b7d9_7054d2d8235erow5_col2\" class=\"data row5 col2\" >0.000</td>\n",
       "                        <td id=\"T_c3415275_e024_11eb_b7d9_7054d2d8235erow5_col3\" class=\"data row5 col3\" >5.293</td>\n",
       "                        <td id=\"T_c3415275_e024_11eb_b7d9_7054d2d8235erow5_col4\" class=\"data row5 col4\" >0.408</td>\n",
       "            </tr>\n",
       "    </tbody></table>"
      ],
      "text/plain": [
       "<pandas.io.formats.style.Styler at 0x294902de9d0>"
      ]
     },
     "execution_count": 6,
     "metadata": {},
     "output_type": "execute_result"
    }
   ],
   "source": [
    "pd.DataFrame(out, columns = ['adım','x0','f ( x0 )','f \\' ( x0 )','x1']).style.hide_index().set_precision(3)"
   ]
  },
  {
   "cell_type": "markdown",
   "metadata": {},
   "source": [
    "# Newton-Raphson\n",
    "#### 2 Değişkenli Doğrusal Olmayan Denklem Sistemi Çözümü"
   ]
  },
  {
   "cell_type": "code",
   "execution_count": 1,
   "metadata": {},
   "outputs": [],
   "source": [
    "%reset -f"
   ]
  },
  {
   "cell_type": "code",
   "execution_count": 1,
   "metadata": {},
   "outputs": [],
   "source": [
    "import numpy as np\n",
    "import sympy as sp\n",
    "import pandas as pd"
   ]
  },
  {
   "cell_type": "code",
   "execution_count": 2,
   "metadata": {},
   "outputs": [],
   "source": [
    "x,y=sp.symbols('x y')\n",
    "Vf=sp.Matrix([[x**2 + 2*x*y - 15],\n",
    "              [3*y + 4*x*y**2 - 15]])\n",
    "\n",
    "V0=sp.Matrix([[2.2], # başlangıç değerleri !!! buradaki sympy kaldırılıp normal dizi yaparsan ileride hata veriyor\n",
    "              [1.8]])"
   ]
  },
  {
   "cell_type": "code",
   "execution_count": 3,
   "metadata": {},
   "outputs": [
    {
     "data": {
      "text/latex": [
       "$\\displaystyle \\left[\\begin{matrix}2 x + 2 y & 2 x\\\\4 y^{2} & 8 x y + 3\\end{matrix}\\right]$"
      ],
      "text/plain": [
       "Matrix([\n",
       "[2*x + 2*y,       2*x],\n",
       "[   4*y**2, 8*x*y + 3]])"
      ]
     },
     "execution_count": 3,
     "metadata": {},
     "output_type": "execute_result"
    }
   ],
   "source": [
    "# jacobian\n",
    "Js = sp.Matrix([[sp.diff(Vf[0],x), sp.diff(Vf[0],y)],\n",
    "               [sp.diff(Vf[1],x), sp.diff(Vf[1],y)]])\n",
    "Js"
   ]
  },
  {
   "cell_type": "code",
   "execution_count": 5,
   "metadata": {},
   "outputs": [],
   "source": [
    "out=[]\n",
    "out.clear()\n",
    "n=3 # tekrar sayısı"
   ]
  },
  {
   "cell_type": "code",
   "execution_count": 6,
   "metadata": {},
   "outputs": [],
   "source": [
    "for i in range(n):\n",
    "    J  = np.array(Js.subs({x:V0[0],y:V0[1]})).astype(np.float) # nümerik sonuç için sympy matrisini numpy dizisi olarak al\n",
    "    F  = np.array(Vf.subs({x:V0[0],y:V0[1]})).astype(np.float) # nümerik sonuç için sympy matrisini numpy dizisi olarak al\n",
    "    V0n= np.array(V0).astype(np.float) # nümerik sonuç için sympy matrisini numpy dizisi olarak al\n",
    "    V1 = np.linalg.solve(J, -F) + V0n   \n",
    "    V0 = sp.Matrix(V1)\n",
    "    out.append([i+1,V0n[0,0],V0n[1,0],V1[0,0],V1[1,0]])    "
   ]
  },
  {
   "cell_type": "code",
   "execution_count": 7,
   "metadata": {},
   "outputs": [
    {
     "data": {
      "text/html": [
       "<style  type=\"text/css\" >\n",
       "</style><table id=\"T_84fe5c7c_e023_11eb_a32c_7054d2d8235e\" ><thead>    <tr>        <th class=\"col_heading level0 col0\" >adım</th>        <th class=\"col_heading level0 col1\" >x0</th>        <th class=\"col_heading level0 col2\" >y0</th>        <th class=\"col_heading level0 col3\" >x1</th>        <th class=\"col_heading level0 col4\" >y1</th>    </tr></thead><tbody>\n",
       "                <tr>\n",
       "                                <td id=\"T_84fe5c7c_e023_11eb_a32c_7054d2d8235erow0_col0\" class=\"data row0 col0\" >1</td>\n",
       "                        <td id=\"T_84fe5c7c_e023_11eb_a32c_7054d2d8235erow0_col1\" class=\"data row0 col1\" >2.200</td>\n",
       "                        <td id=\"T_84fe5c7c_e023_11eb_a32c_7054d2d8235erow0_col2\" class=\"data row0 col2\" >1.800</td>\n",
       "                        <td id=\"T_84fe5c7c_e023_11eb_a32c_7054d2d8235erow0_col3\" class=\"data row0 col3\" >2.930</td>\n",
       "                        <td id=\"T_84fe5c7c_e023_11eb_a32c_7054d2d8235erow0_col4\" class=\"data row0 col4\" >0.982</td>\n",
       "            </tr>\n",
       "            <tr>\n",
       "                                <td id=\"T_84fe5c7c_e023_11eb_a32c_7054d2d8235erow1_col0\" class=\"data row1 col0\" >2</td>\n",
       "                        <td id=\"T_84fe5c7c_e023_11eb_a32c_7054d2d8235erow1_col1\" class=\"data row1 col1\" >2.930</td>\n",
       "                        <td id=\"T_84fe5c7c_e023_11eb_a32c_7054d2d8235erow1_col2\" class=\"data row1 col2\" >0.982</td>\n",
       "                        <td id=\"T_84fe5c7c_e023_11eb_a32c_7054d2d8235erow1_col3\" class=\"data row1 col3\" >3.001</td>\n",
       "                        <td id=\"T_84fe5c7c_e023_11eb_a32c_7054d2d8235erow1_col4\" class=\"data row1 col4\" >1.000</td>\n",
       "            </tr>\n",
       "            <tr>\n",
       "                                <td id=\"T_84fe5c7c_e023_11eb_a32c_7054d2d8235erow2_col0\" class=\"data row2 col0\" >3</td>\n",
       "                        <td id=\"T_84fe5c7c_e023_11eb_a32c_7054d2d8235erow2_col1\" class=\"data row2 col1\" >3.001</td>\n",
       "                        <td id=\"T_84fe5c7c_e023_11eb_a32c_7054d2d8235erow2_col2\" class=\"data row2 col2\" >1.000</td>\n",
       "                        <td id=\"T_84fe5c7c_e023_11eb_a32c_7054d2d8235erow2_col3\" class=\"data row2 col3\" >3.000</td>\n",
       "                        <td id=\"T_84fe5c7c_e023_11eb_a32c_7054d2d8235erow2_col4\" class=\"data row2 col4\" >1.000</td>\n",
       "            </tr>\n",
       "    </tbody></table>"
      ],
      "text/plain": [
       "<pandas.io.formats.style.Styler at 0x1815ff8e280>"
      ]
     },
     "execution_count": 7,
     "metadata": {},
     "output_type": "execute_result"
    }
   ],
   "source": [
    "pd.DataFrame(out, columns = ['adım','x0','y0','x1','y1']).style.hide_index().set_precision(3)"
   ]
  },
  {
   "cell_type": "markdown",
   "metadata": {},
   "source": [
    "# Sabit Noktalı İterasyon"
   ]
  },
  {
   "cell_type": "code",
   "execution_count": 127,
   "metadata": {},
   "outputs": [],
   "source": [
    "%reset -f"
   ]
  },
  {
   "cell_type": "code",
   "execution_count": 128,
   "metadata": {},
   "outputs": [],
   "source": [
    "import pandas as pd\n",
    "import numpy as np"
   ]
  },
  {
   "cell_type": "markdown",
   "metadata": {},
   "source": [
    "Türev kontrolünün (df<1) ardından seçilen fonksiyonlarla:"
   ]
  },
  {
   "cell_type": "code",
   "execution_count": 129,
   "metadata": {},
   "outputs": [],
   "source": [
    "f1=lambda x,y: np.sqrt(15-2*x*y)\n",
    "f2=lambda x,y: np.sqrt((15-3*y)/(4*x))"
   ]
  },
  {
   "cell_type": "code",
   "execution_count": 130,
   "metadata": {},
   "outputs": [],
   "source": [
    "x0=2.2\n",
    "y0=1.8\n",
    "out=[]\n",
    "out.clear()\n",
    "n=6\n",
    "for i in range(n):\n",
    "    a,b=f1(x0,y0),f2(x0,y0)\n",
    "    out.append([i+1,a,b])\n",
    "    x0,y0=a,b"
   ]
  },
  {
   "cell_type": "code",
   "execution_count": 131,
   "metadata": {},
   "outputs": [
    {
     "data": {
      "text/html": [
       "<style  type=\"text/css\" >\n",
       "</style><table id=\"T_d14cb21b_e2f4_11eb_a682_7054d2d8235e\" ><thead>    <tr>        <th class=\"col_heading level0 col0\" >adım</th>        <th class=\"col_heading level0 col1\" >x</th>        <th class=\"col_heading level0 col2\" >y</th>    </tr></thead><tbody>\n",
       "                <tr>\n",
       "                                <td id=\"T_d14cb21b_e2f4_11eb_a682_7054d2d8235erow0_col0\" class=\"data row0 col0\" >1</td>\n",
       "                        <td id=\"T_d14cb21b_e2f4_11eb_a682_7054d2d8235erow0_col1\" class=\"data row0 col1\" >2.66</td>\n",
       "                        <td id=\"T_d14cb21b_e2f4_11eb_a682_7054d2d8235erow0_col2\" class=\"data row0 col2\" >1.04</td>\n",
       "            </tr>\n",
       "            <tr>\n",
       "                                <td id=\"T_d14cb21b_e2f4_11eb_a682_7054d2d8235erow1_col0\" class=\"data row1 col0\" >2</td>\n",
       "                        <td id=\"T_d14cb21b_e2f4_11eb_a682_7054d2d8235erow1_col1\" class=\"data row1 col1\" >3.07</td>\n",
       "                        <td id=\"T_d14cb21b_e2f4_11eb_a682_7054d2d8235erow1_col2\" class=\"data row1 col2\" >1.06</td>\n",
       "            </tr>\n",
       "            <tr>\n",
       "                                <td id=\"T_d14cb21b_e2f4_11eb_a682_7054d2d8235erow2_col0\" class=\"data row2 col0\" >3</td>\n",
       "                        <td id=\"T_d14cb21b_e2f4_11eb_a682_7054d2d8235erow2_col1\" class=\"data row2 col1\" >2.92</td>\n",
       "                        <td id=\"T_d14cb21b_e2f4_11eb_a682_7054d2d8235erow2_col2\" class=\"data row2 col2\" >0.98</td>\n",
       "            </tr>\n",
       "            <tr>\n",
       "                                <td id=\"T_d14cb21b_e2f4_11eb_a682_7054d2d8235erow3_col0\" class=\"data row3 col0\" >4</td>\n",
       "                        <td id=\"T_d14cb21b_e2f4_11eb_a682_7054d2d8235erow3_col1\" class=\"data row3 col1\" >3.05</td>\n",
       "                        <td id=\"T_d14cb21b_e2f4_11eb_a682_7054d2d8235erow3_col2\" class=\"data row3 col2\" >1.02</td>\n",
       "            </tr>\n",
       "            <tr>\n",
       "                                <td id=\"T_d14cb21b_e2f4_11eb_a682_7054d2d8235erow4_col0\" class=\"data row4 col0\" >5</td>\n",
       "                        <td id=\"T_d14cb21b_e2f4_11eb_a682_7054d2d8235erow4_col1\" class=\"data row4 col1\" >2.97</td>\n",
       "                        <td id=\"T_d14cb21b_e2f4_11eb_a682_7054d2d8235erow4_col2\" class=\"data row4 col2\" >0.99</td>\n",
       "            </tr>\n",
       "            <tr>\n",
       "                                <td id=\"T_d14cb21b_e2f4_11eb_a682_7054d2d8235erow5_col0\" class=\"data row5 col0\" >6</td>\n",
       "                        <td id=\"T_d14cb21b_e2f4_11eb_a682_7054d2d8235erow5_col1\" class=\"data row5 col1\" >3.02</td>\n",
       "                        <td id=\"T_d14cb21b_e2f4_11eb_a682_7054d2d8235erow5_col2\" class=\"data row5 col2\" >1.01</td>\n",
       "            </tr>\n",
       "    </tbody></table>"
      ],
      "text/plain": [
       "<pandas.io.formats.style.Styler at 0x1b420af9580>"
      ]
     },
     "execution_count": 131,
     "metadata": {},
     "output_type": "execute_result"
    }
   ],
   "source": [
    "pd.DataFrame(out,columns = ['adım','x','y']).style.hide_index().set_precision(2)"
   ]
  },
  {
   "cell_type": "markdown",
   "metadata": {},
   "source": [
    "# Newton İleri Fark Yöntemi"
   ]
  },
  {
   "cell_type": "code",
   "execution_count": 137,
   "metadata": {},
   "outputs": [],
   "source": [
    "%reset -f"
   ]
  },
  {
   "cell_type": "code",
   "execution_count": 138,
   "metadata": {},
   "outputs": [],
   "source": [
    "import pandas as pd\n",
    "import numpy as np"
   ]
  },
  {
   "cell_type": "code",
   "execution_count": 139,
   "metadata": {},
   "outputs": [],
   "source": [
    "y=[1,2,3,4,6,8,1,0,8,6,4]\n",
    "x=[1,2,3,4,6,8,1,0,8,6,4]"
   ]
  },
  {
   "cell_type": "code",
   "execution_count": 143,
   "metadata": {},
   "outputs": [],
   "source": [
    "d1y=np.diff(y,1)[0]\n",
    "d2y=np.diff(y,2)[0]\n",
    "d3y=np.diff(y,3)[0]\n",
    "d1y,d2y,d3y"
   ]
  },
  {
   "cell_type": "markdown",
   "metadata": {},
   "source": [
    "# Lagrange Interpolasyonu"
   ]
  },
  {
   "cell_type": "code",
   "execution_count": 60,
   "metadata": {},
   "outputs": [],
   "source": [
    "%reset -f"
   ]
  },
  {
   "cell_type": "code",
   "execution_count": 61,
   "metadata": {},
   "outputs": [],
   "source": [
    "import sympy as sp\n",
    "import numpy as np"
   ]
  },
  {
   "cell_type": "code",
   "execution_count": 62,
   "metadata": {},
   "outputs": [],
   "source": [
    "X,Y=sp.symbols('X Y')"
   ]
  },
  {
   "cell_type": "code",
   "execution_count": 63,
   "metadata": {},
   "outputs": [],
   "source": [
    "x=np.array([0,1,2])\n",
    "y=np.array([1,2,4])\n",
    "\n",
    "n=y.shape[0]"
   ]
  },
  {
   "cell_type": "code",
   "execution_count": 64,
   "metadata": {},
   "outputs": [],
   "source": [
    "L = [1]*n\n",
    "for j in range(n):\n",
    "    for i in range(n):\n",
    "        if i != j:  L[j] *= (X-x[i])/(x[j]-x[i])"
   ]
  },
  {
   "cell_type": "code",
   "execution_count": 65,
   "metadata": {},
   "outputs": [
    {
     "data": {
      "text/latex": [
       "$\\displaystyle \\frac{X \\left(X - 1\\right)}{2}$"
      ],
      "text/plain": [
       "X*(X - 1)/2"
      ]
     },
     "execution_count": 65,
     "metadata": {},
     "output_type": "execute_result"
    }
   ],
   "source": [
    "# istediğin hergangi bir L terimini göster\n",
    "l=3\n",
    "sp.simplify(L[l-1])"
   ]
  },
  {
   "cell_type": "code",
   "execution_count": 66,
   "metadata": {},
   "outputs": [
    {
     "data": {
      "text/latex": [
       "$\\displaystyle \\frac{X^{2}}{2} + \\frac{X}{2} + 1$"
      ],
      "text/plain": [
       "X**2/2 + X/2 + 1"
      ]
     },
     "execution_count": 66,
     "metadata": {},
     "output_type": "execute_result"
    }
   ],
   "source": [
    "p=0\n",
    "for i in range(n): p += (L[i]*Y).subs({Y:y[i]})\n",
    "p.simplify()"
   ]
  },
  {
   "cell_type": "code",
   "execution_count": 67,
   "metadata": {},
   "outputs": [
    {
     "data": {
      "text/latex": [
       "$\\displaystyle 2.875$"
      ],
      "text/plain": [
       "2.87500000000000"
      ]
     },
     "execution_count": 67,
     "metadata": {},
     "output_type": "execute_result"
    }
   ],
   "source": [
    "#polinoma değer ver:\n",
    "p.subs({X:1.5})"
   ]
  },
  {
   "cell_type": "markdown",
   "metadata": {},
   "source": [
    "# En Küçük Kareler"
   ]
  },
  {
   "cell_type": "markdown",
   "metadata": {},
   "source": [
    "#### Tek değişkenli:"
   ]
  },
  {
   "cell_type": "code",
   "execution_count": 68,
   "metadata": {},
   "outputs": [],
   "source": [
    "%reset -f"
   ]
  },
  {
   "cell_type": "code",
   "execution_count": 69,
   "metadata": {},
   "outputs": [],
   "source": [
    "import numpy as np\n",
    "import sympy as sp"
   ]
  },
  {
   "cell_type": "code",
   "execution_count": 70,
   "metadata": {},
   "outputs": [],
   "source": [
    "x=np.array([0,2,4,6,8,10])\n",
    "y=np.array([1,5.1,9,13,17,21])"
   ]
  },
  {
   "cell_type": "code",
   "execution_count": 71,
   "metadata": {},
   "outputs": [],
   "source": [
    "n=y.shape[0]\n",
    "sumx=np.sum(x)\n",
    "sumy=np.sum(y)"
   ]
  },
  {
   "cell_type": "code",
   "execution_count": 72,
   "metadata": {},
   "outputs": [],
   "source": [
    "A=np.array([[n, sumx],\n",
    "            [sumx, np.sum(np.square(x))]])\n",
    "E=np.array([[np.sum(y)], \n",
    "            [np.sum(y*x)]])\n",
    "V=np.linalg.solve(A, E)"
   ]
  },
  {
   "cell_type": "code",
   "execution_count": 73,
   "metadata": {},
   "outputs": [
    {
     "data": {
      "text/latex": [
       "$\\displaystyle \\left[\\begin{matrix}6 & 30\\\\30 & 220\\end{matrix}\\right]$"
      ],
      "text/plain": [
       "Matrix([\n",
       "[ 6,  30],\n",
       "[30, 220]])"
      ]
     },
     "execution_count": 73,
     "metadata": {},
     "output_type": "execute_result"
    }
   ],
   "source": [
    "sp.Matrix(A)"
   ]
  },
  {
   "cell_type": "code",
   "execution_count": 74,
   "metadata": {},
   "outputs": [
    {
     "data": {
      "text/latex": [
       "$\\displaystyle \\left[\\begin{matrix}66.1\\\\470.2\\end{matrix}\\right]$"
      ],
      "text/plain": [
       "Matrix([\n",
       "[ 66.1],\n",
       "[470.2]])"
      ]
     },
     "execution_count": 74,
     "metadata": {},
     "output_type": "execute_result"
    }
   ],
   "source": [
    "sp.Matrix(E)"
   ]
  },
  {
   "cell_type": "code",
   "execution_count": 75,
   "metadata": {},
   "outputs": [
    {
     "data": {
      "text/latex": [
       "$\\displaystyle \\left[\\begin{matrix}1.038\\\\1.996\\end{matrix}\\right]$"
      ],
      "text/plain": [
       "Matrix([\n",
       "[1.038],\n",
       "[1.996]])"
      ]
     },
     "execution_count": 75,
     "metadata": {},
     "output_type": "execute_result"
    }
   ],
   "source": [
    "# katsayılar (c0/c1/c2)\n",
    "sp.Matrix(V.round(3))"
   ]
  },
  {
   "cell_type": "markdown",
   "metadata": {},
   "source": [
    "Hata kareleri toplamı"
   ]
  },
  {
   "cell_type": "code",
   "execution_count": 76,
   "metadata": {},
   "outputs": [
    {
     "data": {
      "text/plain": [
       "0.007"
      ]
     },
     "execution_count": 76,
     "metadata": {},
     "output_type": "execute_result"
    }
   ],
   "source": [
    "yhat=np.array([n])\n",
    "yhat=V[0]+V[1]*x\n",
    "S=np.sum(np.square(yhat-y)).round(3)\n",
    "S"
   ]
  },
  {
   "cell_type": "markdown",
   "metadata": {},
   "source": [
    "#### Determinasyon katsayısı"
   ]
  },
  {
   "cell_type": "code",
   "execution_count": 77,
   "metadata": {},
   "outputs": [],
   "source": [
    "R2=lambda y0,yh:(1- np.sum(np.square(y0-yh))/(np.sum(np.square(y0))-np.square(np.sum(y0))/y0.shape[0])).round(3)"
   ]
  },
  {
   "cell_type": "code",
   "execution_count": 78,
   "metadata": {},
   "outputs": [
    {
     "data": {
      "text/plain": [
       "1.0"
      ]
     },
     "execution_count": 78,
     "metadata": {},
     "output_type": "execute_result"
    }
   ],
   "source": [
    "R2(y,yhat)"
   ]
  },
  {
   "cell_type": "markdown",
   "metadata": {},
   "source": [
    "#### Çift değişkenli:"
   ]
  },
  {
   "cell_type": "code",
   "execution_count": 112,
   "metadata": {},
   "outputs": [],
   "source": [
    "%reset -f"
   ]
  },
  {
   "cell_type": "code",
   "execution_count": 113,
   "metadata": {},
   "outputs": [],
   "source": [
    "import numpy as np\n",
    "import sympy as sp"
   ]
  },
  {
   "cell_type": "code",
   "execution_count": 117,
   "metadata": {},
   "outputs": [],
   "source": [
    "x=np.array([2,3,5,6,8])\n",
    "w=np.array(x*x)\n",
    "y=np.array([1,6,22,33,61])"
   ]
  },
  {
   "cell_type": "code",
   "execution_count": 118,
   "metadata": {},
   "outputs": [],
   "source": [
    "n=y.shape[0]\n",
    "sumx=np.sum(x)\n",
    "sumw=np.sum(w)\n",
    "sumwx=np.sum(x*w)\n",
    "sumy=np.sum(y)"
   ]
  },
  {
   "cell_type": "code",
   "execution_count": 119,
   "metadata": {},
   "outputs": [],
   "source": [
    "A=np.array([[n, sumx, sumw],\n",
    "            [sumx, np.sum(np.square(x)), sumwx],\n",
    "            [sumw, sumwx, np.sum(np.square(w))]])\n",
    "E=np.array([[np.sum(y)], \n",
    "            [np.sum(y*x)],\n",
    "            [np.sum(y*x**2)]])\n",
    "V=np.linalg.solve(A, E)"
   ]
  },
  {
   "cell_type": "code",
   "execution_count": 120,
   "metadata": {},
   "outputs": [
    {
     "data": {
      "text/latex": [
       "$\\displaystyle \\left[\\begin{matrix}5 & 24 & 138\\\\24 & 138 & 888\\\\138 & 888 & 6114\\end{matrix}\\right]$"
      ],
      "text/plain": [
       "Matrix([\n",
       "[  5,  24,  138],\n",
       "[ 24, 138,  888],\n",
       "[138, 888, 6114]])"
      ]
     },
     "execution_count": 120,
     "metadata": {},
     "output_type": "execute_result"
    }
   ],
   "source": [
    "sp.Matrix(A)"
   ]
  },
  {
   "cell_type": "code",
   "execution_count": 121,
   "metadata": {},
   "outputs": [
    {
     "data": {
      "text/latex": [
       "$\\displaystyle \\left[\\begin{matrix}123\\\\816\\\\5700\\end{matrix}\\right]$"
      ],
      "text/plain": [
       "Matrix([\n",
       "[ 123],\n",
       "[ 816],\n",
       "[5700]])"
      ]
     },
     "execution_count": 121,
     "metadata": {},
     "output_type": "execute_result"
    }
   ],
   "source": [
    "sp.Matrix(E)"
   ]
  },
  {
   "cell_type": "code",
   "execution_count": 122,
   "metadata": {},
   "outputs": [
    {
     "data": {
      "text/latex": [
       "$\\displaystyle \\left[\\begin{matrix}-3.0\\\\0.0\\\\1.0\\end{matrix}\\right]$"
      ],
      "text/plain": [
       "Matrix([\n",
       "[-3.0],\n",
       "[ 0.0],\n",
       "[ 1.0]])"
      ]
     },
     "execution_count": 122,
     "metadata": {},
     "output_type": "execute_result"
    }
   ],
   "source": [
    "# katsayılar\n",
    "sp.Matrix(V.round(3))"
   ]
  },
  {
   "cell_type": "markdown",
   "metadata": {},
   "source": [
    "Hata kareleri toplamı"
   ]
  },
  {
   "cell_type": "code",
   "execution_count": 124,
   "metadata": {},
   "outputs": [
    {
     "data": {
      "text/plain": [
       "6114.0"
      ]
     },
     "execution_count": 124,
     "metadata": {},
     "output_type": "execute_result"
    }
   ],
   "source": [
    "yhat=np.array([n])\n",
    "yhat=V[0]+V[1]*x\n",
    "S=np.sum(np.square(yhat-y)).round(3)\n",
    "S"
   ]
  },
  {
   "cell_type": "markdown",
   "metadata": {},
   "source": [
    "#### Determinasyon katsayısı"
   ]
  },
  {
   "cell_type": "code",
   "execution_count": 125,
   "metadata": {},
   "outputs": [],
   "source": [
    "R2=lambda y0,yh:(1- np.sum(np.square(y0-yh))/(np.sum(np.square(y0))-np.square(np.sum(y0))/y0.shape[0])).round(3)"
   ]
  },
  {
   "cell_type": "code",
   "execution_count": 126,
   "metadata": {},
   "outputs": [
    {
     "data": {
      "text/plain": [
       "-1.652"
      ]
     },
     "execution_count": 126,
     "metadata": {},
     "output_type": "execute_result"
    }
   ],
   "source": [
    "R2(y,yhat)"
   ]
  }
 ],
 "metadata": {
  "kernelspec": {
   "display_name": "Python 3",
   "language": "python",
   "name": "python3"
  },
  "language_info": {
   "codemirror_mode": {
    "name": "ipython",
    "version": 3
   },
   "file_extension": ".py",
   "mimetype": "text/x-python",
   "name": "python",
   "nbconvert_exporter": "python",
   "pygments_lexer": "ipython3",
   "version": "3.8.3"
  }
 },
 "nbformat": 4,
 "nbformat_minor": 4
}
