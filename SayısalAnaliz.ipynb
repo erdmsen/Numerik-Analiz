{
 "cells": [
  {
   "cell_type": "markdown",
   "metadata": {},
   "source": [
    "# Taylor serisi"
   ]
  },
  {
   "cell_type": "code",
   "execution_count": 51,
   "metadata": {},
   "outputs": [],
   "source": [
    "%reset -f"
   ]
  },
  {
   "cell_type": "code",
   "execution_count": 52,
   "metadata": {},
   "outputs": [],
   "source": [
    "import numpy as np\n",
    "import sympy as sp\n",
    "import math"
   ]
  },
  {
   "cell_type": "code",
   "execution_count": 56,
   "metadata": {},
   "outputs": [
    {
     "data": {
      "text/latex": [
       "$\\displaystyle - x^{3} + x$"
      ],
      "text/plain": [
       "-x**3 + x"
      ]
     },
     "execution_count": 56,
     "metadata": {},
     "output_type": "execute_result"
    }
   ],
   "source": [
    "x=sp.symbols('x')\n",
    "f=x-x**3\n",
    "f"
   ]
  },
  {
   "cell_type": "code",
   "execution_count": 54,
   "metadata": {},
   "outputs": [],
   "source": [
    "x0=-2\n",
    "h=3 # x-x0\n",
    "n=3 # terim sayısı"
   ]
  },
  {
   "cell_type": "code",
   "execution_count": 55,
   "metadata": {},
   "outputs": [
    {
     "data": {
      "text/latex": [
       "$\\displaystyle 33$"
      ],
      "text/plain": [
       "33"
      ]
     },
     "execution_count": 55,
     "metadata": {},
     "output_type": "execute_result"
    }
   ],
   "source": [
    "out=[]\n",
    "out.clear()\n",
    "for i in range(n): \n",
    "    out.append(sp.diff(f,x,i).subs({x:x0-h}) * h**i / math.factorial(i)) \n",
    "sum(out)"
   ]
  },
  {
   "cell_type": "code",
   "execution_count": 6,
   "metadata": {},
   "outputs": [
    {
     "name": "stdout",
     "output_type": "stream",
     "text": [
      "= 1193 + 138 + 4 + 0 + 0 + 0\n"
     ]
    }
   ],
   "source": [
    "# Terimler (derece = terim_numarası-1)\n",
    "print('= {} + {} + {} + {} + {} + {}'.format(*out))"
   ]
  },
  {
   "cell_type": "markdown",
   "metadata": {},
   "source": [
    "# Hatalar"
   ]
  },
  {
   "cell_type": "code",
   "execution_count": 194,
   "metadata": {},
   "outputs": [],
   "source": [
    "%reset -f"
   ]
  },
  {
   "cell_type": "code",
   "execution_count": 202,
   "metadata": {},
   "outputs": [],
   "source": [
    "gercek=19.9\n",
    "yaklasım=20"
   ]
  },
  {
   "cell_type": "markdown",
   "metadata": {},
   "source": [
    "Mutlak hata"
   ]
  },
  {
   "cell_type": "code",
   "execution_count": 203,
   "metadata": {},
   "outputs": [],
   "source": [
    "H=abs(gercek-yaklasım)"
   ]
  },
  {
   "cell_type": "markdown",
   "metadata": {},
   "source": [
    "Bağıl hata"
   ]
  },
  {
   "cell_type": "code",
   "execution_count": 204,
   "metadata": {},
   "outputs": [
    {
     "data": {
      "text/plain": [
       "0.5025125628140775"
      ]
     },
     "execution_count": 204,
     "metadata": {},
     "output_type": "execute_result"
    }
   ],
   "source": [
    "H=100*abs((gercek-yaklasım)/gercek)\n",
    "H"
   ]
  },
  {
   "cell_type": "markdown",
   "metadata": {},
   "source": [
    "Yaklaşım hatası"
   ]
  },
  {
   "cell_type": "code",
   "execution_count": 272,
   "metadata": {},
   "outputs": [
    {
     "data": {
      "text/plain": [
       "1.2758201701093506"
      ]
     },
     "execution_count": 272,
     "metadata": {},
     "output_type": "execute_result"
    }
   ],
   "source": [
    "yeni=1.646\n",
    "eski=1.625\n",
    "H=100*abs((yeni-eski)/yeni)\n",
    "H"
   ]
  },
  {
   "cell_type": "markdown",
   "metadata": {},
   "source": [
    "# Matrix"
   ]
  },
  {
   "cell_type": "code",
   "execution_count": null,
   "metadata": {
    "jupyter": {
     "source_hidden": true
    }
   },
   "outputs": [],
   "source": [
    "%reset -f\n",
    "\n",
    "import numpy as np\n",
    "import sympy as sp\n",
    "\n",
    "A = np.array([[6, 1, 1],\n",
    "              [4, -2, 5],\n",
    "              [2, 8, 7]])\n",
    "\n",
    "# Ters Matris\n",
    "\n",
    "sp.Matrix(np.linalg.inv(A).round(3))\n",
    "\n",
    "#Determinant\n",
    "\n",
    "sp.Matrix(np.linalg.det(A).round(3))\n",
    "\n",
    "# Matris Çarpımı\n",
    "\n",
    "B = np.array([[2, 1, 1],\n",
    "              [1, -2, 5],\n",
    "              [2, 3, 1]])\n",
    "sp.Matrix(A.dot(B))"
   ]
  },
  {
   "cell_type": "markdown",
   "metadata": {},
   "source": [
    "# Gauss Eliminasyonu"
   ]
  },
  {
   "cell_type": "code",
   "execution_count": 10,
   "metadata": {},
   "outputs": [],
   "source": [
    "%reset -f"
   ]
  },
  {
   "cell_type": "code",
   "execution_count": 11,
   "metadata": {},
   "outputs": [],
   "source": [
    "import numpy as np\n",
    "import sympy as sp"
   ]
  },
  {
   "cell_type": "code",
   "execution_count": 41,
   "metadata": {},
   "outputs": [],
   "source": [
    "A = sp.Matrix([[2, 1, -1, 2],\n",
    "              [4, 5, -3, 6],\n",
    "              [-2, 5, -2, 6],\n",
    "              [4, 11,-4, 8]])\n",
    "E = sp.Matrix([[5],\n",
    "               [9],\n",
    "               [4],\n",
    "               [2]])\n",
    "\n",
    "n=2 '''istenen adım sayısı'''"
   ]
  },
  {
   "cell_type": "code",
   "execution_count": 42,
   "metadata": {},
   "outputs": [],
   "source": [
    "sa=A.shape\n",
    "rdim=sa[0]\n",
    "cdim=sa[1]\n",
    "A=A.col_insert(cdim,E)"
   ]
  },
  {
   "cell_type": "code",
   "execution_count": 43,
   "metadata": {},
   "outputs": [
    {
     "data": {
      "text/latex": [
       "$\\displaystyle \\left[\\begin{matrix}1 & \\frac{1}{2} & - \\frac{1}{2} & 1 & \\frac{5}{2}\\\\0 & 1 & - \\frac{1}{3} & \\frac{2}{3} & - \\frac{1}{3}\\\\0 & 0 & -1 & 4 & 11\\\\0 & 0 & 1 & -2 & -5\\end{matrix}\\right]$"
      ],
      "text/plain": [
       "Matrix([\n",
       "[1, 1/2, -1/2,   1,  5/2],\n",
       "[0,   1, -1/3, 2/3, -1/3],\n",
       "[0,   0,   -1,   4,   11],\n",
       "[0,   0,    1,  -2,   -5]])"
      ]
     },
     "execution_count": 43,
     "metadata": {},
     "output_type": "execute_result"
    }
   ],
   "source": [
    "for j in range(n):\n",
    "    A[j,:]/=A[j,j]\n",
    "    for i in range(j+1,rdim):\n",
    "        A[i,:]-=A[i,j]*A[j,:]\n",
    "A"
   ]
  },
  {
   "cell_type": "markdown",
   "metadata": {},
   "source": [
    "# Crout Yöntemi"
   ]
  },
  {
   "cell_type": "code",
   "execution_count": 2,
   "metadata": {},
   "outputs": [],
   "source": [
    "%reset -f"
   ]
  },
  {
   "cell_type": "code",
   "execution_count": 3,
   "metadata": {},
   "outputs": [],
   "source": [
    "import numpy as np\n",
    "import sympy as sp"
   ]
  },
  {
   "cell_type": "code",
   "execution_count": 4,
   "metadata": {},
   "outputs": [],
   "source": [
    "A = np.array([[2, 1, -1, 2],\n",
    "                [4, 5, -3, 6],\n",
    "                [-2, 5, -2, 6],\n",
    "                [4, 11,-4, 8]])\n",
    "E = np.array([[5],\n",
    "             [9],\n",
    "             [4],\n",
    "             [2]])"
   ]
  },
  {
   "cell_type": "code",
   "execution_count": 5,
   "metadata": {},
   "outputs": [],
   "source": [
    "sa=np.shape(A)\n",
    "rdim=sa[0]\n",
    "U = np.identity(rdim)\n",
    "L = np.zeros(shape=sa)"
   ]
  },
  {
   "cell_type": "code",
   "execution_count": 6,
   "metadata": {},
   "outputs": [],
   "source": [
    "for j in range (rdim):\n",
    "    for i in range(j,rdim):\n",
    "        sumL,sumU = 0,0\n",
    "        for k in range(j): \n",
    "            sumL = sumL + L[i,k] * U[k,j]\t\n",
    "            sumU = sumU + L[j,k] * U[k,i]\n",
    "        L[i,j] = A[i,j] - sumL\n",
    "        U[j,i] = (A[j,i] - sumU) / L[j,j]"
   ]
  },
  {
   "cell_type": "code",
   "execution_count": 7,
   "metadata": {},
   "outputs": [
    {
     "data": {
      "text/latex": [
       "$\\displaystyle \\left[\\begin{matrix}2.0 & 0.0 & 0.0 & 0.0\\\\4.0 & 3.0 & 0.0 & 0.0\\\\-2.0 & 6.0 & -1.0 & 0.0\\\\4.0 & 9.0 & 1.0 & 2.0\\end{matrix}\\right]$"
      ],
      "text/plain": [
       "Matrix([\n",
       "[ 2.0, 0.0,  0.0, 0.0],\n",
       "[ 4.0, 3.0,  0.0, 0.0],\n",
       "[-2.0, 6.0, -1.0, 0.0],\n",
       "[ 4.0, 9.0,  1.0, 2.0]])"
      ]
     },
     "execution_count": 7,
     "metadata": {},
     "output_type": "execute_result"
    }
   ],
   "source": [
    "sp.Matrix(L.round(3))"
   ]
  },
  {
   "cell_type": "code",
   "execution_count": 13,
   "metadata": {},
   "outputs": [
    {
     "data": {
      "text/latex": [
       "$\\displaystyle \\left[\\begin{matrix}1.0 & 1.0 & 1.0\\\\0.0 & 1.0 & 3.0\\\\0.0 & 0.0 & 1.0\\end{matrix}\\right]$"
      ],
      "text/plain": [
       "Matrix([\n",
       "[1.0, 1.0, 1.0],\n",
       "[0.0, 1.0, 3.0],\n",
       "[0.0, 0.0, 1.0]])"
      ]
     },
     "execution_count": 13,
     "metadata": {},
     "output_type": "execute_result"
    }
   ],
   "source": [
    "sp.Matrix(U.round(3))"
   ]
  },
  {
   "cell_type": "code",
   "execution_count": 14,
   "metadata": {},
   "outputs": [
    {
     "data": {
      "text/latex": [
       "$\\displaystyle \\left[\\begin{matrix}6.0\\\\5.0\\\\1.0\\end{matrix}\\right]$"
      ],
      "text/plain": [
       "Matrix([\n",
       "[6.0],\n",
       "[5.0],\n",
       "[1.0]])"
      ]
     },
     "execution_count": 14,
     "metadata": {},
     "output_type": "execute_result"
    }
   ],
   "source": [
    "D=np.linalg.solve(L, E)\n",
    "sp.Matrix(D.round(3))"
   ]
  },
  {
   "cell_type": "code",
   "execution_count": 15,
   "metadata": {},
   "outputs": [
    {
     "data": {
      "text/latex": [
       "$\\displaystyle \\left[\\begin{matrix}3.0\\\\2.0\\\\1.0\\end{matrix}\\right]$"
      ],
      "text/plain": [
       "Matrix([\n",
       "[3.0],\n",
       "[2.0],\n",
       "[1.0]])"
      ]
     },
     "execution_count": 15,
     "metadata": {},
     "output_type": "execute_result"
    }
   ],
   "source": [
    "X=np.linalg.solve(U, D)\n",
    "sp.Matrix(X.round(3))"
   ]
  },
  {
   "cell_type": "markdown",
   "metadata": {},
   "source": [
    "# Jacobi Yöntemi\n",
    "Kullanılan kaynak:\n",
    "https://www.quantstart.com/articles/Jacobi-Method-in-Python-and-NumPy/#:~:text=The%20Jacobi%20method%20is%20a,and%20known%20vector%20or%20length%20."
   ]
  },
  {
   "cell_type": "markdown",
   "metadata": {},
   "source": [
    "Köşegen değerleri kendi satırındaki elemanların toplamından büyük olmalı, değilse satır değiştir. Kontrol sonrası:"
   ]
  },
  {
   "cell_type": "code",
   "execution_count": 38,
   "metadata": {},
   "outputs": [],
   "source": [
    "%reset -f"
   ]
  },
  {
   "cell_type": "code",
   "execution_count": 39,
   "metadata": {},
   "outputs": [],
   "source": [
    "import numpy as np"
   ]
  },
  {
   "cell_type": "code",
   "execution_count": 40,
   "metadata": {},
   "outputs": [],
   "source": [
    "A = np.array([[8, 2, 3],\n",
    "              [1, -9, 2],\n",
    "              [2, 3, 6]])\n",
    "E = np.array([[30],\n",
    "              [1],\n",
    "              [31]])"
   ]
  },
  {
   "cell_type": "code",
   "execution_count": 41,
   "metadata": {},
   "outputs": [],
   "source": [
    "sa=np.shape(A)\n",
    "rdim=sa[0]\n",
    "\"\"\"BAŞLANGIÇ DEĞERLERİ\"\"\"\n",
    "# x=np.array([1, 2, 3])\n",
    "# tekrar sayısı\n",
    "n=4"
   ]
  },
  {
   "cell_type": "code",
   "execution_count": 42,
   "metadata": {},
   "outputs": [],
   "source": [
    "def jacobi(a,b,n,x=None):\n",
    "    if x==None: x = np.zeros(rdim) \n",
    "    # Create a vector of the diagonal elements of A and subtract them from A \n",
    "    d = np.diag(a)\n",
    "    r = a - np.diagflat(d)\n",
    "    # Iterate for N times  \n",
    "    for i in range(n):\n",
    "        x = np.diag((b - np.dot(r,x))/d)\n",
    "    return x"
   ]
  },
  {
   "cell_type": "code",
   "execution_count": 21,
   "metadata": {},
   "outputs": [
    {
     "name": "stdout",
     "output_type": "stream",
     "text": [
      "1. tekrar [ 3.75  -0.111  5.167]\n",
      "2. tekrar [1.84  1.454 3.972]\n",
      "3. tekrar [1.897 0.976 3.826]\n",
      "4. tekrar [2.071 0.95  4.046]\n"
     ]
    }
   ],
   "source": [
    "print('1. tekrar',jacobi(A,E,1).round(3))\n",
    "print('2. tekrar',jacobi(A,E,2).round(3))\n",
    "print('3. tekrar',jacobi(A,E,3).round(3))\n",
    "print('4. tekrar',jacobi(A,E,4).round(3))"
   ]
  },
  {
   "cell_type": "markdown",
   "metadata": {},
   "source": [
    "# Gauss-Seidel"
   ]
  },
  {
   "cell_type": "markdown",
   "metadata": {},
   "source": [
    "Köşegen elemanları 0 olamaz. Köşegen değerleri kendi satırındaki elemanların toplamından büyük olmalı, değilse satır değiştirerek dene."
   ]
  },
  {
   "cell_type": "code",
   "execution_count": 57,
   "metadata": {},
   "outputs": [],
   "source": [
    "%reset -f"
   ]
  },
  {
   "cell_type": "code",
   "execution_count": 58,
   "metadata": {},
   "outputs": [],
   "source": [
    "import numpy as np"
   ]
  },
  {
   "cell_type": "code",
   "execution_count": 59,
   "metadata": {},
   "outputs": [],
   "source": [
    "A = np.array([[12, 7, 3],\n",
    "              [1, 5, 1],\n",
    "              [2, 7, -11]])\n",
    "E = np.array([[2],\n",
    "              [-5],\n",
    "              [6]])"
   ]
  },
  {
   "cell_type": "code",
   "execution_count": 74,
   "metadata": {},
   "outputs": [],
   "source": [
    "sa=np.shape(A)\n",
    "rdim=sa[0]\n",
    "\"\"\"BAŞLANGIÇ DEĞERLERİ\"\"\"\n",
    "x0=np.array([1, 3.3, 5])\n",
    "# tekrar sayısı\n",
    "n=4"
   ]
  },
  {
   "cell_type": "code",
   "execution_count": 75,
   "metadata": {},
   "outputs": [],
   "source": [
    "def gauseidel(a,b,n,x=np.zeros(rdim)):\n",
    "    # Create a vector of the diagonal elements of A and subtract them from A \n",
    "    d = np.diag(a)\n",
    "    r = a - np.diagflat(d)\n",
    "    # Iterate for N times  \n",
    "    for i in range(n):\n",
    "        for j in range(len(x)):\n",
    "            x[j] = ((b - np.dot(r,x))/d)[j,j]            \n",
    "    return x"
   ]
  },
  {
   "cell_type": "code",
   "execution_count": 76,
   "metadata": {},
   "outputs": [
    {
     "name": "stdout",
     "output_type": "stream",
     "text": [
      "1. tekrar [-3.008 -1.398 -1.982]\n",
      "2. tekrar [ 0.903 -1.011 -1.024]\n",
      "3. tekrar [ 1. -1. -1.]\n",
      "4. tekrar [ 1. -1. -1.]\n"
     ]
    }
   ],
   "source": [
    "print('1. tekrar',gauseidel(A,E,1,x0).round(3))\n",
    "print('2. tekrar',gauseidel(A,E,2,x0).round(3))\n",
    "print('3. tekrar',gauseidel(A,E,3,x0).round(3))\n",
    "print('4. tekrar',gauseidel(A,E,4,x0).round(3))"
   ]
  },
  {
   "cell_type": "markdown",
   "metadata": {},
   "source": [
    "# Bisection (Aralık Yarılama/Bölme)"
   ]
  },
  {
   "cell_type": "code",
   "execution_count": 49,
   "metadata": {},
   "outputs": [],
   "source": [
    "%reset -f"
   ]
  },
  {
   "cell_type": "code",
   "execution_count": 50,
   "metadata": {},
   "outputs": [],
   "source": [
    "import numpy as np\n",
    "import math"
   ]
  },
  {
   "cell_type": "code",
   "execution_count": 51,
   "metadata": {},
   "outputs": [],
   "source": [
    "def f(x): return 4.5*x-2*np.sin(x)\n",
    "a,b = 0,1\n",
    "n = 2 # tekrar sayısı"
   ]
  },
  {
   "cell_type": "code",
   "execution_count": 52,
   "metadata": {},
   "outputs": [],
   "source": [
    "sign = lambda x: math.copysign(1, x)"
   ]
  },
  {
   "cell_type": "code",
   "execution_count": 56,
   "metadata": {},
   "outputs": [
    {
     "name": "stdout",
     "output_type": "stream",
     "text": [
      " 1.tekrar \tkök: 0.000 \tf(x)=0.000\n",
      " 2.tekrar \tkök: 0.000 \tf(x)=0.000\n"
     ]
    }
   ],
   "source": [
    "for i in range(n):\n",
    "    fa=f(a)\n",
    "    fb=f(b)\n",
    "    if fa*fb<0:\n",
    "        c=(a+b)/2\n",
    "        fc=f(c)\n",
    "        if sign(fa) != sign(fc): b=c\n",
    "        else: a=c\n",
    "        print('%2d.tekrar \\ta=%.4f \\tb=%.3f \\tc=%.3f \\tf(x)=%.3f' % (i+1,a,b,c,fc))\n",
    "    elif (fa==0 or  fb==0): \n",
    "        if f(a)==0: print('%2d.tekrar \\tkök: %.3f \\tf(x)=%.3f' % (i+1,a,fa))\n",
    "        else: print('%2d.tekrar \\tkök: %.3f \\tf(x)=%.3f' % (i+1,b,fb))\n",
    "    else: print('%2d.tekrar  \\tf(a)*f(b)>0 \\tyani kök yok' % (i+1))"
   ]
  },
  {
   "cell_type": "markdown",
   "metadata": {},
   "source": [
    "# Regula-Falsi"
   ]
  },
  {
   "cell_type": "code",
   "execution_count": 137,
   "metadata": {},
   "outputs": [],
   "source": [
    "%reset -f"
   ]
  },
  {
   "cell_type": "code",
   "execution_count": 138,
   "metadata": {},
   "outputs": [],
   "source": [
    "import numpy as np\n",
    "import math"
   ]
  },
  {
   "cell_type": "code",
   "execution_count": 139,
   "metadata": {},
   "outputs": [],
   "source": [
    "def f(x): return np.cos(x)+np.sin(x)+np.exp(x)-8\n",
    "a,b = 1,4\n",
    "n = 4 # tekrar sayısı"
   ]
  },
  {
   "cell_type": "code",
   "execution_count": 140,
   "metadata": {},
   "outputs": [],
   "source": [
    "sign = lambda x: math.copysign(1, x)"
   ]
  },
  {
   "cell_type": "code",
   "execution_count": 141,
   "metadata": {},
   "outputs": [
    {
     "name": "stdout",
     "output_type": "stream",
     "text": [
      " 1.tekrar \ta=1.238 \tb=4.000 \tc=1.238\n",
      " 2.tekrar \ta=1.425 \tb=4.000 \tc=1.425\n",
      " 3.tekrar \ta=1.571 \tb=4.000 \tc=1.571\n",
      " 4.tekrar \ta=1.683 \tb=4.000 \tc=1.683\n"
     ]
    }
   ],
   "source": [
    "for i in range(n):\n",
    "    fa,fb=f(a),f(b)\n",
    "    if sign(fa) != sign(fb):\n",
    "        c= (a*fb-b*fa)/(fb-fa)\n",
    "        if sign(fa) != sign(f(c)): b=c\n",
    "        else: a=c\n",
    "        print('%2d.tekrar \\ta=%.3f \\tb=%.3f \\tc=%.3f' % (i+1,a,b,c))\n",
    "    elif fa==fb: print('%2d.tekrar \\tkök=%.4f=a=b' % (i+1,a))\n",
    "    else: print('%2d.tekrar \\tkök yok' % (i+1,a))"
   ]
  },
  {
   "cell_type": "markdown",
   "metadata": {},
   "source": [
    "# Secant (Kiriş) Yöntemi"
   ]
  },
  {
   "cell_type": "markdown",
   "metadata": {},
   "source": [
    "burada kökü araya alman gerekmiyor"
   ]
  },
  {
   "cell_type": "markdown",
   "metadata": {},
   "source": [
    "#### Tek eşitlik"
   ]
  },
  {
   "cell_type": "code",
   "execution_count": 68,
   "metadata": {},
   "outputs": [],
   "source": [
    "%reset -f"
   ]
  },
  {
   "cell_type": "code",
   "execution_count": 69,
   "metadata": {},
   "outputs": [],
   "source": [
    "import numpy as np\n",
    "import pandas as pd"
   ]
  },
  {
   "cell_type": "code",
   "execution_count": 70,
   "metadata": {},
   "outputs": [],
   "source": [
    "def f(x): return -.5+x-np.sin(x)"
   ]
  },
  {
   "cell_type": "code",
   "execution_count": 71,
   "metadata": {},
   "outputs": [],
   "source": [
    "n=5 # tekrar sayısı\n",
    "out=[n]\n",
    "out.clear()"
   ]
  },
  {
   "cell_type": "code",
   "execution_count": 72,
   "metadata": {},
   "outputs": [],
   "source": [
    "x0,x1=0.5,2\n",
    "for i in range(n):\n",
    "    f0,f1=f(x0),f(x1)\n",
    "    x2 = x1-f1*(x1-x0)/(f1-f0)\n",
    "    out.append([i+1,x0,x1,x2,f(x2),x2-x1])\n",
    "    x0,x1=x1,x2"
   ]
  },
  {
   "cell_type": "code",
   "execution_count": 73,
   "metadata": {},
   "outputs": [
    {
     "data": {
      "text/html": [
       "<style  type=\"text/css\" >\n",
       "</style><table id=\"T_56a2cfec_e33a_11eb_9b97_7054d2d8235e\" ><thead>    <tr>        <th class=\"col_heading level0 col0\" >adım</th>        <th class=\"col_heading level0 col1\" >x0</th>        <th class=\"col_heading level0 col2\" >x1</th>        <th class=\"col_heading level0 col3\" >x2</th>        <th class=\"col_heading level0 col4\" >f ( x2 )</th>        <th class=\"col_heading level0 col5\" >Δx</th>    </tr></thead><tbody>\n",
       "                <tr>\n",
       "                                <td id=\"T_56a2cfec_e33a_11eb_9b97_7054d2d8235erow0_col0\" class=\"data row0 col0\" >1</td>\n",
       "                        <td id=\"T_56a2cfec_e33a_11eb_9b97_7054d2d8235erow0_col1\" class=\"data row0 col1\" >0.500</td>\n",
       "                        <td id=\"T_56a2cfec_e33a_11eb_9b97_7054d2d8235erow0_col2\" class=\"data row0 col2\" >2.000</td>\n",
       "                        <td id=\"T_56a2cfec_e33a_11eb_9b97_7054d2d8235erow0_col3\" class=\"data row0 col3\" >1.172</td>\n",
       "                        <td id=\"T_56a2cfec_e33a_11eb_9b97_7054d2d8235erow0_col4\" class=\"data row0 col4\" >-0.250</td>\n",
       "                        <td id=\"T_56a2cfec_e33a_11eb_9b97_7054d2d8235erow0_col5\" class=\"data row0 col5\" >-0.828</td>\n",
       "            </tr>\n",
       "            <tr>\n",
       "                                <td id=\"T_56a2cfec_e33a_11eb_9b97_7054d2d8235erow1_col0\" class=\"data row1 col0\" >2</td>\n",
       "                        <td id=\"T_56a2cfec_e33a_11eb_9b97_7054d2d8235erow1_col1\" class=\"data row1 col1\" >2.000</td>\n",
       "                        <td id=\"T_56a2cfec_e33a_11eb_9b97_7054d2d8235erow1_col2\" class=\"data row1 col2\" >1.172</td>\n",
       "                        <td id=\"T_56a2cfec_e33a_11eb_9b97_7054d2d8235erow1_col3\" class=\"data row1 col3\" >1.418</td>\n",
       "                        <td id=\"T_56a2cfec_e33a_11eb_9b97_7054d2d8235erow1_col4\" class=\"data row1 col4\" >-0.070</td>\n",
       "                        <td id=\"T_56a2cfec_e33a_11eb_9b97_7054d2d8235erow1_col5\" class=\"data row1 col5\" >0.246</td>\n",
       "            </tr>\n",
       "            <tr>\n",
       "                                <td id=\"T_56a2cfec_e33a_11eb_9b97_7054d2d8235erow2_col0\" class=\"data row2 col0\" >3</td>\n",
       "                        <td id=\"T_56a2cfec_e33a_11eb_9b97_7054d2d8235erow2_col1\" class=\"data row2 col1\" >1.172</td>\n",
       "                        <td id=\"T_56a2cfec_e33a_11eb_9b97_7054d2d8235erow2_col2\" class=\"data row2 col2\" >1.418</td>\n",
       "                        <td id=\"T_56a2cfec_e33a_11eb_9b97_7054d2d8235erow2_col3\" class=\"data row2 col3\" >1.515</td>\n",
       "                        <td id=\"T_56a2cfec_e33a_11eb_9b97_7054d2d8235erow2_col4\" class=\"data row2 col4\" >0.016</td>\n",
       "                        <td id=\"T_56a2cfec_e33a_11eb_9b97_7054d2d8235erow2_col5\" class=\"data row2 col5\" >0.097</td>\n",
       "            </tr>\n",
       "            <tr>\n",
       "                                <td id=\"T_56a2cfec_e33a_11eb_9b97_7054d2d8235erow3_col0\" class=\"data row3 col0\" >4</td>\n",
       "                        <td id=\"T_56a2cfec_e33a_11eb_9b97_7054d2d8235erow3_col1\" class=\"data row3 col1\" >1.418</td>\n",
       "                        <td id=\"T_56a2cfec_e33a_11eb_9b97_7054d2d8235erow3_col2\" class=\"data row3 col2\" >1.515</td>\n",
       "                        <td id=\"T_56a2cfec_e33a_11eb_9b97_7054d2d8235erow3_col3\" class=\"data row3 col3\" >1.497</td>\n",
       "                        <td id=\"T_56a2cfec_e33a_11eb_9b97_7054d2d8235erow3_col4\" class=\"data row3 col4\" >-0.001</td>\n",
       "                        <td id=\"T_56a2cfec_e33a_11eb_9b97_7054d2d8235erow3_col5\" class=\"data row3 col5\" >-0.018</td>\n",
       "            </tr>\n",
       "            <tr>\n",
       "                                <td id=\"T_56a2cfec_e33a_11eb_9b97_7054d2d8235erow4_col0\" class=\"data row4 col0\" >5</td>\n",
       "                        <td id=\"T_56a2cfec_e33a_11eb_9b97_7054d2d8235erow4_col1\" class=\"data row4 col1\" >1.515</td>\n",
       "                        <td id=\"T_56a2cfec_e33a_11eb_9b97_7054d2d8235erow4_col2\" class=\"data row4 col2\" >1.497</td>\n",
       "                        <td id=\"T_56a2cfec_e33a_11eb_9b97_7054d2d8235erow4_col3\" class=\"data row4 col3\" >1.497</td>\n",
       "                        <td id=\"T_56a2cfec_e33a_11eb_9b97_7054d2d8235erow4_col4\" class=\"data row4 col4\" >-0.000</td>\n",
       "                        <td id=\"T_56a2cfec_e33a_11eb_9b97_7054d2d8235erow4_col5\" class=\"data row4 col5\" >0.001</td>\n",
       "            </tr>\n",
       "    </tbody></table>"
      ],
      "text/plain": [
       "<pandas.io.formats.style.Styler at 0x1b49e41bee0>"
      ]
     },
     "execution_count": 73,
     "metadata": {},
     "output_type": "execute_result"
    }
   ],
   "source": [
    "pd.DataFrame(out, columns = ['adım','x0','x1','x2','f ( x2 )','Δx']).style.hide_index().set_precision(3)"
   ]
  },
  {
   "cell_type": "markdown",
   "metadata": {},
   "source": [
    "# Newton-Raphson"
   ]
  },
  {
   "cell_type": "code",
   "execution_count": 260,
   "metadata": {},
   "outputs": [],
   "source": [
    "%reset -f"
   ]
  },
  {
   "cell_type": "code",
   "execution_count": 261,
   "metadata": {},
   "outputs": [],
   "source": [
    "import numpy as np\n",
    "import sympy as sp\n",
    "import pandas as pd"
   ]
  },
  {
   "cell_type": "code",
   "execution_count": 262,
   "metadata": {},
   "outputs": [],
   "source": [
    "x=sp.symbols('x')\n",
    "f=-x**2+sp.cos(x)"
   ]
  },
  {
   "cell_type": "code",
   "execution_count": 263,
   "metadata": {},
   "outputs": [],
   "source": [
    "out=[]\n",
    "out.clear()"
   ]
  },
  {
   "cell_type": "code",
   "execution_count": 265,
   "metadata": {},
   "outputs": [],
   "source": [
    "n  = 6 # tekrar sayısı\n",
    "x0 = 0.25\n",
    "for i in range(n):\n",
    "    fx0,dfx0=f.subs({x:x0}),sp.diff(f,x).subs({x:x0})\n",
    "    x1=x0-fx0/dfx0\n",
    "    op=np.array([x0,fx0,dfx0,x1]).astype(np.float)\n",
    "    out.append([i+1,op[0],op[1],op[2],op[3]])\n",
    "    x0=x1"
   ]
  },
  {
   "cell_type": "code",
   "execution_count": 266,
   "metadata": {},
   "outputs": [
    {
     "data": {
      "text/html": [
       "<style  type=\"text/css\" >\n",
       "</style><table id=\"T_81e6ec36_e341_11eb_be53_7054d2d8235e\" ><thead>    <tr>        <th class=\"col_heading level0 col0\" >adım</th>        <th class=\"col_heading level0 col1\" >x0</th>        <th class=\"col_heading level0 col2\" >f ( x0 )</th>        <th class=\"col_heading level0 col3\" >f ' ( x0 )</th>        <th class=\"col_heading level0 col4\" >x1</th>    </tr></thead><tbody>\n",
       "                <tr>\n",
       "                                <td id=\"T_81e6ec36_e341_11eb_be53_7054d2d8235erow0_col0\" class=\"data row0 col0\" >1</td>\n",
       "                        <td id=\"T_81e6ec36_e341_11eb_be53_7054d2d8235erow0_col1\" class=\"data row0 col1\" >0.250</td>\n",
       "                        <td id=\"T_81e6ec36_e341_11eb_be53_7054d2d8235erow0_col2\" class=\"data row0 col2\" >0.906</td>\n",
       "                        <td id=\"T_81e6ec36_e341_11eb_be53_7054d2d8235erow0_col3\" class=\"data row0 col3\" >-0.747</td>\n",
       "                        <td id=\"T_81e6ec36_e341_11eb_be53_7054d2d8235erow0_col4\" class=\"data row0 col4\" >1.463</td>\n",
       "            </tr>\n",
       "            <tr>\n",
       "                                <td id=\"T_81e6ec36_e341_11eb_be53_7054d2d8235erow1_col0\" class=\"data row1 col0\" >2</td>\n",
       "                        <td id=\"T_81e6ec36_e341_11eb_be53_7054d2d8235erow1_col1\" class=\"data row1 col1\" >1.463</td>\n",
       "                        <td id=\"T_81e6ec36_e341_11eb_be53_7054d2d8235erow1_col2\" class=\"data row1 col2\" >-2.032</td>\n",
       "                        <td id=\"T_81e6ec36_e341_11eb_be53_7054d2d8235erow1_col3\" class=\"data row1 col3\" >-3.920</td>\n",
       "                        <td id=\"T_81e6ec36_e341_11eb_be53_7054d2d8235erow1_col4\" class=\"data row1 col4\" >0.944</td>\n",
       "            </tr>\n",
       "            <tr>\n",
       "                                <td id=\"T_81e6ec36_e341_11eb_be53_7054d2d8235erow2_col0\" class=\"data row2 col0\" >3</td>\n",
       "                        <td id=\"T_81e6ec36_e341_11eb_be53_7054d2d8235erow2_col1\" class=\"data row2 col1\" >0.944</td>\n",
       "                        <td id=\"T_81e6ec36_e341_11eb_be53_7054d2d8235erow2_col2\" class=\"data row2 col2\" >-0.306</td>\n",
       "                        <td id=\"T_81e6ec36_e341_11eb_be53_7054d2d8235erow2_col3\" class=\"data row2 col3\" >-2.699</td>\n",
       "                        <td id=\"T_81e6ec36_e341_11eb_be53_7054d2d8235erow2_col4\" class=\"data row2 col4\" >0.831</td>\n",
       "            </tr>\n",
       "            <tr>\n",
       "                                <td id=\"T_81e6ec36_e341_11eb_be53_7054d2d8235erow3_col0\" class=\"data row3 col0\" >4</td>\n",
       "                        <td id=\"T_81e6ec36_e341_11eb_be53_7054d2d8235erow3_col1\" class=\"data row3 col1\" >0.831</td>\n",
       "                        <td id=\"T_81e6ec36_e341_11eb_be53_7054d2d8235erow3_col2\" class=\"data row3 col2\" >-0.017</td>\n",
       "                        <td id=\"T_81e6ec36_e341_11eb_be53_7054d2d8235erow3_col3\" class=\"data row3 col3\" >-2.401</td>\n",
       "                        <td id=\"T_81e6ec36_e341_11eb_be53_7054d2d8235erow3_col4\" class=\"data row3 col4\" >0.824</td>\n",
       "            </tr>\n",
       "            <tr>\n",
       "                                <td id=\"T_81e6ec36_e341_11eb_be53_7054d2d8235erow4_col0\" class=\"data row4 col0\" >5</td>\n",
       "                        <td id=\"T_81e6ec36_e341_11eb_be53_7054d2d8235erow4_col1\" class=\"data row4 col1\" >0.824</td>\n",
       "                        <td id=\"T_81e6ec36_e341_11eb_be53_7054d2d8235erow4_col2\" class=\"data row4 col2\" >-0.000</td>\n",
       "                        <td id=\"T_81e6ec36_e341_11eb_be53_7054d2d8235erow4_col3\" class=\"data row4 col3\" >-2.382</td>\n",
       "                        <td id=\"T_81e6ec36_e341_11eb_be53_7054d2d8235erow4_col4\" class=\"data row4 col4\" >0.824</td>\n",
       "            </tr>\n",
       "            <tr>\n",
       "                                <td id=\"T_81e6ec36_e341_11eb_be53_7054d2d8235erow5_col0\" class=\"data row5 col0\" >6</td>\n",
       "                        <td id=\"T_81e6ec36_e341_11eb_be53_7054d2d8235erow5_col1\" class=\"data row5 col1\" >0.824</td>\n",
       "                        <td id=\"T_81e6ec36_e341_11eb_be53_7054d2d8235erow5_col2\" class=\"data row5 col2\" >-0.000</td>\n",
       "                        <td id=\"T_81e6ec36_e341_11eb_be53_7054d2d8235erow5_col3\" class=\"data row5 col3\" >-2.382</td>\n",
       "                        <td id=\"T_81e6ec36_e341_11eb_be53_7054d2d8235erow5_col4\" class=\"data row5 col4\" >0.824</td>\n",
       "            </tr>\n",
       "    </tbody></table>"
      ],
      "text/plain": [
       "<pandas.io.formats.style.Styler at 0x1b49ef1e460>"
      ]
     },
     "execution_count": 266,
     "metadata": {},
     "output_type": "execute_result"
    }
   ],
   "source": [
    "pd.DataFrame(out, columns = ['adım','x0','f ( x0 )','f \\' ( x0 )','x1']).style.hide_index().set_precision(3)"
   ]
  },
  {
   "cell_type": "markdown",
   "metadata": {},
   "source": [
    "# Newton-Raphson\n",
    "#### 2 Değişkenli Doğrusal Olmayan Denklem Sistemi Çözümü"
   ]
  },
  {
   "cell_type": "code",
   "execution_count": 128,
   "metadata": {},
   "outputs": [],
   "source": [
    "%reset -f"
   ]
  },
  {
   "cell_type": "code",
   "execution_count": 129,
   "metadata": {},
   "outputs": [],
   "source": [
    "import numpy as np\n",
    "import sympy as sp\n",
    "import pandas as pd"
   ]
  },
  {
   "cell_type": "code",
   "execution_count": 130,
   "metadata": {},
   "outputs": [],
   "source": [
    "x,y=sp.symbols('x y')\n",
    "Vf=sp.Matrix([[x**2 + -10*x + y**2 +8],\n",
    "              [x*y**2 + x -10*y +8]])\n",
    "\n",
    "V0=sp.Matrix([[0], # başlangıç değerleri !!! buradaki sympy kaldırılıp normal dizi yaparsan ileride hata veriyor\n",
    "              [0]])"
   ]
  },
  {
   "cell_type": "code",
   "execution_count": 131,
   "metadata": {},
   "outputs": [
    {
     "data": {
      "text/latex": [
       "$\\displaystyle \\left[\\begin{matrix}2 x - 10 & 2 y\\\\y^{2} + 1 & 2 x y - 10\\end{matrix}\\right]$"
      ],
      "text/plain": [
       "Matrix([\n",
       "[2*x - 10,        2*y],\n",
       "[y**2 + 1, 2*x*y - 10]])"
      ]
     },
     "execution_count": 131,
     "metadata": {},
     "output_type": "execute_result"
    }
   ],
   "source": [
    "# jacobian\n",
    "Js = sp.Matrix([[sp.diff(Vf[0],x), sp.diff(Vf[0],y)],\n",
    "               [sp.diff(Vf[1],x), sp.diff(Vf[1],y)]])\n",
    "Js"
   ]
  },
  {
   "cell_type": "code",
   "execution_count": 134,
   "metadata": {},
   "outputs": [],
   "source": [
    "out=[]\n",
    "out.clear()\n",
    "n=4 # tekrar sayısı"
   ]
  },
  {
   "cell_type": "code",
   "execution_count": 135,
   "metadata": {},
   "outputs": [],
   "source": [
    "for i in range(n):\n",
    "    J  = np.array(Js.subs({x:V0[0],y:V0[1]})).astype(np.float) # nümerik sonuç için sympy matrisini numpy dizisi olarak al\n",
    "    F  = np.array(Vf.subs({x:V0[0],y:V0[1]})).astype(np.float) # nümerik sonuç için sympy matrisini numpy dizisi olarak al\n",
    "    V0n= np.array(V0).astype(np.float) # nümerik sonuç için sympy matrisini numpy dizisi olarak al\n",
    "    V1 = np.linalg.solve(J, -F) + V0n   \n",
    "    V0 = sp.Matrix(V1)\n",
    "    out.append([i+1,V0n[0,0],V0n[1,0],V1[0,0],V1[1,0]])    "
   ]
  },
  {
   "cell_type": "code",
   "execution_count": 136,
   "metadata": {},
   "outputs": [
    {
     "data": {
      "text/html": [
       "<style  type=\"text/css\" >\n",
       "</style><table id=\"T_4f09b8a0_e33c_11eb_a1d3_7054d2d8235e\" ><thead>    <tr>        <th class=\"col_heading level0 col0\" >adım</th>        <th class=\"col_heading level0 col1\" >x0</th>        <th class=\"col_heading level0 col2\" >y0</th>        <th class=\"col_heading level0 col3\" >x1</th>        <th class=\"col_heading level0 col4\" >y1</th>    </tr></thead><tbody>\n",
       "                <tr>\n",
       "                                <td id=\"T_4f09b8a0_e33c_11eb_a1d3_7054d2d8235erow0_col0\" class=\"data row0 col0\" >1</td>\n",
       "                        <td id=\"T_4f09b8a0_e33c_11eb_a1d3_7054d2d8235erow0_col1\" class=\"data row0 col1\" >0.800</td>\n",
       "                        <td id=\"T_4f09b8a0_e33c_11eb_a1d3_7054d2d8235erow0_col2\" class=\"data row0 col2\" >0.880</td>\n",
       "                        <td id=\"T_4f09b8a0_e33c_11eb_a1d3_7054d2d8235erow0_col3\" class=\"data row0 col3\" >0.992</td>\n",
       "                        <td id=\"T_4f09b8a0_e33c_11eb_a1d3_7054d2d8235erow0_col4\" class=\"data row0 col4\" >0.992</td>\n",
       "            </tr>\n",
       "            <tr>\n",
       "                                <td id=\"T_4f09b8a0_e33c_11eb_a1d3_7054d2d8235erow1_col0\" class=\"data row1 col0\" >2</td>\n",
       "                        <td id=\"T_4f09b8a0_e33c_11eb_a1d3_7054d2d8235erow1_col1\" class=\"data row1 col1\" >0.992</td>\n",
       "                        <td id=\"T_4f09b8a0_e33c_11eb_a1d3_7054d2d8235erow1_col2\" class=\"data row1 col2\" >0.992</td>\n",
       "                        <td id=\"T_4f09b8a0_e33c_11eb_a1d3_7054d2d8235erow1_col3\" class=\"data row1 col3\" >1.000</td>\n",
       "                        <td id=\"T_4f09b8a0_e33c_11eb_a1d3_7054d2d8235erow1_col4\" class=\"data row1 col4\" >1.000</td>\n",
       "            </tr>\n",
       "            <tr>\n",
       "                                <td id=\"T_4f09b8a0_e33c_11eb_a1d3_7054d2d8235erow2_col0\" class=\"data row2 col0\" >3</td>\n",
       "                        <td id=\"T_4f09b8a0_e33c_11eb_a1d3_7054d2d8235erow2_col1\" class=\"data row2 col1\" >1.000</td>\n",
       "                        <td id=\"T_4f09b8a0_e33c_11eb_a1d3_7054d2d8235erow2_col2\" class=\"data row2 col2\" >1.000</td>\n",
       "                        <td id=\"T_4f09b8a0_e33c_11eb_a1d3_7054d2d8235erow2_col3\" class=\"data row2 col3\" >1.000</td>\n",
       "                        <td id=\"T_4f09b8a0_e33c_11eb_a1d3_7054d2d8235erow2_col4\" class=\"data row2 col4\" >1.000</td>\n",
       "            </tr>\n",
       "            <tr>\n",
       "                                <td id=\"T_4f09b8a0_e33c_11eb_a1d3_7054d2d8235erow3_col0\" class=\"data row3 col0\" >4</td>\n",
       "                        <td id=\"T_4f09b8a0_e33c_11eb_a1d3_7054d2d8235erow3_col1\" class=\"data row3 col1\" >1.000</td>\n",
       "                        <td id=\"T_4f09b8a0_e33c_11eb_a1d3_7054d2d8235erow3_col2\" class=\"data row3 col2\" >1.000</td>\n",
       "                        <td id=\"T_4f09b8a0_e33c_11eb_a1d3_7054d2d8235erow3_col3\" class=\"data row3 col3\" >1.000</td>\n",
       "                        <td id=\"T_4f09b8a0_e33c_11eb_a1d3_7054d2d8235erow3_col4\" class=\"data row3 col4\" >1.000</td>\n",
       "            </tr>\n",
       "    </tbody></table>"
      ],
      "text/plain": [
       "<pandas.io.formats.style.Styler at 0x1b49eef80d0>"
      ]
     },
     "execution_count": 136,
     "metadata": {},
     "output_type": "execute_result"
    }
   ],
   "source": [
    "pd.DataFrame(out, columns = ['adım','x0','y0','x1','y1']).style.hide_index().set_precision(3)"
   ]
  },
  {
   "cell_type": "markdown",
   "metadata": {},
   "source": [
    "# Sabit Noktalı İterasyon"
   ]
  },
  {
   "cell_type": "code",
   "execution_count": 151,
   "metadata": {},
   "outputs": [],
   "source": [
    "%reset -f"
   ]
  },
  {
   "cell_type": "code",
   "execution_count": 152,
   "metadata": {},
   "outputs": [],
   "source": [
    "import pandas as pd\n",
    "import numpy as np"
   ]
  },
  {
   "cell_type": "markdown",
   "metadata": {},
   "source": [
    "Türev kontrolünün (df<1) ardından seçilen fonksiyonlarla:"
   ]
  },
  {
   "cell_type": "code",
   "execution_count": null,
   "metadata": {},
   "outputs": [],
   "source": [
    "def f(x): return x**3-x-3"
   ]
  },
  {
   "cell_type": "code",
   "execution_count": 156,
   "metadata": {},
   "outputs": [],
   "source": [
    "x0=1.5\n",
    "out=[]\n",
    "out.clear()\n",
    "n=3\n",
    "for i in range(n):\n",
    "    a=f1(x0)\n",
    "    out.append([i+1,a])\n",
    "    x0=a"
   ]
  },
  {
   "cell_type": "code",
   "execution_count": 157,
   "metadata": {},
   "outputs": [
    {
     "data": {
      "text/html": [
       "<style  type=\"text/css\" >\n",
       "</style><table id=\"T_fb98b485_e33c_11eb_acd1_7054d2d8235e\" ><thead>    <tr>        <th class=\"col_heading level0 col0\" >adım</th>        <th class=\"col_heading level0 col1\" >x</th>    </tr></thead><tbody>\n",
       "                <tr>\n",
       "                                <td id=\"T_fb98b485_e33c_11eb_acd1_7054d2d8235erow0_col0\" class=\"data row0 col0\" >1</td>\n",
       "                        <td id=\"T_fb98b485_e33c_11eb_acd1_7054d2d8235erow0_col1\" class=\"data row0 col1\" >-1.12</td>\n",
       "            </tr>\n",
       "            <tr>\n",
       "                                <td id=\"T_fb98b485_e33c_11eb_acd1_7054d2d8235erow1_col0\" class=\"data row1 col0\" >2</td>\n",
       "                        <td id=\"T_fb98b485_e33c_11eb_acd1_7054d2d8235erow1_col1\" class=\"data row1 col1\" >-3.30</td>\n",
       "            </tr>\n",
       "            <tr>\n",
       "                                <td id=\"T_fb98b485_e33c_11eb_acd1_7054d2d8235erow2_col0\" class=\"data row2 col0\" >3</td>\n",
       "                        <td id=\"T_fb98b485_e33c_11eb_acd1_7054d2d8235erow2_col1\" class=\"data row2 col1\" >-35.60</td>\n",
       "            </tr>\n",
       "    </tbody></table>"
      ],
      "text/plain": [
       "<pandas.io.formats.style.Styler at 0x1b49eed52b0>"
      ]
     },
     "execution_count": 157,
     "metadata": {},
     "output_type": "execute_result"
    }
   ],
   "source": [
    "pd.DataFrame(out,columns = ['adım','x']).style.hide_index().set_precision(2)"
   ]
  },
  {
   "cell_type": "markdown",
   "metadata": {},
   "source": [
    "# Newton İleri Fark Yöntemi"
   ]
  },
  {
   "cell_type": "code",
   "execution_count": 57,
   "metadata": {},
   "outputs": [],
   "source": [
    "%reset -f"
   ]
  },
  {
   "cell_type": "code",
   "execution_count": 58,
   "metadata": {},
   "outputs": [],
   "source": [
    "import numpy as np\n",
    "import sympy as sp\n",
    "import math"
   ]
  },
  {
   "cell_type": "code",
   "execution_count": 59,
   "metadata": {},
   "outputs": [],
   "source": [
    "xx=[2,4,6,8,10]\n",
    "yy=[10,50,122,226,362]"
   ]
  },
  {
   "cell_type": "code",
   "execution_count": 60,
   "metadata": {},
   "outputs": [],
   "source": [
    "dy=[]\n",
    "dy.clear()\n",
    "ly=len(yy)\n",
    "\n",
    "for i in range(1,ly):\n",
    "    dy.append(list(np.diff(yy,i)))\n",
    "#dy"
   ]
  },
  {
   "cell_type": "code",
   "execution_count": 61,
   "metadata": {},
   "outputs": [],
   "source": [
    "x=sp.symbols('x')\n",
    "dx=[0]*ly\n",
    "dx[0]=x-xx[0]\n",
    "for i in range(1,ly): \n",
    "    dx[i]= (x-xx[i])*dx[i-1] \n",
    "#dx"
   ]
  },
  {
   "cell_type": "code",
   "execution_count": 62,
   "metadata": {},
   "outputs": [
    {
     "data": {
      "text/latex": [
       "$\\displaystyle 4 x^{2} - 4 x + 2$"
      ],
      "text/plain": [
       "4*x**2 - 4*x + 2"
      ]
     },
     "execution_count": 62,
     "metadata": {},
     "output_type": "execute_result"
    }
   ],
   "source": [
    "'''Terim sayısı'''\n",
    "n=3\n",
    "\n",
    "h=xx[1]-xx[0]\n",
    "p=yy[0]\n",
    "for i in range(n-1):\n",
    "    p += dx[i]*dy[i][0] / (math.factorial(i+1) * h**(i+1))\n",
    "\n",
    "p.simplify()"
   ]
  },
  {
   "cell_type": "code",
   "execution_count": 63,
   "metadata": {},
   "outputs": [
    {
     "data": {
      "text/latex": [
       "$\\displaystyle 26$"
      ],
      "text/plain": [
       "26"
      ]
     },
     "execution_count": 63,
     "metadata": {},
     "output_type": "execute_result"
    }
   ],
   "source": [
    "p.subs({x:3})"
   ]
  },
  {
   "cell_type": "markdown",
   "metadata": {},
   "source": [
    "# Lagrange Interpolasyonu"
   ]
  },
  {
   "cell_type": "code",
   "execution_count": 78,
   "metadata": {},
   "outputs": [],
   "source": [
    "%reset -f"
   ]
  },
  {
   "cell_type": "code",
   "execution_count": 79,
   "metadata": {},
   "outputs": [],
   "source": [
    "import sympy as sp\n",
    "import numpy as np"
   ]
  },
  {
   "cell_type": "code",
   "execution_count": 80,
   "metadata": {},
   "outputs": [],
   "source": [
    "X,Y=sp.symbols('X Y')"
   ]
  },
  {
   "cell_type": "code",
   "execution_count": 81,
   "metadata": {},
   "outputs": [],
   "source": [
    "x=np.array([0,2,4])\n",
    "y=np.array([0,0.03491,0.06993])\n",
    "\n",
    "n=y.shape[0]"
   ]
  },
  {
   "cell_type": "code",
   "execution_count": 82,
   "metadata": {},
   "outputs": [],
   "source": [
    "L = [1]*n\n",
    "for j in range(n):\n",
    "    for i in range(n):\n",
    "        if i != j:  L[j] *= (X-x[i])/(x[j]-x[i])"
   ]
  },
  {
   "cell_type": "code",
   "execution_count": 83,
   "metadata": {},
   "outputs": [
    {
     "data": {
      "text/latex": [
       "$\\displaystyle \\frac{X \\left(X - 2\\right)}{8}$"
      ],
      "text/plain": [
       "X*(X - 2)/8"
      ]
     },
     "execution_count": 83,
     "metadata": {},
     "output_type": "execute_result"
    }
   ],
   "source": [
    "# istediğin hergangi bir L terimini göster\n",
    "l=3\n",
    "sp.simplify(L[l-1])"
   ]
  },
  {
   "cell_type": "code",
   "execution_count": 92,
   "metadata": {},
   "outputs": [
    {
     "data": {
      "text/latex": [
       "$\\displaystyle 0.0174 X$"
      ],
      "text/plain": [
       "0.0174*X"
      ]
     },
     "execution_count": 92,
     "metadata": {},
     "output_type": "execute_result"
    }
   ],
   "source": [
    "p=0\n",
    "for i in range(n): p += (L[i]*Y).subs({Y:y[i]})\n",
    "p=np.around(np.array(sp.Poly(p,X).all_coeffs()).astype(np.float),4)\n",
    "p=sp.Poly(p,X).as_expr()\n",
    "p"
   ]
  },
  {
   "cell_type": "code",
   "execution_count": 91,
   "metadata": {},
   "outputs": [
    {
     "data": {
      "text/latex": [
       "$\\displaystyle 0.052$"
      ],
      "text/plain": [
       "0.052"
      ]
     },
     "execution_count": 91,
     "metadata": {},
     "output_type": "execute_result"
    }
   ],
   "source": [
    "#polinoma değer ver:\n",
    "p.subs({X:3}).round(3)"
   ]
  },
  {
   "cell_type": "markdown",
   "metadata": {},
   "source": [
    "# En Küçük Kareler"
   ]
  },
  {
   "cell_type": "markdown",
   "metadata": {},
   "source": [
    "#### Tek değişkenli:"
   ]
  },
  {
   "cell_type": "code",
   "execution_count": 1,
   "metadata": {},
   "outputs": [],
   "source": [
    "%reset -f"
   ]
  },
  {
   "cell_type": "code",
   "execution_count": 2,
   "metadata": {},
   "outputs": [],
   "source": [
    "import numpy as np\n",
    "import sympy as sp"
   ]
  },
  {
   "cell_type": "code",
   "execution_count": 3,
   "metadata": {},
   "outputs": [],
   "source": [
    "xx=np.array([0,1,2,3,4,5])\n",
    "yy=np.array([2.1,7.7,13.6,27.2,40.9,61.1])\n",
    "# değişim gerekiyorsa burada yap (örn. x=np.log(xx)):\n",
    "x=xx\n",
    "y=yy"
   ]
  },
  {
   "cell_type": "code",
   "execution_count": 4,
   "metadata": {},
   "outputs": [],
   "source": [
    "n=y.shape[0]\n",
    "sumx=np.sum(x)\n",
    "sumy=np.sum(y)"
   ]
  },
  {
   "cell_type": "code",
   "execution_count": 5,
   "metadata": {},
   "outputs": [],
   "source": [
    "A=np.array([[n, sumx],\n",
    "            [sumx, np.sum(np.square(x))]])\n",
    "E=np.array([[np.sum(y)], \n",
    "            [np.sum(y*x)]])\n",
    "V=np.linalg.solve(A, E)"
   ]
  },
  {
   "cell_type": "code",
   "execution_count": 6,
   "metadata": {},
   "outputs": [
    {
     "data": {
      "text/latex": [
       "$\\displaystyle \\left[\\begin{matrix}6 & 15\\\\15 & 55\\end{matrix}\\right]$"
      ],
      "text/plain": [
       "Matrix([\n",
       "[ 6, 15],\n",
       "[15, 55]])"
      ]
     },
     "execution_count": 6,
     "metadata": {},
     "output_type": "execute_result"
    }
   ],
   "source": [
    "sp.Matrix(A)"
   ]
  },
  {
   "cell_type": "code",
   "execution_count": 7,
   "metadata": {},
   "outputs": [
    {
     "data": {
      "text/latex": [
       "$\\displaystyle \\left[\\begin{matrix}152.6\\\\585.6\\end{matrix}\\right]$"
      ],
      "text/plain": [
       "Matrix([\n",
       "[152.6],\n",
       "[585.6]])"
      ]
     },
     "execution_count": 7,
     "metadata": {},
     "output_type": "execute_result"
    }
   ],
   "source": [
    "sp.Matrix(E)"
   ]
  },
  {
   "cell_type": "code",
   "execution_count": 8,
   "metadata": {},
   "outputs": [
    {
     "data": {
      "text/latex": [
       "$\\displaystyle \\left[\\begin{matrix}-3.724\\\\11.663\\end{matrix}\\right]$"
      ],
      "text/plain": [
       "Matrix([\n",
       "[-3.724],\n",
       "[11.663]])"
      ]
     },
     "execution_count": 8,
     "metadata": {},
     "output_type": "execute_result"
    }
   ],
   "source": [
    "# katsayılar (c0/c1/c2)\n",
    "sp.Matrix(V.round(3))"
   ]
  },
  {
   "cell_type": "markdown",
   "metadata": {},
   "source": [
    "Hata kareleri toplamı"
   ]
  },
  {
   "cell_type": "code",
   "execution_count": 9,
   "metadata": {},
   "outputs": [
    {
     "data": {
      "text/plain": [
       "133.004"
      ]
     },
     "execution_count": 9,
     "metadata": {},
     "output_type": "execute_result"
    }
   ],
   "source": [
    "yhat=np.array([n])\n",
    "yhat=V[0]+V[1]*x\n",
    "S=np.sum(np.square(yhat-y)).round(3)\n",
    "S"
   ]
  },
  {
   "cell_type": "markdown",
   "metadata": {},
   "source": [
    "#### Determinasyon katsayısı"
   ]
  },
  {
   "cell_type": "code",
   "execution_count": 10,
   "metadata": {},
   "outputs": [],
   "source": [
    "R2=lambda y0,yh:(1- np.sum(np.square(y0-yh))/np.sum(np.square(y0-np.mean(y0)))).round(3)"
   ]
  },
  {
   "cell_type": "code",
   "execution_count": 11,
   "metadata": {},
   "outputs": [
    {
     "data": {
      "text/plain": [
       "0.947"
      ]
     },
     "execution_count": 11,
     "metadata": {},
     "output_type": "execute_result"
    }
   ],
   "source": [
    "R2(y,yhat)"
   ]
  },
  {
   "cell_type": "markdown",
   "metadata": {},
   "source": [
    "#### Çift değişkenli:"
   ]
  },
  {
   "cell_type": "code",
   "execution_count": 1,
   "metadata": {},
   "outputs": [],
   "source": [
    "%reset -f"
   ]
  },
  {
   "cell_type": "code",
   "execution_count": 2,
   "metadata": {},
   "outputs": [],
   "source": [
    "import numpy as np\n",
    "import sympy as sp"
   ]
  },
  {
   "cell_type": "code",
   "execution_count": 3,
   "metadata": {},
   "outputs": [],
   "source": [
    "xx=np.array([0,1,2,3,4,5])\n",
    "ww=np.array(xx*xx)\n",
    "yy=np.array([2.1,7.7,13.6,27.2,40.9,61.1])\n",
    "''' değişim gerekiyorsa burada yap (örn. x=np.log(xx)):'''\n",
    "x=xx\n",
    "y=yy\n",
    "w=ww"
   ]
  },
  {
   "cell_type": "code",
   "execution_count": 4,
   "metadata": {},
   "outputs": [],
   "source": [
    "n=y.shape[0]\n",
    "sumx=np.sum(x)\n",
    "sumw=np.sum(w)\n",
    "sumwx=np.sum(x*w)\n",
    "sumy=np.sum(y)"
   ]
  },
  {
   "cell_type": "code",
   "execution_count": 5,
   "metadata": {},
   "outputs": [],
   "source": [
    "A=np.array([[n, sumx, sumw],\n",
    "            [sumx, np.sum(np.square(x)), sumwx],\n",
    "            [sumw, sumwx, np.sum(np.square(w))]])\n",
    "E=np.array([[np.sum(y)], \n",
    "            [np.sum(y*x)],\n",
    "            [np.sum(y*x**2)]])\n",
    "V=np.linalg.solve(A, E)"
   ]
  },
  {
   "cell_type": "code",
   "execution_count": 6,
   "metadata": {},
   "outputs": [
    {
     "data": {
      "text/latex": [
       "$\\displaystyle \\left[\\begin{matrix}6 & 15 & 55\\\\15 & 55 & 225\\\\55 & 225 & 979\\end{matrix}\\right]$"
      ],
      "text/plain": [
       "Matrix([\n",
       "[ 6,  15,  55],\n",
       "[15,  55, 225],\n",
       "[55, 225, 979]])"
      ]
     },
     "execution_count": 6,
     "metadata": {},
     "output_type": "execute_result"
    }
   ],
   "source": [
    "sp.Matrix(A)"
   ]
  },
  {
   "cell_type": "code",
   "execution_count": 7,
   "metadata": {},
   "outputs": [
    {
     "data": {
      "text/latex": [
       "$\\displaystyle \\left[\\begin{matrix}152.6\\\\585.6\\\\2488.8\\end{matrix}\\right]$"
      ],
      "text/plain": [
       "Matrix([\n",
       "[ 152.6],\n",
       "[ 585.6],\n",
       "[2488.8]])"
      ]
     },
     "execution_count": 7,
     "metadata": {},
     "output_type": "execute_result"
    }
   ],
   "source": [
    "sp.Matrix(E)"
   ]
  },
  {
   "cell_type": "code",
   "execution_count": 8,
   "metadata": {},
   "outputs": [
    {
     "data": {
      "text/latex": [
       "$\\displaystyle \\left[\\begin{matrix}2.479\\\\2.359\\\\1.861\\end{matrix}\\right]$"
      ],
      "text/plain": [
       "Matrix([\n",
       "[2.479],\n",
       "[2.359],\n",
       "[1.861]])"
      ]
     },
     "execution_count": 8,
     "metadata": {},
     "output_type": "execute_result"
    }
   ],
   "source": [
    "# katsayılar\n",
    "sp.Matrix(V.round(3))"
   ]
  },
  {
   "cell_type": "markdown",
   "metadata": {},
   "source": [
    "Hata kareleri toplamı"
   ]
  },
  {
   "cell_type": "code",
   "execution_count": 14,
   "metadata": {},
   "outputs": [
    {
     "data": {
      "text/plain": [
       "3.747"
      ]
     },
     "execution_count": 14,
     "metadata": {},
     "output_type": "execute_result"
    }
   ],
   "source": [
    "yhat=np.array([n])\n",
    "yhat=V[0]+V[1]*x+V[2]*x**2\n",
    "S=np.sum(np.square(yhat-y)).round(3)\n",
    "S"
   ]
  },
  {
   "cell_type": "markdown",
   "metadata": {},
   "source": [
    "#### Determinasyon katsayısı"
   ]
  },
  {
   "cell_type": "code",
   "execution_count": 17,
   "metadata": {},
   "outputs": [],
   "source": [
    "R2=lambda y0,yh:(1- np.sum(np.square(y0-yh))/np.sum(np.square(y0-np.mean(y0)))).round(3)"
   ]
  },
  {
   "cell_type": "code",
   "execution_count": 18,
   "metadata": {},
   "outputs": [
    {
     "data": {
      "text/plain": [
       "0.999"
      ]
     },
     "execution_count": 18,
     "metadata": {},
     "output_type": "execute_result"
    }
   ],
   "source": [
    "R2(y,yhat)"
   ]
  }
 ],
 "metadata": {
  "kernelspec": {
   "display_name": "Python 3",
   "language": "python",
   "name": "python3"
  },
  "language_info": {
   "codemirror_mode": {
    "name": "ipython",
    "version": 3
   },
   "file_extension": ".py",
   "mimetype": "text/x-python",
   "name": "python",
   "nbconvert_exporter": "python",
   "pygments_lexer": "ipython3",
   "version": "3.8.3"
  }
 },
 "nbformat": 4,
 "nbformat_minor": 4
}
