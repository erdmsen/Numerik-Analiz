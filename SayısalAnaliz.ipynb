{
 "cells": [
  {
   "cell_type": "markdown",
   "metadata": {},
   "source": [
    "# Taylor serisi"
   ]
  },
  {
   "cell_type": "code",
   "execution_count": 1,
   "metadata": {},
   "outputs": [],
   "source": [
    "%reset -f"
   ]
  },
  {
   "cell_type": "code",
   "execution_count": 2,
   "metadata": {},
   "outputs": [],
   "source": [
    "import numpy as np\n",
    "import sympy as sp\n",
    "import math"
   ]
  },
  {
   "cell_type": "code",
   "execution_count": 3,
   "metadata": {},
   "outputs": [],
   "source": [
    "x=sp.symbols('x')\n",
    "f=x**2+-3*x+5"
   ]
  },
  {
   "cell_type": "code",
   "execution_count": 4,
   "metadata": {},
   "outputs": [],
   "source": [
    "x0=38 \n",
    "h=2\n",
    "n=6 # terim sayısı"
   ]
  },
  {
   "cell_type": "code",
   "execution_count": 5,
   "metadata": {},
   "outputs": [
    {
     "data": {
      "text/latex": [
       "$\\displaystyle 1335$"
      ],
      "text/plain": [
       "1335"
      ]
     },
     "execution_count": 5,
     "metadata": {},
     "output_type": "execute_result"
    }
   ],
   "source": [
    "out=[]\n",
    "out.clear()\n",
    "for i in range(n): \n",
    "    out.append(sp.diff(f,x,i).subs({x:x0-h}) * h**i / math.factorial(i)) \n",
    "sum(out)"
   ]
  },
  {
   "cell_type": "code",
   "execution_count": 6,
   "metadata": {},
   "outputs": [
    {
     "name": "stdout",
     "output_type": "stream",
     "text": [
      "= 1193 + 138 + 4 + 0 + 0 + 0\n"
     ]
    }
   ],
   "source": [
    "# Terimler (derece = terim_numarası-1)\n",
    "print('= {} + {} + {} + {} + {} + {}'.format(*out))"
   ]
  },
  {
   "cell_type": "markdown",
   "metadata": {},
   "source": [
    "# Matris"
   ]
  },
  {
   "cell_type": "code",
   "execution_count": null,
   "metadata": {
    "jupyter": {
     "source_hidden": true
    }
   },
   "outputs": [],
   "source": [
    "%reset -f"
   ]
  },
  {
   "cell_type": "code",
   "execution_count": null,
   "metadata": {
    "jupyter": {
     "source_hidden": true
    }
   },
   "outputs": [],
   "source": [
    "import numpy as np\n",
    "import sympy as sp"
   ]
  },
  {
   "cell_type": "code",
   "execution_count": null,
   "metadata": {
    "jupyter": {
     "source_hidden": true
    }
   },
   "outputs": [],
   "source": [
    "A = np.array([[6, 1, 1],\n",
    "              [4, -2, 5],\n",
    "              [2, 8, 7]])"
   ]
  },
  {
   "cell_type": "markdown",
   "metadata": {
    "jupyter": {
     "source_hidden": true
    }
   },
   "source": [
    "Ters Matris"
   ]
  },
  {
   "cell_type": "code",
   "execution_count": null,
   "metadata": {
    "jupyter": {
     "source_hidden": true
    }
   },
   "outputs": [],
   "source": [
    "sp.Matrix(np.linalg.inv(A).round(3))"
   ]
  },
  {
   "cell_type": "markdown",
   "metadata": {
    "jupyter": {
     "source_hidden": true
    }
   },
   "source": [
    "Determinant"
   ]
  },
  {
   "cell_type": "code",
   "execution_count": null,
   "metadata": {
    "jupyter": {
     "source_hidden": true
    }
   },
   "outputs": [],
   "source": [
    "sp.Matrix(np.linalg.det(A).round(3))"
   ]
  },
  {
   "cell_type": "markdown",
   "metadata": {
    "jupyter": {
     "source_hidden": true
    }
   },
   "source": [
    "Matris Çarpımı"
   ]
  },
  {
   "cell_type": "code",
   "execution_count": null,
   "metadata": {
    "jupyter": {
     "source_hidden": true
    }
   },
   "outputs": [],
   "source": [
    "B = np.array([[2, 1, 1],\n",
    "              [1, -2, 5],\n",
    "              [2, 3, 1]])\n",
    "sp.Matrix(A.dot(B))"
   ]
  },
  {
   "cell_type": "markdown",
   "metadata": {},
   "source": [
    "# Crout Yöntemi"
   ]
  },
  {
   "cell_type": "code",
   "execution_count": 7,
   "metadata": {},
   "outputs": [],
   "source": [
    "%reset -f"
   ]
  },
  {
   "cell_type": "code",
   "execution_count": 8,
   "metadata": {},
   "outputs": [],
   "source": [
    "import numpy as np\n",
    "import sympy as sp"
   ]
  },
  {
   "cell_type": "code",
   "execution_count": 9,
   "metadata": {},
   "outputs": [],
   "source": [
    "A = np.array([[1, 1, 1],\n",
    "                [2, 1, -1],\n",
    "                [2, -1, 1]])\n",
    "E = np.array([[6],\n",
    "             [7],\n",
    "             [5]])"
   ]
  },
  {
   "cell_type": "code",
   "execution_count": 10,
   "metadata": {},
   "outputs": [],
   "source": [
    "sa=np.shape(A)\n",
    "rdim=sa[0]\n",
    "U = np.identity(rdim)\n",
    "L = np.zeros(shape=sa)"
   ]
  },
  {
   "cell_type": "code",
   "execution_count": 11,
   "metadata": {},
   "outputs": [],
   "source": [
    "for j in range (rdim):\n",
    "    for i in range(j,rdim):\n",
    "        sumL,sumU = 0,0\n",
    "        for k in range(j): \n",
    "            sumL = sumL + L[i,k] * U[k,j]\t\n",
    "            sumU = sumU + L[j,k] * U[k,i]\n",
    "        L[i,j] = A[i,j] - sumL\n",
    "        U[j,i] = (A[j,i] - sumU) / L[j,j]"
   ]
  },
  {
   "cell_type": "code",
   "execution_count": 12,
   "metadata": {},
   "outputs": [
    {
     "data": {
      "text/latex": [
       "$\\displaystyle \\left[\\begin{matrix}1.0 & 0.0 & 0.0\\\\2.0 & -1.0 & 0.0\\\\2.0 & -3.0 & 8.0\\end{matrix}\\right]$"
      ],
      "text/plain": [
       "Matrix([\n",
       "[1.0,  0.0, 0.0],\n",
       "[2.0, -1.0, 0.0],\n",
       "[2.0, -3.0, 8.0]])"
      ]
     },
     "execution_count": 12,
     "metadata": {},
     "output_type": "execute_result"
    }
   ],
   "source": [
    "sp.Matrix(L.round(3))"
   ]
  },
  {
   "cell_type": "code",
   "execution_count": 13,
   "metadata": {},
   "outputs": [
    {
     "data": {
      "text/latex": [
       "$\\displaystyle \\left[\\begin{matrix}1.0 & 1.0 & 1.0\\\\0.0 & 1.0 & 3.0\\\\0.0 & 0.0 & 1.0\\end{matrix}\\right]$"
      ],
      "text/plain": [
       "Matrix([\n",
       "[1.0, 1.0, 1.0],\n",
       "[0.0, 1.0, 3.0],\n",
       "[0.0, 0.0, 1.0]])"
      ]
     },
     "execution_count": 13,
     "metadata": {},
     "output_type": "execute_result"
    }
   ],
   "source": [
    "sp.Matrix(U.round(3))"
   ]
  },
  {
   "cell_type": "code",
   "execution_count": 14,
   "metadata": {},
   "outputs": [
    {
     "data": {
      "text/latex": [
       "$\\displaystyle \\left[\\begin{matrix}6.0\\\\5.0\\\\1.0\\end{matrix}\\right]$"
      ],
      "text/plain": [
       "Matrix([\n",
       "[6.0],\n",
       "[5.0],\n",
       "[1.0]])"
      ]
     },
     "execution_count": 14,
     "metadata": {},
     "output_type": "execute_result"
    }
   ],
   "source": [
    "D=np.linalg.solve(L, E)\n",
    "sp.Matrix(D.round(3))"
   ]
  },
  {
   "cell_type": "code",
   "execution_count": 15,
   "metadata": {},
   "outputs": [
    {
     "data": {
      "text/latex": [
       "$\\displaystyle \\left[\\begin{matrix}3.0\\\\2.0\\\\1.0\\end{matrix}\\right]$"
      ],
      "text/plain": [
       "Matrix([\n",
       "[3.0],\n",
       "[2.0],\n",
       "[1.0]])"
      ]
     },
     "execution_count": 15,
     "metadata": {},
     "output_type": "execute_result"
    }
   ],
   "source": [
    "X=np.linalg.solve(U, D)\n",
    "sp.Matrix(X.round(3))"
   ]
  },
  {
   "cell_type": "markdown",
   "metadata": {},
   "source": [
    "# Jacobi Yöntemi\n",
    "Kullanılan kaynak:\n",
    "https://www.quantstart.com/articles/Jacobi-Method-in-Python-and-NumPy/#:~:text=The%20Jacobi%20method%20is%20a,and%20known%20vector%20or%20length%20."
   ]
  },
  {
   "cell_type": "markdown",
   "metadata": {},
   "source": [
    "Köşegen değerleri kendi satırındaki elemanların toplamından büyük olmalı, değilse satır değiştir. Kontrol sonrası:"
   ]
  },
  {
   "cell_type": "code",
   "execution_count": 38,
   "metadata": {},
   "outputs": [],
   "source": [
    "%reset -f"
   ]
  },
  {
   "cell_type": "code",
   "execution_count": 39,
   "metadata": {},
   "outputs": [],
   "source": [
    "import numpy as np"
   ]
  },
  {
   "cell_type": "code",
   "execution_count": 40,
   "metadata": {},
   "outputs": [],
   "source": [
    "A = np.array([[8, 2, 3],\n",
    "              [1, -9, 2],\n",
    "              [2, 3, 6]])\n",
    "E = np.array([[30],\n",
    "              [1],\n",
    "              [31]])"
   ]
  },
  {
   "cell_type": "code",
   "execution_count": 41,
   "metadata": {},
   "outputs": [],
   "source": [
    "sa=np.shape(A)\n",
    "rdim=sa[0]\n",
    "\"\"\"BAŞLANGIÇ DEĞERLERİ\"\"\"\n",
    "# x=np.array([1, 2, 3])\n",
    "# tekrar sayısı\n",
    "n=4"
   ]
  },
  {
   "cell_type": "code",
   "execution_count": 42,
   "metadata": {},
   "outputs": [],
   "source": [
    "def jacobi(a,b,n,x=None):\n",
    "    if x==None: x = np.zeros(rdim) \n",
    "    # Create a vector of the diagonal elements of A and subtract them from A \n",
    "    d = np.diag(a)\n",
    "    r = a - np.diagflat(d)\n",
    "    # Iterate for N times  \n",
    "    for i in range(n):\n",
    "        x = np.diag((b - np.dot(r,x))/d)\n",
    "    return x"
   ]
  },
  {
   "cell_type": "code",
   "execution_count": 21,
   "metadata": {},
   "outputs": [
    {
     "name": "stdout",
     "output_type": "stream",
     "text": [
      "1. tekrar [ 3.75  -0.111  5.167]\n",
      "2. tekrar [1.84  1.454 3.972]\n",
      "3. tekrar [1.897 0.976 3.826]\n",
      "4. tekrar [2.071 0.95  4.046]\n"
     ]
    }
   ],
   "source": [
    "print('1. tekrar',jacobi(A,E,1).round(3))\n",
    "print('2. tekrar',jacobi(A,E,2).round(3))\n",
    "print('3. tekrar',jacobi(A,E,3).round(3))\n",
    "print('4. tekrar',jacobi(A,E,4).round(3))"
   ]
  },
  {
   "cell_type": "markdown",
   "metadata": {},
   "source": [
    "# Gauss-Seidel"
   ]
  },
  {
   "cell_type": "markdown",
   "metadata": {},
   "source": [
    "Köşegen elemanları 0 olamaz. Köşegen değerleri kendi satırındaki elemanların toplamından büyük olmalı, değilse satır değiştirerek dene."
   ]
  },
  {
   "cell_type": "code",
   "execution_count": 22,
   "metadata": {},
   "outputs": [],
   "source": [
    "%reset -f"
   ]
  },
  {
   "cell_type": "code",
   "execution_count": 23,
   "metadata": {},
   "outputs": [],
   "source": [
    "import numpy as np"
   ]
  },
  {
   "cell_type": "code",
   "execution_count": 24,
   "metadata": {},
   "outputs": [],
   "source": [
    "A = np.array([[4, -1, -1],\n",
    "              [6, 8, 0],\n",
    "              [-5, 0, 12]])\n",
    "E = np.array([[-2],\n",
    "              [45],\n",
    "              [80]])\n"
   ]
  },
  {
   "cell_type": "code",
   "execution_count": 25,
   "metadata": {},
   "outputs": [],
   "source": [
    "sa=np.shape(A)\n",
    "rdim=sa[0]\n",
    "\"\"\"BAŞLANGIÇ DEĞERLERİ\"\"\"\n",
    "# x=np.array([1, 2, 3])\n",
    "# tekrar sayısı\n",
    "n=4"
   ]
  },
  {
   "cell_type": "code",
   "execution_count": 26,
   "metadata": {},
   "outputs": [],
   "source": [
    "def gauseidel(a,b,n,x=None):\n",
    "    if x==None: x = np.zeros(rdim) \n",
    "    # Create a vector of the diagonal elements of A and subtract them from A \n",
    "    d = np.diag(a)\n",
    "    r = a - np.diagflat(d)\n",
    "    # Iterate for N times  \n",
    "    for i in range(n):\n",
    "        for j in range(len(x)):\n",
    "            x[j] = ((b - np.dot(r,x))/d)[j,j]            \n",
    "    return x"
   ]
  },
  {
   "cell_type": "code",
   "execution_count": 27,
   "metadata": {},
   "outputs": [
    {
     "name": "stdout",
     "output_type": "stream",
     "text": [
      "1. tekrar [-0.5    6.     6.458]\n",
      "2. tekrar [2.615 3.664 7.756]\n",
      "3. tekrar [2.355 3.859 7.648]\n",
      "4. tekrar [2.377 3.843 7.657]\n"
     ]
    }
   ],
   "source": [
    "print('1. tekrar',gauseidel(A,E,1).round(3))\n",
    "print('2. tekrar',gauseidel(A,E,2).round(3))\n",
    "print('3. tekrar',gauseidel(A,E,3).round(3))\n",
    "print('4. tekrar',gauseidel(A,E,4).round(3))"
   ]
  },
  {
   "cell_type": "markdown",
   "metadata": {},
   "source": [
    "# Bisection (Aralık Bölme)"
   ]
  },
  {
   "cell_type": "code",
   "execution_count": 28,
   "metadata": {},
   "outputs": [],
   "source": [
    "%reset -f"
   ]
  },
  {
   "cell_type": "code",
   "execution_count": 29,
   "metadata": {},
   "outputs": [],
   "source": [
    "import numpy as np\n",
    "import math"
   ]
  },
  {
   "cell_type": "code",
   "execution_count": 30,
   "metadata": {},
   "outputs": [],
   "source": [
    "def f(x): return 4.5*x-2*np.cos(x)\n",
    "a,b = 0,1\n",
    "n = 4 # tekrar sayısı"
   ]
  },
  {
   "cell_type": "code",
   "execution_count": 31,
   "metadata": {},
   "outputs": [],
   "source": [
    "sign = lambda x: math.copysign(1, x)"
   ]
  },
  {
   "cell_type": "code",
   "execution_count": 32,
   "metadata": {},
   "outputs": [
    {
     "name": "stdout",
     "output_type": "stream",
     "text": [
      " 1.tekrar \ta=0.0000 \tb=0.500 \tc=0.500\n",
      " 2.tekrar \ta=0.2500 \tb=0.500 \tc=0.250\n",
      " 3.tekrar \ta=0.3750 \tb=0.500 \tc=0.375\n",
      " 4.tekrar \ta=0.3750 \tb=0.438 \tc=0.438\n"
     ]
    }
   ],
   "source": [
    "for i in range(n):\n",
    "    fa=f(a)\n",
    "    if sign(fa) != sign(f(b)):\n",
    "        c=(a+b)/2\n",
    "        if sign(fa) != sign(f(c)): b=c\n",
    "        else: a=c\n",
    "        print('%2d.tekrar \\ta=%.4f \\tb=%.3f \\tc=%.3f' % (i+1,a,b,c))\n",
    "    elif fa==f(b): print('%2d.tekrar \\tkök=%.3f=a=b' % (i+1,a))\n",
    "    else: print('%2d.tekrar \\tkök yok' % (i+1,a))"
   ]
  },
  {
   "cell_type": "markdown",
   "metadata": {},
   "source": [
    "# Regula-Falsi"
   ]
  },
  {
   "cell_type": "code",
   "execution_count": 33,
   "metadata": {},
   "outputs": [],
   "source": [
    "%reset -f"
   ]
  },
  {
   "cell_type": "code",
   "execution_count": 34,
   "metadata": {},
   "outputs": [],
   "source": [
    "import numpy as np\n",
    "import math"
   ]
  },
  {
   "cell_type": "code",
   "execution_count": 35,
   "metadata": {},
   "outputs": [],
   "source": [
    "def f(x): return 4.5*x-2*np.cos(x)\n",
    "a,b = 0,1\n",
    "n = 4 # tekrar sayısı"
   ]
  },
  {
   "cell_type": "code",
   "execution_count": 36,
   "metadata": {},
   "outputs": [],
   "source": [
    "sign = lambda x: math.copysign(1, x)"
   ]
  },
  {
   "cell_type": "code",
   "execution_count": 37,
   "metadata": {},
   "outputs": [
    {
     "name": "stdout",
     "output_type": "stream",
     "text": [
      " 1.tekrar \ta=0.369 \tb=1.000 \tc=0.369\n",
      " 2.tekrar \ta=0.405 \tb=1.000 \tc=0.405\n",
      " 3.tekrar \ta=0.408 \tb=1.000 \tc=0.408\n",
      " 4.tekrar \ta=0.408 \tb=1.000 \tc=0.408\n"
     ]
    }
   ],
   "source": [
    "for i in range(n):\n",
    "    fa,fb=f(a),f(b)\n",
    "    if sign(fa) != sign(fb):\n",
    "        c= (a*fb-b*fa)/(fb-fa)\n",
    "        if sign(fa) != sign(f(c)): b=c\n",
    "        else: a=c\n",
    "        print('%2d.tekrar \\ta=%.3f \\tb=%.3f \\tc=%.3f' % (i+1,a,b,c))\n",
    "    elif fa==fb: print('%2d.tekrar \\tkök=%.4f=a=b' % (i+1,a))\n",
    "    else: print('%2d.tekrar \\tkök yok' % (i+1,a))"
   ]
  },
  {
   "cell_type": "markdown",
   "metadata": {},
   "source": [
    "# Secant (Kiriş) Yöntemi"
   ]
  },
  {
   "cell_type": "code",
   "execution_count": 1,
   "metadata": {},
   "outputs": [],
   "source": [
    "%reset -f"
   ]
  },
  {
   "cell_type": "code",
   "execution_count": 9,
   "metadata": {},
   "outputs": [],
   "source": [
    "import numpy as np\n",
    "import pandas as pd"
   ]
  },
  {
   "cell_type": "code",
   "execution_count": 31,
   "metadata": {},
   "outputs": [],
   "source": [
    "def f(x): return 4.5*x-2*np.cos(x)"
   ]
  },
  {
   "cell_type": "code",
   "execution_count": 32,
   "metadata": {},
   "outputs": [],
   "source": [
    "n=5 # tekrar sayısı\n",
    "out=[n]\n",
    "out.clear()"
   ]
  },
  {
   "cell_type": "code",
   "execution_count": 33,
   "metadata": {},
   "outputs": [],
   "source": [
    "x0,x1=0,1\n",
    "for i in range(n):\n",
    "    f0,f1=f(x0),f(x1)\n",
    "    x2 = x1-f1*(x1-x0)/(f1-f0)\n",
    "    out.append([i+1,x0,x1,x2,f(x2),x2-x1])\n",
    "    x0,x1=x1,x2"
   ]
  },
  {
   "cell_type": "code",
   "execution_count": 34,
   "metadata": {},
   "outputs": [
    {
     "data": {
      "text/html": [
       "<style  type=\"text/css\" >\n",
       "</style><table id=\"T_f9e991da_dff9_11eb_a579_7054d2d8235e\" ><thead>    <tr>        <th class=\"col_heading level0 col0\" >adım</th>        <th class=\"col_heading level0 col1\" >x0</th>        <th class=\"col_heading level0 col2\" >x1</th>        <th class=\"col_heading level0 col3\" >x2</th>        <th class=\"col_heading level0 col4\" >f ( x2 )</th>        <th class=\"col_heading level0 col5\" >Δx</th>    </tr></thead><tbody>\n",
       "                <tr>\n",
       "                                <td id=\"T_f9e991da_dff9_11eb_a579_7054d2d8235erow0_col0\" class=\"data row0 col0\" >1</td>\n",
       "                        <td id=\"T_f9e991da_dff9_11eb_a579_7054d2d8235erow0_col1\" class=\"data row0 col1\" >0.000</td>\n",
       "                        <td id=\"T_f9e991da_dff9_11eb_a579_7054d2d8235erow0_col2\" class=\"data row0 col2\" >1.000</td>\n",
       "                        <td id=\"T_f9e991da_dff9_11eb_a579_7054d2d8235erow0_col3\" class=\"data row0 col3\" >0.369</td>\n",
       "                        <td id=\"T_f9e991da_dff9_11eb_a579_7054d2d8235erow0_col4\" class=\"data row0 col4\" >-0.205</td>\n",
       "                        <td id=\"T_f9e991da_dff9_11eb_a579_7054d2d8235erow0_col5\" class=\"data row0 col5\" >-0.631</td>\n",
       "            </tr>\n",
       "            <tr>\n",
       "                                <td id=\"T_f9e991da_dff9_11eb_a579_7054d2d8235erow1_col0\" class=\"data row1 col0\" >2</td>\n",
       "                        <td id=\"T_f9e991da_dff9_11eb_a579_7054d2d8235erow1_col1\" class=\"data row1 col1\" >1.000</td>\n",
       "                        <td id=\"T_f9e991da_dff9_11eb_a579_7054d2d8235erow1_col2\" class=\"data row1 col2\" >0.369</td>\n",
       "                        <td id=\"T_f9e991da_dff9_11eb_a579_7054d2d8235erow1_col3\" class=\"data row1 col3\" >0.405</td>\n",
       "                        <td id=\"T_f9e991da_dff9_11eb_a579_7054d2d8235erow1_col4\" class=\"data row1 col4\" >-0.017</td>\n",
       "                        <td id=\"T_f9e991da_dff9_11eb_a579_7054d2d8235erow1_col5\" class=\"data row1 col5\" >0.036</td>\n",
       "            </tr>\n",
       "            <tr>\n",
       "                                <td id=\"T_f9e991da_dff9_11eb_a579_7054d2d8235erow2_col0\" class=\"data row2 col0\" >3</td>\n",
       "                        <td id=\"T_f9e991da_dff9_11eb_a579_7054d2d8235erow2_col1\" class=\"data row2 col1\" >0.369</td>\n",
       "                        <td id=\"T_f9e991da_dff9_11eb_a579_7054d2d8235erow2_col2\" class=\"data row2 col2\" >0.405</td>\n",
       "                        <td id=\"T_f9e991da_dff9_11eb_a579_7054d2d8235erow2_col3\" class=\"data row2 col3\" >0.408</td>\n",
       "                        <td id=\"T_f9e991da_dff9_11eb_a579_7054d2d8235erow2_col4\" class=\"data row2 col4\" >0.000</td>\n",
       "                        <td id=\"T_f9e991da_dff9_11eb_a579_7054d2d8235erow2_col5\" class=\"data row2 col5\" >0.003</td>\n",
       "            </tr>\n",
       "            <tr>\n",
       "                                <td id=\"T_f9e991da_dff9_11eb_a579_7054d2d8235erow3_col0\" class=\"data row3 col0\" >4</td>\n",
       "                        <td id=\"T_f9e991da_dff9_11eb_a579_7054d2d8235erow3_col1\" class=\"data row3 col1\" >0.405</td>\n",
       "                        <td id=\"T_f9e991da_dff9_11eb_a579_7054d2d8235erow3_col2\" class=\"data row3 col2\" >0.408</td>\n",
       "                        <td id=\"T_f9e991da_dff9_11eb_a579_7054d2d8235erow3_col3\" class=\"data row3 col3\" >0.408</td>\n",
       "                        <td id=\"T_f9e991da_dff9_11eb_a579_7054d2d8235erow3_col4\" class=\"data row3 col4\" >-0.000</td>\n",
       "                        <td id=\"T_f9e991da_dff9_11eb_a579_7054d2d8235erow3_col5\" class=\"data row3 col5\" >-0.000</td>\n",
       "            </tr>\n",
       "            <tr>\n",
       "                                <td id=\"T_f9e991da_dff9_11eb_a579_7054d2d8235erow4_col0\" class=\"data row4 col0\" >5</td>\n",
       "                        <td id=\"T_f9e991da_dff9_11eb_a579_7054d2d8235erow4_col1\" class=\"data row4 col1\" >0.408</td>\n",
       "                        <td id=\"T_f9e991da_dff9_11eb_a579_7054d2d8235erow4_col2\" class=\"data row4 col2\" >0.408</td>\n",
       "                        <td id=\"T_f9e991da_dff9_11eb_a579_7054d2d8235erow4_col3\" class=\"data row4 col3\" >0.408</td>\n",
       "                        <td id=\"T_f9e991da_dff9_11eb_a579_7054d2d8235erow4_col4\" class=\"data row4 col4\" >-0.000</td>\n",
       "                        <td id=\"T_f9e991da_dff9_11eb_a579_7054d2d8235erow4_col5\" class=\"data row4 col5\" >0.000</td>\n",
       "            </tr>\n",
       "    </tbody></table>"
      ],
      "text/plain": [
       "<pandas.io.formats.style.Styler at 0x1b8face7d90>"
      ]
     },
     "execution_count": 34,
     "metadata": {},
     "output_type": "execute_result"
    }
   ],
   "source": [
    "pd.DataFrame(out, columns = ['adım','x0','x1','x2','f ( x2 )','Δx']).style.hide_index().set_precision(3)"
   ]
  },
  {
   "cell_type": "markdown",
   "metadata": {},
   "source": [
    "# Newton-Raphson"
   ]
  },
  {
   "cell_type": "code",
   "execution_count": 1,
   "metadata": {},
   "outputs": [],
   "source": [
    "%reset -f"
   ]
  },
  {
   "cell_type": "code",
   "execution_count": 2,
   "metadata": {},
   "outputs": [],
   "source": [
    "import numpy as np\n",
    "import sympy as sp\n",
    "import pandas as pd"
   ]
  },
  {
   "cell_type": "code",
   "execution_count": 3,
   "metadata": {},
   "outputs": [],
   "source": [
    "x=sp.symbols('x')\n",
    "f=4.5*x-2*sp.cos(x)"
   ]
  },
  {
   "cell_type": "code",
   "execution_count": 4,
   "metadata": {},
   "outputs": [],
   "source": [
    "out=[]\n",
    "out.clear()"
   ]
  },
  {
   "cell_type": "code",
   "execution_count": 5,
   "metadata": {},
   "outputs": [],
   "source": [
    "n  = 6 # tekrar sayısı\n",
    "x0 = 0.0\n",
    "for i in range(n):\n",
    "    fx0,dfx0=f.subs({x:x0}),sp.diff(f,x).subs({x:x0})\n",
    "    x1=x0-fx0/dfx0\n",
    "    op=np.array([x0,fx0,dfx0,x1]).astype(np.float)\n",
    "    out.append([i+1,op[0],op[1],op[2],op[3]])\n",
    "    x0=x1"
   ]
  },
  {
   "cell_type": "code",
   "execution_count": 6,
   "metadata": {},
   "outputs": [
    {
     "data": {
      "text/html": [
       "<style  type=\"text/css\" >\n",
       "</style><table id=\"T_c3415275_e024_11eb_b7d9_7054d2d8235e\" ><thead>    <tr>        <th class=\"col_heading level0 col0\" >adım</th>        <th class=\"col_heading level0 col1\" >x0</th>        <th class=\"col_heading level0 col2\" >f ( x0 )</th>        <th class=\"col_heading level0 col3\" >f ' ( x0 )</th>        <th class=\"col_heading level0 col4\" >x1</th>    </tr></thead><tbody>\n",
       "                <tr>\n",
       "                                <td id=\"T_c3415275_e024_11eb_b7d9_7054d2d8235erow0_col0\" class=\"data row0 col0\" >1</td>\n",
       "                        <td id=\"T_c3415275_e024_11eb_b7d9_7054d2d8235erow0_col1\" class=\"data row0 col1\" >0.000</td>\n",
       "                        <td id=\"T_c3415275_e024_11eb_b7d9_7054d2d8235erow0_col2\" class=\"data row0 col2\" >-2.000</td>\n",
       "                        <td id=\"T_c3415275_e024_11eb_b7d9_7054d2d8235erow0_col3\" class=\"data row0 col3\" >4.500</td>\n",
       "                        <td id=\"T_c3415275_e024_11eb_b7d9_7054d2d8235erow0_col4\" class=\"data row0 col4\" >0.444</td>\n",
       "            </tr>\n",
       "            <tr>\n",
       "                                <td id=\"T_c3415275_e024_11eb_b7d9_7054d2d8235erow1_col0\" class=\"data row1 col0\" >2</td>\n",
       "                        <td id=\"T_c3415275_e024_11eb_b7d9_7054d2d8235erow1_col1\" class=\"data row1 col1\" >0.444</td>\n",
       "                        <td id=\"T_c3415275_e024_11eb_b7d9_7054d2d8235erow1_col2\" class=\"data row1 col2\" >0.194</td>\n",
       "                        <td id=\"T_c3415275_e024_11eb_b7d9_7054d2d8235erow1_col3\" class=\"data row1 col3\" >5.360</td>\n",
       "                        <td id=\"T_c3415275_e024_11eb_b7d9_7054d2d8235erow1_col4\" class=\"data row1 col4\" >0.408</td>\n",
       "            </tr>\n",
       "            <tr>\n",
       "                                <td id=\"T_c3415275_e024_11eb_b7d9_7054d2d8235erow2_col0\" class=\"data row2 col0\" >3</td>\n",
       "                        <td id=\"T_c3415275_e024_11eb_b7d9_7054d2d8235erow2_col1\" class=\"data row2 col1\" >0.408</td>\n",
       "                        <td id=\"T_c3415275_e024_11eb_b7d9_7054d2d8235erow2_col2\" class=\"data row2 col2\" >0.001</td>\n",
       "                        <td id=\"T_c3415275_e024_11eb_b7d9_7054d2d8235erow2_col3\" class=\"data row2 col3\" >5.294</td>\n",
       "                        <td id=\"T_c3415275_e024_11eb_b7d9_7054d2d8235erow2_col4\" class=\"data row2 col4\" >0.408</td>\n",
       "            </tr>\n",
       "            <tr>\n",
       "                                <td id=\"T_c3415275_e024_11eb_b7d9_7054d2d8235erow3_col0\" class=\"data row3 col0\" >4</td>\n",
       "                        <td id=\"T_c3415275_e024_11eb_b7d9_7054d2d8235erow3_col1\" class=\"data row3 col1\" >0.408</td>\n",
       "                        <td id=\"T_c3415275_e024_11eb_b7d9_7054d2d8235erow3_col2\" class=\"data row3 col2\" >0.000</td>\n",
       "                        <td id=\"T_c3415275_e024_11eb_b7d9_7054d2d8235erow3_col3\" class=\"data row3 col3\" >5.293</td>\n",
       "                        <td id=\"T_c3415275_e024_11eb_b7d9_7054d2d8235erow3_col4\" class=\"data row3 col4\" >0.408</td>\n",
       "            </tr>\n",
       "            <tr>\n",
       "                                <td id=\"T_c3415275_e024_11eb_b7d9_7054d2d8235erow4_col0\" class=\"data row4 col0\" >5</td>\n",
       "                        <td id=\"T_c3415275_e024_11eb_b7d9_7054d2d8235erow4_col1\" class=\"data row4 col1\" >0.408</td>\n",
       "                        <td id=\"T_c3415275_e024_11eb_b7d9_7054d2d8235erow4_col2\" class=\"data row4 col2\" >0.000</td>\n",
       "                        <td id=\"T_c3415275_e024_11eb_b7d9_7054d2d8235erow4_col3\" class=\"data row4 col3\" >5.293</td>\n",
       "                        <td id=\"T_c3415275_e024_11eb_b7d9_7054d2d8235erow4_col4\" class=\"data row4 col4\" >0.408</td>\n",
       "            </tr>\n",
       "            <tr>\n",
       "                                <td id=\"T_c3415275_e024_11eb_b7d9_7054d2d8235erow5_col0\" class=\"data row5 col0\" >6</td>\n",
       "                        <td id=\"T_c3415275_e024_11eb_b7d9_7054d2d8235erow5_col1\" class=\"data row5 col1\" >0.408</td>\n",
       "                        <td id=\"T_c3415275_e024_11eb_b7d9_7054d2d8235erow5_col2\" class=\"data row5 col2\" >0.000</td>\n",
       "                        <td id=\"T_c3415275_e024_11eb_b7d9_7054d2d8235erow5_col3\" class=\"data row5 col3\" >5.293</td>\n",
       "                        <td id=\"T_c3415275_e024_11eb_b7d9_7054d2d8235erow5_col4\" class=\"data row5 col4\" >0.408</td>\n",
       "            </tr>\n",
       "    </tbody></table>"
      ],
      "text/plain": [
       "<pandas.io.formats.style.Styler at 0x294902de9d0>"
      ]
     },
     "execution_count": 6,
     "metadata": {},
     "output_type": "execute_result"
    }
   ],
   "source": [
    "pd.DataFrame(out, columns = ['adım','x0','f ( x0 )','f \\' ( x0 )','x1']).style.hide_index().set_precision(3)"
   ]
  },
  {
   "cell_type": "markdown",
   "metadata": {},
   "source": [
    "# Newton-Raphson\n",
    "#### 2 Değişkenli Doğrusal Olmayan Denklem Sistemi Çözümü"
   ]
  },
  {
   "cell_type": "code",
   "execution_count": 1,
   "metadata": {},
   "outputs": [],
   "source": [
    "%reset -f"
   ]
  },
  {
   "cell_type": "code",
   "execution_count": 2,
   "metadata": {},
   "outputs": [],
   "source": [
    "import numpy as np\n",
    "import sympy as sp\n",
    "import pandas as pd"
   ]
  },
  {
   "cell_type": "code",
   "execution_count": 3,
   "metadata": {},
   "outputs": [],
   "source": [
    "x,y=sp.symbols('x y')\n",
    "Vf=sp.Matrix([[x**2 + 2*x*y - 15],\n",
    "              [3*y + 4*x*y**2 - 15]])\n",
    "\n",
    "V0=sp.Matrix([[2.2], # başlangıç değerleri !!! buradaki sympy kaldırılıp normal dizi yaparsan ileride hata veriyor\n",
    "              [1.8]])"
   ]
  },
  {
   "cell_type": "code",
   "execution_count": 4,
   "metadata": {},
   "outputs": [
    {
     "data": {
      "text/latex": [
       "$\\displaystyle \\left[\\begin{matrix}2 x + 2 y & 2 x\\\\4 y^{2} & 8 x y + 3\\end{matrix}\\right]$"
      ],
      "text/plain": [
       "Matrix([\n",
       "[2*x + 2*y,       2*x],\n",
       "[   4*y**2, 8*x*y + 3]])"
      ]
     },
     "execution_count": 4,
     "metadata": {},
     "output_type": "execute_result"
    }
   ],
   "source": [
    "# jacobian\n",
    "Js = sp.Matrix([[sp.diff(Vf[0],x), sp.diff(Vf[0],y)],\n",
    "               [sp.diff(Vf[1],x), sp.diff(Vf[1],y)]])\n",
    "Js"
   ]
  },
  {
   "cell_type": "code",
   "execution_count": 5,
   "metadata": {},
   "outputs": [],
   "source": [
    "out=[]\n",
    "out.clear()\n",
    "n=3 # tekrar sayısı"
   ]
  },
  {
   "cell_type": "code",
   "execution_count": 6,
   "metadata": {},
   "outputs": [],
   "source": [
    "for i in range(n):\n",
    "    J  = np.array(Js.subs({x:V0[0],y:V0[1]})).astype(np.float) # nümerik sonuç için sympy matrisini numpy dizisi olarak al\n",
    "    F  = np.array(Vf.subs({x:V0[0],y:V0[1]})).astype(np.float) # nümerik sonuç için sympy matrisini numpy dizisi olarak al\n",
    "    V0n= np.array(V0).astype(np.float) # nümerik sonuç için sympy matrisini numpy dizisi olarak al\n",
    "    V1 = np.linalg.solve(J, -F) + V0n   \n",
    "    V0 = sp.Matrix(V1)\n",
    "    out.append([i+1,V0n[0,0],V0n[1,0],V1[0,0],V1[1,0]])    "
   ]
  },
  {
   "cell_type": "code",
   "execution_count": 7,
   "metadata": {},
   "outputs": [
    {
     "data": {
      "text/html": [
       "<style  type=\"text/css\" >\n",
       "</style><table id=\"T_84fe5c7c_e023_11eb_a32c_7054d2d8235e\" ><thead>    <tr>        <th class=\"col_heading level0 col0\" >adım</th>        <th class=\"col_heading level0 col1\" >x0</th>        <th class=\"col_heading level0 col2\" >y0</th>        <th class=\"col_heading level0 col3\" >x1</th>        <th class=\"col_heading level0 col4\" >y1</th>    </tr></thead><tbody>\n",
       "                <tr>\n",
       "                                <td id=\"T_84fe5c7c_e023_11eb_a32c_7054d2d8235erow0_col0\" class=\"data row0 col0\" >1</td>\n",
       "                        <td id=\"T_84fe5c7c_e023_11eb_a32c_7054d2d8235erow0_col1\" class=\"data row0 col1\" >2.200</td>\n",
       "                        <td id=\"T_84fe5c7c_e023_11eb_a32c_7054d2d8235erow0_col2\" class=\"data row0 col2\" >1.800</td>\n",
       "                        <td id=\"T_84fe5c7c_e023_11eb_a32c_7054d2d8235erow0_col3\" class=\"data row0 col3\" >2.930</td>\n",
       "                        <td id=\"T_84fe5c7c_e023_11eb_a32c_7054d2d8235erow0_col4\" class=\"data row0 col4\" >0.982</td>\n",
       "            </tr>\n",
       "            <tr>\n",
       "                                <td id=\"T_84fe5c7c_e023_11eb_a32c_7054d2d8235erow1_col0\" class=\"data row1 col0\" >2</td>\n",
       "                        <td id=\"T_84fe5c7c_e023_11eb_a32c_7054d2d8235erow1_col1\" class=\"data row1 col1\" >2.930</td>\n",
       "                        <td id=\"T_84fe5c7c_e023_11eb_a32c_7054d2d8235erow1_col2\" class=\"data row1 col2\" >0.982</td>\n",
       "                        <td id=\"T_84fe5c7c_e023_11eb_a32c_7054d2d8235erow1_col3\" class=\"data row1 col3\" >3.001</td>\n",
       "                        <td id=\"T_84fe5c7c_e023_11eb_a32c_7054d2d8235erow1_col4\" class=\"data row1 col4\" >1.000</td>\n",
       "            </tr>\n",
       "            <tr>\n",
       "                                <td id=\"T_84fe5c7c_e023_11eb_a32c_7054d2d8235erow2_col0\" class=\"data row2 col0\" >3</td>\n",
       "                        <td id=\"T_84fe5c7c_e023_11eb_a32c_7054d2d8235erow2_col1\" class=\"data row2 col1\" >3.001</td>\n",
       "                        <td id=\"T_84fe5c7c_e023_11eb_a32c_7054d2d8235erow2_col2\" class=\"data row2 col2\" >1.000</td>\n",
       "                        <td id=\"T_84fe5c7c_e023_11eb_a32c_7054d2d8235erow2_col3\" class=\"data row2 col3\" >3.000</td>\n",
       "                        <td id=\"T_84fe5c7c_e023_11eb_a32c_7054d2d8235erow2_col4\" class=\"data row2 col4\" >1.000</td>\n",
       "            </tr>\n",
       "    </tbody></table>"
      ],
      "text/plain": [
       "<pandas.io.formats.style.Styler at 0x1815ff8e280>"
      ]
     },
     "execution_count": 7,
     "metadata": {},
     "output_type": "execute_result"
    }
   ],
   "source": [
    "pd.DataFrame(out, columns = ['adım','x0','y0','x1','y1']).style.hide_index().set_precision(3)"
   ]
  },
  {
   "cell_type": "markdown",
   "metadata": {},
   "source": [
    "# Sabit Noktalı İterasyon"
   ]
  },
  {
   "cell_type": "code",
   "execution_count": null,
   "metadata": {},
   "outputs": [],
   "source": []
  },
  {
   "cell_type": "code",
   "execution_count": null,
   "metadata": {},
   "outputs": [],
   "source": []
  },
  {
   "cell_type": "code",
   "execution_count": null,
   "metadata": {},
   "outputs": [],
   "source": []
  },
  {
   "cell_type": "code",
   "execution_count": null,
   "metadata": {},
   "outputs": [],
   "source": []
  },
  {
   "cell_type": "code",
   "execution_count": null,
   "metadata": {},
   "outputs": [],
   "source": []
  },
  {
   "cell_type": "code",
   "execution_count": null,
   "metadata": {},
   "outputs": [],
   "source": []
  },
  {
   "cell_type": "code",
   "execution_count": null,
   "metadata": {},
   "outputs": [],
   "source": []
  },
  {
   "cell_type": "code",
   "execution_count": null,
   "metadata": {},
   "outputs": [],
   "source": []
  },
  {
   "cell_type": "code",
   "execution_count": null,
   "metadata": {},
   "outputs": [],
   "source": []
  },
  {
   "cell_type": "code",
   "execution_count": null,
   "metadata": {},
   "outputs": [],
   "source": []
  },
  {
   "cell_type": "code",
   "execution_count": null,
   "metadata": {},
   "outputs": [],
   "source": []
  },
  {
   "cell_type": "code",
   "execution_count": null,
   "metadata": {},
   "outputs": [],
   "source": []
  },
  {
   "cell_type": "code",
   "execution_count": null,
   "metadata": {},
   "outputs": [],
   "source": []
  },
  {
   "cell_type": "code",
   "execution_count": null,
   "metadata": {},
   "outputs": [],
   "source": []
  }
 ],
 "metadata": {
  "kernelspec": {
   "display_name": "Python 3",
   "language": "python",
   "name": "python3"
  },
  "language_info": {
   "codemirror_mode": {
    "name": "ipython",
    "version": 3
   },
   "file_extension": ".py",
   "mimetype": "text/x-python",
   "name": "python",
   "nbconvert_exporter": "python",
   "pygments_lexer": "ipython3",
   "version": "3.8.3"
  }
 },
 "nbformat": 4,
 "nbformat_minor": 4
}
