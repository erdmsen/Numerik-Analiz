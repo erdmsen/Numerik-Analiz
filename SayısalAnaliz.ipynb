{
 "cells": [
  {
   "cell_type": "code",
   "execution_count": 1,
   "metadata": {},
   "outputs": [],
   "source": [
    "import numpy as np\n",
    "import sympy as sp"
   ]
  },
  {
   "cell_type": "code",
   "execution_count": 6,
   "metadata": {},
   "outputs": [],
   "source": [
    "import math"
   ]
  },
  {
   "cell_type": "code",
   "execution_count": 6,
   "metadata": {},
   "outputs": [],
   "source": [
    "import pandas as pd"
   ]
  },
  {
   "cell_type": "markdown",
   "metadata": {},
   "source": [
    "# Taylor serisi"
   ]
  },
  {
   "cell_type": "code",
   "execution_count": 2,
   "metadata": {},
   "outputs": [],
   "source": [
    "#1.terim - 0.türev\n",
    "x=sp.symbols('x')"
   ]
  },
  {
   "cell_type": "code",
   "execution_count": 3,
   "metadata": {},
   "outputs": [],
   "source": [
    "f=x**2+-3*x+5\n",
    "x0=38 #fonksiyonun içindeki x değeri\n",
    "h=2\n",
    "t=6 # terim sayısı\n",
    "out=[]\n",
    "out.clear()"
   ]
  },
  {
   "cell_type": "code",
   "execution_count": 4,
   "metadata": {},
   "outputs": [
    {
     "data": {
      "image/png": "[encoded data removed]",
      "text/latex": [
       "$\\displaystyle 1335$"
      ],
      "text/plain": [
       "1335"
      ]
     },
     "execution_count": 4,
     "metadata": {},
     "output_type": "execute_result"
    }
   ],
   "source": [
    "for i in range(t): \n",
    "    out.append(sp.diff(f,x,i).subs({x:x0-h}) * h**i / math.factorial(i)) \n",
    "sum(out)"
   ]
  },
  {
   "cell_type": "code",
   "execution_count": 5,
   "metadata": {},
   "outputs": [
    {
     "name": "stdout",
     "output_type": "stream",
     "text": [
      "= 1193 + 138 + 4 + 0 + 0 + 0\n"
     ]
    }
   ],
   "source": [
    "# Terimler (derece = terim_numarası-1)\n",
    "print('= {} + {} + {} + {} + {} + {}'.format(*out))"
   ]
  },
  {
   "cell_type": "markdown",
   "metadata": {},
   "source": [
    "# Matrix"
   ]
  },
  {
   "cell_type": "code",
   "execution_count": 2,
   "metadata": {},
   "outputs": [],
   "source": [
    "A = np.array([[6, 1, 1],\n",
    "              [4, -2, 5],\n",
    "              [2, 8, 7]])"
   ]
  },
  {
   "cell_type": "markdown",
   "metadata": {},
   "source": [
    "Ters Matris"
   ]
  },
  {
   "cell_type": "code",
   "execution_count": null,
   "metadata": {},
   "outputs": [],
   "source": [
    "sp.Matrix(np.linalg.inv(A).round(3))"
   ]
  },
  {
   "cell_type": "markdown",
   "metadata": {},
   "source": [
    "Determinant"
   ]
  },
  {
   "cell_type": "code",
   "execution_count": null,
   "metadata": {},
   "outputs": [],
   "source": [
    "sp.Matrix(np.linalg.det(A).round(3))"
   ]
  },
  {
   "cell_type": "markdown",
   "metadata": {},
   "source": [
    "Matris Çarpımı"
   ]
  },
  {
   "cell_type": "code",
   "execution_count": null,
   "metadata": {},
   "outputs": [],
   "source": [
    "B = np.array([[2, 1, 1],\n",
    "              [1, -2, 5],\n",
    "              [2, 3, 1]])\n",
    "sp.Matrix(A.dot(B))"
   ]
  },
  {
   "cell_type": "markdown",
   "metadata": {},
   "source": [
    "# Crout Yöntemi"
   ]
  },
  {
   "cell_type": "code",
   "execution_count": 22,
   "metadata": {},
   "outputs": [
    {
     "data": {
      "text/latex": [
       "$\\displaystyle \\left[\\begin{matrix}1 & 1 & 1\\\\2 & 1 & -1\\\\2 & -1 & 1\\end{matrix}\\right]$"
      ],
      "text/plain": [
       "Matrix([\n",
       "[1,  1,  1],\n",
       "[2,  1, -1],\n",
       "[2, -1,  1]])"
      ]
     },
     "execution_count": 22,
     "metadata": {},
     "output_type": "execute_result"
    }
   ],
   "source": [
    "A = np.array([[1, 1, 1],\n",
    "              [2, 1, -1],\n",
    "              [2, -1, 1]])\n",
    "E = [[6],\n",
    "     [7],\n",
    "     [5]]\n",
    "\n",
    "sp.Matrix(A)"
   ]
  },
  {
   "cell_type": "code",
   "execution_count": 18,
   "metadata": {},
   "outputs": [],
   "source": [
    "sa=np.shape(A)\n",
    "rdim=sa[0]\n",
    "U = np.identity(rdim)\n",
    "L = np.zeros(shape=sa)"
   ]
  },
  {
   "cell_type": "code",
   "execution_count": 19,
   "metadata": {},
   "outputs": [],
   "source": [
    "for j in range (rdim):\n",
    "    for i in range(j,rdim):\n",
    "        sumL,sumU = 0,0\n",
    "        for k in range(j): \n",
    "            sumL = sumL + L[i,k] * U[k,j]\t\n",
    "            sumU = sumU + L[j,k] * U[k,i]\n",
    "        L[i,j] = A[i,j] - sumL\n",
    "        U[j,i] = (A[j,i] - sumU) / L[j,j]"
   ]
  },
  {
   "cell_type": "code",
   "execution_count": 20,
   "metadata": {},
   "outputs": [
    {
     "data": {
      "text/latex": [
       "$\\displaystyle \\left[\\begin{matrix}1.0 & 0.0 & 0.0\\\\2.0 & -1.0 & 0.0\\\\2.0 & -3.0 & 8.0\\end{matrix}\\right]$"
      ],
      "text/plain": [
       "Matrix([\n",
       "[1.0,  0.0, 0.0],\n",
       "[2.0, -1.0, 0.0],\n",
       "[2.0, -3.0, 8.0]])"
      ]
     },
     "execution_count": 20,
     "metadata": {},
     "output_type": "execute_result"
    }
   ],
   "source": [
    "sp.Matrix(L.round(3))"
   ]
  },
  {
   "cell_type": "code",
   "execution_count": 21,
   "metadata": {},
   "outputs": [
    {
     "data": {
      "text/latex": [
       "$\\displaystyle \\left[\\begin{matrix}1.0 & 1.0 & 1.0\\\\0.0 & 1.0 & 3.0\\\\0.0 & 0.0 & 1.0\\end{matrix}\\right]$"
      ],
      "text/plain": [
       "Matrix([\n",
       "[1.0, 1.0, 1.0],\n",
       "[0.0, 1.0, 3.0],\n",
       "[0.0, 0.0, 1.0]])"
      ]
     },
     "execution_count": 21,
     "metadata": {},
     "output_type": "execute_result"
    }
   ],
   "source": [
    "sp.Matrix(U.round(3))"
   ]
  },
  {
   "cell_type": "code",
   "execution_count": 24,
   "metadata": {},
   "outputs": [
    {
     "data": {
      "text/latex": [
       "$\\displaystyle \\left[\\begin{matrix}6.0\\\\5.0\\\\1.0\\end{matrix}\\right]$"
      ],
      "text/plain": [
       "Matrix([\n",
       "[6.0],\n",
       "[5.0],\n",
       "[1.0]])"
      ]
     },
     "execution_count": 24,
     "metadata": {},
     "output_type": "execute_result"
    }
   ],
   "source": [
    "D=np.linalg.solve(L, E)\n",
    "sp.Matrix(D.round(3))"
   ]
  },
  {
   "cell_type": "code",
   "execution_count": 25,
   "metadata": {},
   "outputs": [
    {
     "data": {
      "text/latex": [
       "$\\displaystyle \\left[\\begin{matrix}3.0\\\\2.0\\\\1.0\\end{matrix}\\right]$"
      ],
      "text/plain": [
       "Matrix([\n",
       "[3.0],\n",
       "[2.0],\n",
       "[1.0]])"
      ]
     },
     "execution_count": 25,
     "metadata": {},
     "output_type": "execute_result"
    }
   ],
   "source": [
    "X=np.linalg.solve(U, D)\n",
    "sp.Matrix(X.round(3))"
   ]
  },
  {
   "cell_type": "markdown",
   "metadata": {},
   "source": [
    "# Jacobi Yöntemi"
   ]
  },
  {
   "cell_type": "code",
   "execution_count": 2,
   "metadata": {},
   "outputs": [
    {
     "data": {
      "text/latex": [
       "$\\displaystyle \\left[\\begin{matrix}8 & 2 & 3\\\\1 & -9 & 2\\\\2 & 3 & 6\\end{matrix}\\right]$"
      ],
      "text/plain": [
       "Matrix([\n",
       "[8,  2, 3],\n",
       "[1, -9, 2],\n",
       "[2,  3, 6]])"
      ]
     },
     "execution_count": 2,
     "metadata": {},
     "output_type": "execute_result"
    }
   ],
   "source": [
    "A = np.array([[8, 2, 3],\n",
    "              [1, -9, 2],\n",
    "              [2, 3, 6]])\n",
    "E = [[30],\n",
    "     [1],\n",
    "     [31]]\n",
    "\n",
    "sp.Matrix(A)"
   ]
  },
  {
   "cell_type": "markdown",
   "metadata": {},
   "source": [
    "Pivotlar kendi satırında en büyük değere sahip olmalı, değilse değiştir. Kontrol sonrası:"
   ]
  },
  {
   "cell_type": "code",
   "execution_count": 3,
   "metadata": {},
   "outputs": [],
   "source": [
    "sa=np.shape(A)\n",
    "rdim=sa[0]\n",
    "n=4"
   ]
  },
  {
   "cell_type": "code",
   "execution_count": 4,
   "metadata": {},
   "outputs": [],
   "source": [
    "# tinyurl.com/2vxcmth8\n",
    "def jacobi(a,b,n):\n",
    "    \"\"\"BAŞLANGIÇ DEĞERLERİ\"\"\"\n",
    "    x = np.zeros(rdim) # alternatif örnek:: x=np.array([1, 2, 3])\n",
    "    # Create a vector of the diagonal elements of A and subtract them from A \n",
    "    d = np.diag(a)\n",
    "    r = a - np.diagflat(d)\n",
    "    # Iterate for N times  \n",
    "    for i in range(n):\n",
    "        x = np.diag((b - np.dot(r,x))/d)\n",
    "    return x"
   ]
  },
  {
   "cell_type": "code",
   "execution_count": 5,
   "metadata": {},
   "outputs": [
    {
     "name": "stdout",
     "output_type": "stream",
     "text": [
      "1. tekrar [ 3.75  -0.111  5.167]\n",
      "2. tekrar [1.84  1.454 3.972]\n",
      "3. tekrar [1.897 0.976 3.826]\n",
      "4. tekrar [2.071 0.95  4.046]\n"
     ]
    }
   ],
   "source": [
    "print('1. tekrar',jacobi(A,E,1).round(3))\n",
    "print('2. tekrar',jacobi(A,E,2).round(3))\n",
    "print('3. tekrar',jacobi(A,E,3).round(3))\n",
    "print('4. tekrar',jacobi(A,E,4).round(3))"
   ]
  },
  {
   "cell_type": "markdown",
   "metadata": {},
   "source": [
    "# Gauss-Seidel"
   ]
  },
  {
   "cell_type": "code",
   "execution_count": 2,
   "metadata": {},
   "outputs": [
    {
     "data": {
      "text/latex": [
       "$\\displaystyle \\left[\\begin{matrix}4 & -1 & -1\\\\6 & 8 & 0\\\\-5 & 0 & 12\\end{matrix}\\right]$"
      ],
      "text/plain": [
       "Matrix([\n",
       "[ 4, -1, -1],\n",
       "[ 6,  8,  0],\n",
       "[-5,  0, 12]])"
      ]
     },
     "execution_count": 2,
     "metadata": {},
     "output_type": "execute_result"
    }
   ],
   "source": [
    "A = np.array([[4, -1, -1],\n",
    "              [6, 8, 0],\n",
    "              [-5, 0, 12]])\n",
    "\"\"\"bu yöntemin uygulanabilmesi için gerekli kural: köşegen elemanları 0 olamaz\"\"\"\n",
    "E = [[-2],\n",
    "     [45],\n",
    "     [80]]\n",
    "\n",
    "sp.Matrix(A)"
   ]
  },
  {
   "cell_type": "code",
   "execution_count": 3,
   "metadata": {},
   "outputs": [],
   "source": [
    "sa=np.shape(A)\n",
    "rdim=sa[0]\n",
    "n=4"
   ]
  },
  {
   "cell_type": "code",
   "execution_count": 5,
   "metadata": {},
   "outputs": [],
   "source": [
    "def gauseidel(a,b,n):\n",
    "    \"\"\"BAŞLANGIÇ DEĞERLERİ\"\"\"\n",
    "    x = np.zeros(rdim) # x=np.array([1, 2, 3])\n",
    "    # Create a vector of the diagonal elements of A and subtract them from A \n",
    "    d = np.diag(a)\n",
    "    r = a - np.diagflat(d)\n",
    "    # Iterate for N times  \n",
    "    for i in range(n):\n",
    "        for j in range(len(x)):\n",
    "            x[j] = ((b - np.dot(r,x))/d)[j,j]            \n",
    "    return x"
   ]
  },
  {
   "cell_type": "code",
   "execution_count": 6,
   "metadata": {},
   "outputs": [
    {
     "name": "stdout",
     "output_type": "stream",
     "text": [
      "1. tekrar [-0.5    6.     6.458]\n",
      "2. tekrar [2.615 3.664 7.756]\n",
      "3. tekrar [2.355 3.859 7.648]\n",
      "4. tekrar [2.377 3.843 7.657]\n"
     ]
    }
   ],
   "source": [
    "print('1. tekrar',gauseidel(A,E,1).round(3))\n",
    "print('2. tekrar',gauseidel(A,E,2).round(3))\n",
    "print('3. tekrar',gauseidel(A,E,3).round(3))\n",
    "print('4. tekrar',gauseidel(A,E,4).round(3))"
   ]
  },
  {
   "cell_type": "code",
   "execution_count": null,
   "metadata": {},
   "outputs": [],
   "source": []
  },
  {
   "cell_type": "code",
   "execution_count": null,
   "metadata": {},
   "outputs": [],
   "source": []
  },
  {
   "cell_type": "code",
   "execution_count": null,
   "metadata": {},
   "outputs": [],
   "source": []
  },
  {
   "cell_type": "code",
   "execution_count": null,
   "metadata": {},
   "outputs": [],
   "source": []
  },
  {
   "cell_type": "code",
   "execution_count": null,
   "metadata": {},
   "outputs": [],
   "source": []
  },
  {
   "cell_type": "code",
   "execution_count": null,
   "metadata": {},
   "outputs": [],
   "source": []
  },
  {
   "cell_type": "code",
   "execution_count": null,
   "metadata": {},
   "outputs": [],
   "source": []
  }
 ],
 "metadata": {
  "kernelspec": {
   "display_name": "Python 3",
   "language": "python",
   "name": "python3"
  },
  "language_info": {
   "codemirror_mode": {
    "name": "ipython",
    "version": 3
   },
   "file_extension": ".py",
   "mimetype": "text/x-python",
   "name": "python",
   "nbconvert_exporter": "python",
   "pygments_lexer": "ipython3",
   "version": "3.8.3"
  }
 },
 "nbformat": 4,
 "nbformat_minor": 4
}
