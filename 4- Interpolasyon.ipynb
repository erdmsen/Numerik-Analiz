{
 "cells": [
  {
   "cell_type": "markdown",
   "metadata": {},
   "source": [
    "# Newton İleri Fark Yöntemi"
   ]
  },
  {
   "cell_type": "code",
   "execution_count": 168,
   "metadata": {},
   "outputs": [],
   "source": [
    "%reset -f"
   ]
  },
  {
   "cell_type": "code",
   "execution_count": 169,
   "metadata": {},
   "outputs": [],
   "source": [
    "import numpy as np\n",
    "import sympy as sp"
   ]
  },
  {
   "cell_type": "code",
   "execution_count": 170,
   "metadata": {},
   "outputs": [],
   "source": [
    "xx=[4,6,8,10]\n",
    "yy=[1,3,8,16]"
   ]
  },
  {
   "cell_type": "code",
   "execution_count": 171,
   "metadata": {},
   "outputs": [],
   "source": [
    "dy=[]\n",
    "dy.clear()\n",
    "ly=len(yy)\n",
    "\n",
    "for i in range(1,ly):\n",
    "    dy.append(list(np.diff(yy,i)))\n",
    "#dy"
   ]
  },
  {
   "cell_type": "code",
   "execution_count": 172,
   "metadata": {},
   "outputs": [],
   "source": [
    "x=sp.symbols('x')\n",
    "dx=[0]*ly\n",
    "dx[0]=x-xx[0]\n",
    "for i in range(1,ly): \n",
    "    dx[i]= (x-xx[i])*dx[i-1] \n",
    "#dx"
   ]
  },
  {
   "cell_type": "code",
   "execution_count": 173,
   "metadata": {},
   "outputs": [
    {
     "data": {
      "text/latex": [
       "$\\displaystyle \\frac{3 x^{2}}{8} - \\frac{11 x}{4} + 6$"
      ],
      "text/plain": [
       "3*x**2/8 - 11*x/4 + 6"
      ]
     },
     "execution_count": 173,
     "metadata": {},
     "output_type": "execute_result"
    }
   ],
   "source": [
    "'''Terim sayısı'''\n",
    "n=3\n",
    "\n",
    "h=xx[1]-xx[0]\n",
    "p=yy[0]\n",
    "for i in range(n-1):\n",
    "    p += dx[i]*dy[i][0] / (sp.factorial(i+1) * h**(i+1))\n",
    "\n",
    "p.simplify()"
   ]
  },
  {
   "cell_type": "code",
   "execution_count": 174,
   "metadata": {},
   "outputs": [
    {
     "data": {
      "text/latex": [
       "$\\displaystyle \\frac{9}{8}$"
      ],
      "text/plain": [
       "9/8"
      ]
     },
     "execution_count": 174,
     "metadata": {},
     "output_type": "execute_result"
    }
   ],
   "source": [
    "p.subs({x:3})"
   ]
  },
  {
   "cell_type": "markdown",
   "metadata": {},
   "source": [
    "# Gregory-Newton Yöntemi"
   ]
  },
  {
   "cell_type": "code",
   "execution_count": 5,
   "metadata": {},
   "outputs": [],
   "source": [
    "%reset -f"
   ]
  },
  {
   "cell_type": "code",
   "execution_count": 6,
   "metadata": {},
   "outputs": [],
   "source": [
    "import numpy as np\n",
    "import sympy as sp"
   ]
  },
  {
   "cell_type": "code",
   "execution_count": 7,
   "metadata": {},
   "outputs": [],
   "source": [
    "xx=[40,48,56,64,72]\n",
    "yy=[55.3,83.7,123.8,179.2,254.5]"
   ]
  },
  {
   "cell_type": "code",
   "execution_count": 8,
   "metadata": {},
   "outputs": [],
   "source": [
    "ly=len(yy)\n",
    "\n",
    "# x_ sembolik fark\n",
    "x=sp.symbols('x')\n",
    "Dx=[0]*ly\n",
    "Dx[0]=x-xx[0]\n",
    "for i in range(1,ly): Dx[i] = (x-xx[i])*Dx[i-1]"
   ]
  },
  {
   "cell_type": "code",
   "execution_count": 9,
   "metadata": {},
   "outputs": [
    {
     "data": {
      "text/plain": [
       "[55.3, 3.55, 0.091, 0.001]"
      ]
     },
     "execution_count": 9,
     "metadata": {},
     "output_type": "execute_result"
    }
   ],
   "source": [
    "# katsayılar\n",
    "a=[]\n",
    "a.clear()\n",
    "a.append(\n",
    "    yy[0])\n",
    "a.append(round(\n",
    "    (yy[1] - a[0]) / (xx[1] - xx[0]),3))\n",
    "a.append(round(\n",
    "    (yy[2] - a[0] - a[1]*(xx[2] - xx[0])) / ((xx[2] - xx[0])*(xx[2] - xx[1])),3))\n",
    "a.append(round(\n",
    "    (yy[3] - a[0] - a[1]*(xx[3] - xx[0]) - a[2]*(xx[3] - xx[0])*(xx[3] - xx[1])) / ((xx[3] - xx[0])*(xx[3] - xx[1])*(xx[3] - xx[2])),3))\n",
    "a"
   ]
  },
  {
   "cell_type": "code",
   "execution_count": 10,
   "metadata": {},
   "outputs": [
    {
     "data": {
      "text/latex": [
       "$\\displaystyle 0.001 x^{3} - 0.053 x^{2} + 2.39 x - 19.5$"
      ],
      "text/plain": [
       "0.001*x**3 - 0.053*x**2 + 2.39*x - 19.5"
      ]
     },
     "execution_count": 10,
     "metadata": {},
     "output_type": "execute_result"
    }
   ],
   "source": [
    "''''''\n",
    "# derece\n",
    "d=3\n",
    "''''''\n",
    "p=a[0]\n",
    "for i in range(d):\n",
    "    p += a[i+1]*Dx[i]\n",
    "p.simplify()"
   ]
  },
  {
   "cell_type": "code",
   "execution_count": 11,
   "metadata": {},
   "outputs": [
    {
     "data": {
      "text/latex": [
       "$\\displaystyle 102.076$"
      ],
      "text/plain": [
       "102.076000000000"
      ]
     },
     "execution_count": 11,
     "metadata": {},
     "output_type": "execute_result"
    }
   ],
   "source": [
    "p.subs({x:52})"
   ]
  },
  {
   "cell_type": "markdown",
   "metadata": {},
   "source": [
    "# Bölünmüş Farklar Yöntemi"
   ]
  },
  {
   "cell_type": "code",
   "execution_count": 1,
   "metadata": {},
   "outputs": [],
   "source": [
    "%reset -f"
   ]
  },
  {
   "cell_type": "code",
   "execution_count": 2,
   "metadata": {},
   "outputs": [],
   "source": [
    "import numpy as np\n",
    "import sympy as sp"
   ]
  },
  {
   "cell_type": "code",
   "execution_count": 3,
   "metadata": {},
   "outputs": [],
   "source": [
    "xx=[1,1.1,1.2,1.3]\n",
    "yy=[0.5403,0.4536,0.3624,0.2675]"
   ]
  },
  {
   "cell_type": "code",
   "execution_count": 4,
   "metadata": {},
   "outputs": [],
   "source": [
    "ly=len(yy)\n",
    "ddy=np.zeros([ly, ly])\n",
    "ddy[:,0] = yy\n",
    "for j in range(1,ly):\n",
    "    for i in range(ly-j):\n",
    "        ddy[i,j] = (ddy[i+1,j-1] - ddy[i,j-1]) / (xx[i+j]-xx[i])"
   ]
  },
  {
   "cell_type": "code",
   "execution_count": 5,
   "metadata": {},
   "outputs": [
    {
     "data": {
      "text/latex": [
       "$\\displaystyle \\left[\\begin{matrix}-0.867 & -0.225 & 0.133\\\\-0.912 & -0.185 & 0.0\\\\-0.949 & 0.0 & 0.0\\\\0.0 & 0.0 & 0.0\\end{matrix}\\right]$"
      ],
      "text/plain": [
       "Matrix([\n",
       "[-0.867, -0.225, 0.133],\n",
       "[-0.912, -0.185,   0.0],\n",
       "[-0.949,    0.0,   0.0],\n",
       "[   0.0,    0.0,   0.0]])"
      ]
     },
     "execution_count": 5,
     "metadata": {},
     "output_type": "execute_result"
    }
   ],
   "source": [
    "ddy=sp.Matrix(ddy[0:ly,1:].round(3))\n",
    "ddy"
   ]
  },
  {
   "cell_type": "code",
   "execution_count": 6,
   "metadata": {},
   "outputs": [
    {
     "data": {
      "text/latex": [
       "$\\displaystyle \\left[\\begin{matrix}x - 1\\\\\\left(x - 1.1\\right) \\left(x - 1\\right)\\\\\\left(x - 1.2\\right) \\left(x - 1.1\\right) \\left(x - 1\\right)\\\\\\left(x - 1.3\\right) \\left(x - 1.2\\right) \\left(x - 1.1\\right) \\left(x - 1\\right)\\end{matrix}\\right]$"
      ],
      "text/plain": [
       "Matrix([\n",
       "[                                x - 1],\n",
       "[                    (x - 1.1)*(x - 1)],\n",
       "[          (x - 1.2)*(x - 1.1)*(x - 1)],\n",
       "[(x - 1.3)*(x - 1.2)*(x - 1.1)*(x - 1)]])"
      ]
     },
     "execution_count": 6,
     "metadata": {},
     "output_type": "execute_result"
    }
   ],
   "source": [
    "x=sp.symbols('x')\n",
    "dx=[0]*ly\n",
    "dx[0]=x-xx[0]\n",
    "for i in range(1,ly): \n",
    "    dx[i]= (x-xx[i])*dx[i-1] \n",
    "sp.Matrix(dx)"
   ]
  },
  {
   "cell_type": "code",
   "execution_count": 7,
   "metadata": {},
   "outputs": [
    {
     "data": {
      "text/latex": [
       "$\\displaystyle - 0.867 x - 0.949 \\left(x - 1.2\\right) \\left(x - 1.1\\right) \\left(x - 1\\right) - 0.912 \\left(x - 1.1\\right) \\left(x - 1\\right) + 1.4073$"
      ],
      "text/plain": [
       "-0.867*x - 0.949*(x - 1.2)*(x - 1.1)*(x - 1) - 0.912*(x - 1.1)*(x - 1) + 1.4073"
      ]
     },
     "execution_count": 7,
     "metadata": {},
     "output_type": "execute_result"
    }
   ],
   "source": [
    "p=yy[0]\n",
    "for i in range(ly-1):  p += dx[i]*ddy[i,0]    \n",
    "p"
   ]
  },
  {
   "cell_type": "code",
   "execution_count": 8,
   "metadata": {},
   "outputs": [
    {
     "data": {
      "text/latex": [
       "$\\displaystyle - 0.949 x^{3} + 2.2197 x^{2} - 2.38718 x + 1.65678$"
      ],
      "text/plain": [
       "-0.949*x**3 + 2.2197*x**2 - 2.38718*x + 1.65678"
      ]
     },
     "execution_count": 8,
     "metadata": {},
     "output_type": "execute_result"
    }
   ],
   "source": [
    "p.simplify()"
   ]
  },
  {
   "cell_type": "code",
   "execution_count": 9,
   "metadata": {},
   "outputs": [
    {
     "data": {
      "text/latex": [
       "$\\displaystyle 0.434$"
      ],
      "text/plain": [
       "0.434"
      ]
     },
     "execution_count": 9,
     "metadata": {},
     "output_type": "execute_result"
    }
   ],
   "source": [
    "p.subs({x:1.12}).round(3)"
   ]
  },
  {
   "cell_type": "markdown",
   "metadata": {},
   "source": [
    "# Lagrange Interpolasyonu"
   ]
  },
  {
   "cell_type": "code",
   "execution_count": 78,
   "metadata": {},
   "outputs": [],
   "source": [
    "%reset -f"
   ]
  },
  {
   "cell_type": "code",
   "execution_count": 79,
   "metadata": {},
   "outputs": [],
   "source": [
    "import sympy as sp\n",
    "import numpy as np"
   ]
  },
  {
   "cell_type": "code",
   "execution_count": 80,
   "metadata": {},
   "outputs": [],
   "source": [
    "X,Y=sp.symbols('X Y')"
   ]
  },
  {
   "cell_type": "code",
   "execution_count": 81,
   "metadata": {},
   "outputs": [],
   "source": [
    "x=np.array([0,2,4])\n",
    "y=np.array([0,0.03491,0.06993])\n",
    "\n",
    "n=y.shape[0]"
   ]
  },
  {
   "cell_type": "code",
   "execution_count": 82,
   "metadata": {},
   "outputs": [],
   "source": [
    "L = [1]*n\n",
    "for j in range(n):\n",
    "    for i in range(n):\n",
    "        if i != j:  L[j] *= (X-x[i])/(x[j]-x[i])\n",
    "# istediğin hergangi bir L terimini göster\n",
    "l=3\n",
    "sp.simplify(L[l-1])            "
   ]
  },
  {
   "cell_type": "code",
   "execution_count": 92,
   "metadata": {},
   "outputs": [
    {
     "data": {
      "text/latex": [
       "$\\displaystyle 0.0174 X$"
      ],
      "text/plain": [
       "0.0174*X"
      ]
     },
     "execution_count": 92,
     "metadata": {},
     "output_type": "execute_result"
    }
   ],
   "source": [
    "p=0\n",
    "for i in range(n): p += (L[i]*Y).subs({Y:y[i]})\n",
    "p=np.around(np.array(sp.Poly(p,X).all_coeffs()).astype(np.float),4)\n",
    "p=sp.Poly(p,X).as_expr()\n",
    "p"
   ]
  },
  {
   "cell_type": "code",
   "execution_count": 91,
   "metadata": {},
   "outputs": [
    {
     "data": {
      "text/latex": [
       "$\\displaystyle 0.052$"
      ],
      "text/plain": [
       "0.052"
      ]
     },
     "execution_count": 91,
     "metadata": {},
     "output_type": "execute_result"
    }
   ],
   "source": [
    "#polinoma değer ver:\n",
    "p.subs({X:3}).round(3)"
   ]
  },
  {
   "cell_type": "markdown",
   "metadata": {},
   "source": [
    "# En Küçük Kareler"
   ]
  },
  {
   "cell_type": "markdown",
   "metadata": {},
   "source": [
    "#### Tek değişkenli:"
   ]
  },
  {
   "cell_type": "code",
   "execution_count": 1,
   "metadata": {},
   "outputs": [],
   "source": [
    "%reset -f"
   ]
  },
  {
   "cell_type": "code",
   "execution_count": 2,
   "metadata": {},
   "outputs": [],
   "source": [
    "import numpy as np\n",
    "import sympy as sp"
   ]
  },
  {
   "cell_type": "code",
   "execution_count": 3,
   "metadata": {},
   "outputs": [],
   "source": [
    "xx=np.array([0,1,2,3,4,5])\n",
    "yy=np.array([2.1,7.7,13.6,27.2,40.9,61.1])\n",
    "# değişim gerekiyorsa burada yap (örn. x=np.log(xx)):\n",
    "x=xx\n",
    "y=yy"
   ]
  },
  {
   "cell_type": "code",
   "execution_count": 4,
   "metadata": {},
   "outputs": [],
   "source": [
    "n=y.shape[0]\n",
    "sumx=np.sum(x)\n",
    "sumy=np.sum(y)"
   ]
  },
  {
   "cell_type": "code",
   "execution_count": 5,
   "metadata": {},
   "outputs": [],
   "source": [
    "A=np.array([[n, sumx],\n",
    "            [sumx, np.sum(np.square(x))]])\n",
    "E=np.array([[np.sum(y)], \n",
    "            [np.sum(y*x)]])\n",
    "V=np.linalg.solve(A, E)"
   ]
  },
  {
   "cell_type": "code",
   "execution_count": 6,
   "metadata": {},
   "outputs": [
    {
     "data": {
      "text/latex": [
       "$\\displaystyle \\left[\\begin{matrix}6 & 15\\\\15 & 55\\end{matrix}\\right]$"
      ],
      "text/plain": [
       "Matrix([\n",
       "[ 6, 15],\n",
       "[15, 55]])"
      ]
     },
     "execution_count": 6,
     "metadata": {},
     "output_type": "execute_result"
    }
   ],
   "source": [
    "sp.Matrix(A)"
   ]
  },
  {
   "cell_type": "code",
   "execution_count": 7,
   "metadata": {},
   "outputs": [
    {
     "data": {
      "text/latex": [
       "$\\displaystyle \\left[\\begin{matrix}152.6\\\\585.6\\end{matrix}\\right]$"
      ],
      "text/plain": [
       "Matrix([\n",
       "[152.6],\n",
       "[585.6]])"
      ]
     },
     "execution_count": 7,
     "metadata": {},
     "output_type": "execute_result"
    }
   ],
   "source": [
    "sp.Matrix(E)"
   ]
  },
  {
   "cell_type": "code",
   "execution_count": 8,
   "metadata": {},
   "outputs": [
    {
     "data": {
      "text/latex": [
       "$\\displaystyle \\left[\\begin{matrix}-3.724\\\\11.663\\end{matrix}\\right]$"
      ],
      "text/plain": [
       "Matrix([\n",
       "[-3.724],\n",
       "[11.663]])"
      ]
     },
     "execution_count": 8,
     "metadata": {},
     "output_type": "execute_result"
    }
   ],
   "source": [
    "# katsayılar (c0/c1/c2)\n",
    "sp.Matrix(V.round(3))"
   ]
  },
  {
   "cell_type": "markdown",
   "metadata": {},
   "source": [
    "Hata kareleri toplamı"
   ]
  },
  {
   "cell_type": "code",
   "execution_count": 9,
   "metadata": {},
   "outputs": [
    {
     "data": {
      "text/plain": [
       "133.004"
      ]
     },
     "execution_count": 9,
     "metadata": {},
     "output_type": "execute_result"
    }
   ],
   "source": [
    "yhat=np.array([n])\n",
    "yhat=V[0]+V[1]*x\n",
    "S=np.sum(np.square(yhat-y)).round(3)\n",
    "S"
   ]
  },
  {
   "cell_type": "markdown",
   "metadata": {},
   "source": [
    "Determinasyon katsayısı"
   ]
  },
  {
   "cell_type": "code",
   "execution_count": 10,
   "metadata": {},
   "outputs": [],
   "source": [
    "R2=lambda y0,yh:(1- np.sum(np.square(y0-yh))/np.sum(np.square(y0-np.mean(y0)))).round(3)"
   ]
  },
  {
   "cell_type": "code",
   "execution_count": 11,
   "metadata": {},
   "outputs": [
    {
     "data": {
      "text/plain": [
       "0.947"
      ]
     },
     "execution_count": 11,
     "metadata": {},
     "output_type": "execute_result"
    }
   ],
   "source": [
    "R2(y,yhat)"
   ]
  },
  {
   "cell_type": "markdown",
   "metadata": {},
   "source": [
    "#### Çift değişkenli:"
   ]
  },
  {
   "cell_type": "code",
   "execution_count": 1,
   "metadata": {},
   "outputs": [],
   "source": [
    "%reset -f"
   ]
  },
  {
   "cell_type": "code",
   "execution_count": 2,
   "metadata": {},
   "outputs": [],
   "source": [
    "import numpy as np\n",
    "import sympy as sp"
   ]
  },
  {
   "cell_type": "code",
   "execution_count": 3,
   "metadata": {},
   "outputs": [],
   "source": [
    "xx=np.array([0,1,2,3,4,5])\n",
    "ww=np.array(xx*xx)\n",
    "yy=np.array([2.1,7.7,13.6,27.2,40.9,61.1])\n",
    "''' değişim gerekiyorsa burada yap (örn. x=np.log(xx)):'''\n",
    "x=xx\n",
    "y=yy\n",
    "w=ww"
   ]
  },
  {
   "cell_type": "code",
   "execution_count": 4,
   "metadata": {},
   "outputs": [],
   "source": [
    "n=y.shape[0]\n",
    "sumx=np.sum(x)\n",
    "sumw=np.sum(w)\n",
    "sumwx=np.sum(x*w)\n",
    "sumy=np.sum(y)"
   ]
  },
  {
   "cell_type": "code",
   "execution_count": 5,
   "metadata": {},
   "outputs": [],
   "source": [
    "A=np.array([[n, sumx, sumw],\n",
    "            [sumx, np.sum(np.square(x)), sumwx],\n",
    "            [sumw, sumwx, np.sum(np.square(w))]])\n",
    "E=np.array([[np.sum(y)], \n",
    "            [np.sum(y*x)],\n",
    "            [np.sum(y*x**2)]])\n",
    "V=np.linalg.solve(A, E)"
   ]
  },
  {
   "cell_type": "code",
   "execution_count": 6,
   "metadata": {},
   "outputs": [
    {
     "data": {
      "text/latex": [
       "$\\displaystyle \\left[\\begin{matrix}6 & 15 & 55\\\\15 & 55 & 225\\\\55 & 225 & 979\\end{matrix}\\right]$"
      ],
      "text/plain": [
       "Matrix([\n",
       "[ 6,  15,  55],\n",
       "[15,  55, 225],\n",
       "[55, 225, 979]])"
      ]
     },
     "execution_count": 6,
     "metadata": {},
     "output_type": "execute_result"
    }
   ],
   "source": [
    "sp.Matrix(A)"
   ]
  },
  {
   "cell_type": "code",
   "execution_count": 7,
   "metadata": {},
   "outputs": [
    {
     "data": {
      "text/latex": [
       "$\\displaystyle \\left[\\begin{matrix}152.6\\\\585.6\\\\2488.8\\end{matrix}\\right]$"
      ],
      "text/plain": [
       "Matrix([\n",
       "[ 152.6],\n",
       "[ 585.6],\n",
       "[2488.8]])"
      ]
     },
     "execution_count": 7,
     "metadata": {},
     "output_type": "execute_result"
    }
   ],
   "source": [
    "sp.Matrix(E)"
   ]
  },
  {
   "cell_type": "code",
   "execution_count": 8,
   "metadata": {},
   "outputs": [
    {
     "data": {
      "text/latex": [
       "$\\displaystyle \\left[\\begin{matrix}2.479\\\\2.359\\\\1.861\\end{matrix}\\right]$"
      ],
      "text/plain": [
       "Matrix([\n",
       "[2.479],\n",
       "[2.359],\n",
       "[1.861]])"
      ]
     },
     "execution_count": 8,
     "metadata": {},
     "output_type": "execute_result"
    }
   ],
   "source": [
    "# katsayılar\n",
    "sp.Matrix(V.round(3))"
   ]
  },
  {
   "cell_type": "markdown",
   "metadata": {},
   "source": [
    "Hata kareleri toplamı"
   ]
  },
  {
   "cell_type": "code",
   "execution_count": 14,
   "metadata": {},
   "outputs": [
    {
     "data": {
      "text/plain": [
       "3.747"
      ]
     },
     "execution_count": 14,
     "metadata": {},
     "output_type": "execute_result"
    }
   ],
   "source": [
    "yhat=np.array([n])\n",
    "yhat=V[0]+V[1]*x+V[2]*x**2\n",
    "S=np.sum(np.square(yhat-y)).round(3)\n",
    "S"
   ]
  },
  {
   "cell_type": "markdown",
   "metadata": {},
   "source": [
    "Determinasyon katsayısı"
   ]
  },
  {
   "cell_type": "code",
   "execution_count": 17,
   "metadata": {},
   "outputs": [],
   "source": [
    "R2=lambda y0,yh:(1- np.sum(np.square(y0-yh))/np.sum(np.square(y0-np.mean(y0)))).round(3)"
   ]
  },
  {
   "cell_type": "code",
   "execution_count": null,
   "metadata": {},
   "outputs": [],
   "source": [
    "R2(y,yhat)"
   ]
  }
 ],
 "metadata": {
  "kernelspec": {
   "display_name": "Python 3",
   "language": "python",
   "name": "python3"
  },
  "language_info": {
   "codemirror_mode": {
    "name": "ipython",
    "version": 3
   },
   "file_extension": ".py",
   "mimetype": "text/x-python",
   "name": "python",
   "nbconvert_exporter": "python",
   "pygments_lexer": "ipython3",
   "version": "3.8.3"
  }
 },
 "nbformat": 4,
 "nbformat_minor": 4
}
