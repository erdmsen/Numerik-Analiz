{
 "cells": [
  {
   "cell_type": "markdown",
   "metadata": {},
   "source": [
    "# Gauss Eliminasyonu"
   ]
  },
  {
   "cell_type": "code",
   "execution_count": 10,
   "metadata": {},
   "outputs": [],
   "source": [
    "%reset -f"
   ]
  },
  {
   "cell_type": "code",
   "execution_count": 11,
   "metadata": {},
   "outputs": [],
   "source": [
    "import numpy as np\n",
    "import sympy as sp"
   ]
  },
  {
   "cell_type": "code",
   "execution_count": 41,
   "metadata": {},
   "outputs": [],
   "source": [
    "A = sp.Matrix([[2, 1, -1, 2],\n",
    "              [4, 5, -3, 6],\n",
    "              [-2, 5, -2, 6],\n",
    "              [4, 11,-4, 8]])\n",
    "E = sp.Matrix([[5],\n",
    "               [9],\n",
    "               [4],\n",
    "               [2]])\n",
    "\n",
    "n=2 '''istenen adım sayısı'''"
   ]
  },
  {
   "cell_type": "code",
   "execution_count": 42,
   "metadata": {},
   "outputs": [],
   "source": [
    "sa=A.shape\n",
    "rdim=sa[0]\n",
    "cdim=sa[1]\n",
    "A=A.col_insert(cdim,E)"
   ]
  },
  {
   "cell_type": "code",
   "execution_count": 43,
   "metadata": {},
   "outputs": [
    {
     "data": {
      "text/latex": [
       "$\\displaystyle \\left[\\begin{matrix}1 & \\frac{1}{2} & - \\frac{1}{2} & 1 & \\frac{5}{2}\\\\0 & 1 & - \\frac{1}{3} & \\frac{2}{3} & - \\frac{1}{3}\\\\0 & 0 & -1 & 4 & 11\\\\0 & 0 & 1 & -2 & -5\\end{matrix}\\right]$"
      ],
      "text/plain": [
       "Matrix([\n",
       "[1, 1/2, -1/2,   1,  5/2],\n",
       "[0,   1, -1/3, 2/3, -1/3],\n",
       "[0,   0,   -1,   4,   11],\n",
       "[0,   0,    1,  -2,   -5]])"
      ]
     },
     "execution_count": 43,
     "metadata": {},
     "output_type": "execute_result"
    }
   ],
   "source": [
    "for j in range(n):\n",
    "    A[j,:]/=A[j,j]\n",
    "    for i in range(j+1,rdim):\n",
    "        A[i,:]-=A[i,j]*A[j,:]\n",
    "A"
   ]
  },
  {
   "cell_type": "markdown",
   "metadata": {},
   "source": [
    "# Crout Yöntemi"
   ]
  },
  {
   "cell_type": "code",
   "execution_count": 2,
   "metadata": {},
   "outputs": [],
   "source": [
    "%reset -f"
   ]
  },
  {
   "cell_type": "code",
   "execution_count": 3,
   "metadata": {},
   "outputs": [],
   "source": [
    "import numpy as np\n",
    "import sympy as sp"
   ]
  },
  {
   "cell_type": "code",
   "execution_count": 4,
   "metadata": {},
   "outputs": [],
   "source": [
    "A = np.array([[2, 1, -1, 2],\n",
    "                [4, 5, -3, 6],\n",
    "                [-2, 5, -2, 6],\n",
    "                [4, 11,-4, 8]])\n",
    "E = np.array([[5],\n",
    "             [9],\n",
    "             [4],\n",
    "             [2]])"
   ]
  },
  {
   "cell_type": "code",
   "execution_count": 5,
   "metadata": {},
   "outputs": [],
   "source": [
    "sa=np.shape(A)\n",
    "rdim=sa[0]\n",
    "U = np.identity(rdim)\n",
    "L = np.zeros(shape=sa)"
   ]
  },
  {
   "cell_type": "code",
   "execution_count": 6,
   "metadata": {},
   "outputs": [],
   "source": [
    "for j in range (rdim):\n",
    "    for i in range(j,rdim):\n",
    "        sumL,sumU = 0,0\n",
    "        for k in range(j): \n",
    "            sumL = sumL + L[i,k] * U[k,j]\t\n",
    "            sumU = sumU + L[j,k] * U[k,i]\n",
    "        L[i,j] = A[i,j] - sumL\n",
    "        U[j,i] = (A[j,i] - sumU) / L[j,j]"
   ]
  },
  {
   "cell_type": "code",
   "execution_count": 7,
   "metadata": {},
   "outputs": [
    {
     "data": {
      "text/latex": [
       "$\\displaystyle \\left[\\begin{matrix}2.0 & 0.0 & 0.0 & 0.0\\\\4.0 & 3.0 & 0.0 & 0.0\\\\-2.0 & 6.0 & -1.0 & 0.0\\\\4.0 & 9.0 & 1.0 & 2.0\\end{matrix}\\right]$"
      ],
      "text/plain": [
       "Matrix([\n",
       "[ 2.0, 0.0,  0.0, 0.0],\n",
       "[ 4.0, 3.0,  0.0, 0.0],\n",
       "[-2.0, 6.0, -1.0, 0.0],\n",
       "[ 4.0, 9.0,  1.0, 2.0]])"
      ]
     },
     "execution_count": 7,
     "metadata": {},
     "output_type": "execute_result"
    }
   ],
   "source": [
    "sp.Matrix(L.round(3))"
   ]
  },
  {
   "cell_type": "code",
   "execution_count": 13,
   "metadata": {},
   "outputs": [
    {
     "data": {
      "text/latex": [
       "$\\displaystyle \\left[\\begin{matrix}1.0 & 1.0 & 1.0\\\\0.0 & 1.0 & 3.0\\\\0.0 & 0.0 & 1.0\\end{matrix}\\right]$"
      ],
      "text/plain": [
       "Matrix([\n",
       "[1.0, 1.0, 1.0],\n",
       "[0.0, 1.0, 3.0],\n",
       "[0.0, 0.0, 1.0]])"
      ]
     },
     "execution_count": 13,
     "metadata": {},
     "output_type": "execute_result"
    }
   ],
   "source": [
    "sp.Matrix(U.round(3))"
   ]
  },
  {
   "cell_type": "code",
   "execution_count": 14,
   "metadata": {},
   "outputs": [
    {
     "data": {
      "text/latex": [
       "$\\displaystyle \\left[\\begin{matrix}6.0\\\\5.0\\\\1.0\\end{matrix}\\right]$"
      ],
      "text/plain": [
       "Matrix([\n",
       "[6.0],\n",
       "[5.0],\n",
       "[1.0]])"
      ]
     },
     "execution_count": 14,
     "metadata": {},
     "output_type": "execute_result"
    }
   ],
   "source": [
    "D=np.linalg.solve(L, E)\n",
    "sp.Matrix(D.round(3))"
   ]
  },
  {
   "cell_type": "code",
   "execution_count": 15,
   "metadata": {},
   "outputs": [
    {
     "data": {
      "text/latex": [
       "$\\displaystyle \\left[\\begin{matrix}3.0\\\\2.0\\\\1.0\\end{matrix}\\right]$"
      ],
      "text/plain": [
       "Matrix([\n",
       "[3.0],\n",
       "[2.0],\n",
       "[1.0]])"
      ]
     },
     "execution_count": 15,
     "metadata": {},
     "output_type": "execute_result"
    }
   ],
   "source": [
    "X=np.linalg.solve(U, D)\n",
    "sp.Matrix(X.round(3))"
   ]
  },
  {
   "cell_type": "markdown",
   "metadata": {},
   "source": [
    "# Jacobi Yöntemi"
   ]
  },
  {
   "cell_type": "markdown",
   "metadata": {},
   "source": [
    "Kullanılan kaynak:\n",
    "https://www.quantstart.com/articles/Jacobi-Method-in-Python-and-NumPy/#:~:text=The%20Jacobi%20method%20is%20a,and%20known%20vector%20or%20length%20."
   ]
  },
  {
   "cell_type": "markdown",
   "metadata": {},
   "source": [
    "Köşegen değerleri kendi satırındaki elemanların toplamından büyük olmalı, değilse satır değiştir. Kontrol sonrası:"
   ]
  },
  {
   "cell_type": "code",
   "execution_count": 38,
   "metadata": {},
   "outputs": [],
   "source": [
    "%reset -f"
   ]
  },
  {
   "cell_type": "code",
   "execution_count": 39,
   "metadata": {},
   "outputs": [],
   "source": [
    "import numpy as np"
   ]
  },
  {
   "cell_type": "code",
   "execution_count": 40,
   "metadata": {},
   "outputs": [],
   "source": [
    "A = np.array([[8, 2, 3],\n",
    "              [1, -9, 2],\n",
    "              [2, 3, 6]])\n",
    "E = np.array([[30],\n",
    "              [1],\n",
    "              [31]])"
   ]
  },
  {
   "cell_type": "code",
   "execution_count": 41,
   "metadata": {},
   "outputs": [],
   "source": [
    "sa=np.shape(A)\n",
    "rdim=sa[0]\n",
    "\"\"\"BAŞLANGIÇ DEĞERLERİ\"\"\"\n",
    "# x=np.array([1, 2, 3])\n",
    "# tekrar sayısı\n",
    "n=4"
   ]
  },
  {
   "cell_type": "code",
   "execution_count": 42,
   "metadata": {},
   "outputs": [],
   "source": [
    "def jacobi(a,b,n,x=None):\n",
    "    if x==None: x = np.zeros(rdim) \n",
    "    # Create a vector of the diagonal elements of A and subtract them from A \n",
    "    d = np.diag(a)\n",
    "    r = a - np.diagflat(d)\n",
    "    # Iterate for N times  \n",
    "    for i in range(n):\n",
    "        x = np.diag((b - np.dot(r,x))/d)\n",
    "    return x"
   ]
  },
  {
   "cell_type": "code",
   "execution_count": 21,
   "metadata": {},
   "outputs": [
    {
     "name": "stdout",
     "output_type": "stream",
     "text": [
      "1. tekrar [ 3.75  -0.111  5.167]\n",
      "2. tekrar [1.84  1.454 3.972]\n",
      "3. tekrar [1.897 0.976 3.826]\n",
      "4. tekrar [2.071 0.95  4.046]\n"
     ]
    }
   ],
   "source": [
    "print('1. tekrar',jacobi(A,E,1).round(3))\n",
    "print('2. tekrar',jacobi(A,E,2).round(3))\n",
    "print('3. tekrar',jacobi(A,E,3).round(3))\n",
    "print('4. tekrar',jacobi(A,E,4).round(3))"
   ]
  },
  {
   "cell_type": "markdown",
   "metadata": {},
   "source": [
    "# Gauss-Seidel"
   ]
  },
  {
   "cell_type": "markdown",
   "metadata": {},
   "source": [
    "Köşegen elemanları 0 olamaz. Köşegen değerleri kendi satırındaki elemanların toplamından büyük olmalı, değilse satır değiştirerek dene."
   ]
  },
  {
   "cell_type": "code",
   "execution_count": 57,
   "metadata": {},
   "outputs": [],
   "source": [
    "%reset -f"
   ]
  },
  {
   "cell_type": "code",
   "execution_count": 58,
   "metadata": {},
   "outputs": [],
   "source": [
    "import numpy as np"
   ]
  },
  {
   "cell_type": "code",
   "execution_count": 59,
   "metadata": {},
   "outputs": [],
   "source": [
    "A = np.array([[12, 7, 3],\n",
    "              [1, 5, 1],\n",
    "              [2, 7, -11]])\n",
    "E = np.array([[2],\n",
    "              [-5],\n",
    "              [6]])"
   ]
  },
  {
   "cell_type": "code",
   "execution_count": 74,
   "metadata": {},
   "outputs": [],
   "source": [
    "sa=np.shape(A)\n",
    "rdim=sa[0]\n",
    "\"\"\"BAŞLANGIÇ DEĞERLERİ\"\"\"\n",
    "x0=np.array([1, 3.3, 5])\n",
    "# tekrar sayısı\n",
    "n=4"
   ]
  },
  {
   "cell_type": "code",
   "execution_count": 75,
   "metadata": {},
   "outputs": [],
   "source": [
    "def gauseidel(a,b,n,x=np.zeros(rdim)):\n",
    "    # Create a vector of the diagonal elements of A and subtract them from A \n",
    "    d = np.diag(a)\n",
    "    r = a - np.diagflat(d)\n",
    "    # Iterate for N times  \n",
    "    for i in range(n):\n",
    "        for j in range(len(x)):\n",
    "            x[j] = ((b - np.dot(r,x))/d)[j,j]            \n",
    "    return x"
   ]
  },
  {
   "cell_type": "code",
   "execution_count": 76,
   "metadata": {},
   "outputs": [
    {
     "name": "stdout",
     "output_type": "stream",
     "text": [
      "1. tekrar [-3.008 -1.398 -1.982]\n",
      "2. tekrar [ 0.903 -1.011 -1.024]\n",
      "3. tekrar [ 1. -1. -1.]\n",
      "4. tekrar [ 1. -1. -1.]\n"
     ]
    }
   ],
   "source": [
    "print('1. tekrar',gauseidel(A,E,1,x0).round(3))\n",
    "print('2. tekrar',gauseidel(A,E,2,x0).round(3))\n",
    "print('3. tekrar',gauseidel(A,E,3,x0).round(3))\n",
    "print('4. tekrar',gauseidel(A,E,4,x0).round(3))"
   ]
  }
 ],
 "metadata": {
  "kernelspec": {
   "display_name": "Python 3",
   "language": "python",
   "name": "python3"
  },
  "language_info": {
   "codemirror_mode": {
    "name": "ipython",
    "version": 3
   },
   "file_extension": ".py",
   "mimetype": "text/x-python",
   "name": "python",
   "nbconvert_exporter": "python",
   "pygments_lexer": "ipython3",
   "version": "3.8.3"
  }
 },
 "nbformat": 4,
 "nbformat_minor": 4
}
